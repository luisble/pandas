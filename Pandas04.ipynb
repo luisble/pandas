{
 "cells": [
  {
   "cell_type": "markdown",
   "metadata": {},
   "source": [
    "# Pandas - Analise e Preparação dos Dados"
   ]
  },
  {
   "cell_type": "markdown",
   "metadata": {},
   "source": [
    "### Importação de Bibliotecas"
   ]
  },
  {
   "cell_type": "code",
   "execution_count": 1,
   "metadata": {
    "id": "C5sjNDMwt9A-"
   },
   "outputs": [],
   "source": [
    "import pandas as pd\n",
    "import numpy as np\n",
    "import matplotlib.pyplot as plt\n",
    "import seaborn as sns\n",
    "import statsmodels.api as sm\n",
    "import scipy.stats as stats\n",
    "import pylab"
   ]
  },
  {
   "cell_type": "markdown",
   "metadata": {},
   "source": [
    "### Configuração do ambiente"
   ]
  },
  {
   "cell_type": "code",
   "execution_count": 2,
   "metadata": {},
   "outputs": [],
   "source": [
    "pd.options.display.float_format = '{:20,.2f}'.format\n",
    "pd.option_context('display.precision', 2)\n",
    "plt.style.use(\"seaborn\")"
   ]
  },
  {
   "cell_type": "markdown",
   "metadata": {},
   "source": [
    "### Dataframe para o exemplo"
   ]
  },
  {
   "cell_type": "code",
   "execution_count": 3,
   "metadata": {
    "colab": {
     "base_uri": "https://localhost:8080/",
     "height": 204
    },
    "id": "-NwIaWS3uQan",
    "outputId": "2e37f670-c7ef-4a4e-d480-7ce690685552"
   },
   "outputs": [
    {
     "data": {
      "text/html": [
       "<div>\n",
       "<style scoped>\n",
       "    .dataframe tbody tr th:only-of-type {\n",
       "        vertical-align: middle;\n",
       "    }\n",
       "\n",
       "    .dataframe tbody tr th {\n",
       "        vertical-align: top;\n",
       "    }\n",
       "\n",
       "    .dataframe thead th {\n",
       "        text-align: right;\n",
       "    }\n",
       "</style>\n",
       "<table border=\"1\" class=\"dataframe\">\n",
       "  <thead>\n",
       "    <tr style=\"text-align: right;\">\n",
       "      <th></th>\n",
       "      <th>Ordem</th>\n",
       "      <th>salario</th>\n",
       "      <th>idade</th>\n",
       "      <th>tempocasa</th>\n",
       "      <th>escolar</th>\n",
       "      <th>qproj_estra</th>\n",
       "      <th>proj_sustent</th>\n",
       "      <th>proj_6sigma</th>\n",
       "      <th>proj_social</th>\n",
       "      <th>notaavalia</th>\n",
       "    </tr>\n",
       "  </thead>\n",
       "  <tbody>\n",
       "    <tr>\n",
       "      <th>0</th>\n",
       "      <td>1</td>\n",
       "      <td>8,000.80</td>\n",
       "      <td>25</td>\n",
       "      <td>4</td>\n",
       "      <td>11</td>\n",
       "      <td>1</td>\n",
       "      <td>1</td>\n",
       "      <td>1</td>\n",
       "      <td>0</td>\n",
       "      <td>79.38</td>\n",
       "    </tr>\n",
       "    <tr>\n",
       "      <th>1</th>\n",
       "      <td>2</td>\n",
       "      <td>8,500.17</td>\n",
       "      <td>24</td>\n",
       "      <td>5</td>\n",
       "      <td>11</td>\n",
       "      <td>0</td>\n",
       "      <td>0</td>\n",
       "      <td>1</td>\n",
       "      <td>0</td>\n",
       "      <td>84.13</td>\n",
       "    </tr>\n",
       "    <tr>\n",
       "      <th>2</th>\n",
       "      <td>3</td>\n",
       "      <td>3,350.59</td>\n",
       "      <td>22</td>\n",
       "      <td>1</td>\n",
       "      <td>12</td>\n",
       "      <td>0</td>\n",
       "      <td>0</td>\n",
       "      <td>0</td>\n",
       "      <td>0</td>\n",
       "      <td>46.15</td>\n",
       "    </tr>\n",
       "    <tr>\n",
       "      <th>3</th>\n",
       "      <td>4</td>\n",
       "      <td>9,500.24</td>\n",
       "      <td>28</td>\n",
       "      <td>4</td>\n",
       "      <td>14</td>\n",
       "      <td>1</td>\n",
       "      <td>0</td>\n",
       "      <td>0</td>\n",
       "      <td>1</td>\n",
       "      <td>83.85</td>\n",
       "    </tr>\n",
       "    <tr>\n",
       "      <th>4</th>\n",
       "      <td>5</td>\n",
       "      <td>1,500.63</td>\n",
       "      <td>12</td>\n",
       "      <td>2</td>\n",
       "      <td>12</td>\n",
       "      <td>0</td>\n",
       "      <td>0</td>\n",
       "      <td>0</td>\n",
       "      <td>1</td>\n",
       "      <td>73.64</td>\n",
       "    </tr>\n",
       "  </tbody>\n",
       "</table>\n",
       "</div>"
      ],
      "text/plain": [
       "   Ordem              salario  idade  tempocasa  escolar  qproj_estra  \\\n",
       "0      1             8,000.80     25          4       11            1   \n",
       "1      2             8,500.17     24          5       11            0   \n",
       "2      3             3,350.59     22          1       12            0   \n",
       "3      4             9,500.24     28          4       14            1   \n",
       "4      5             1,500.63     12          2       12            0   \n",
       "\n",
       "   proj_sustent  proj_6sigma  proj_social           notaavalia  \n",
       "0             1            1            0                79.38  \n",
       "1             0            1            0                84.13  \n",
       "2             0            0            0                46.15  \n",
       "3             0            0            1                83.85  \n",
       "4             0            0            1                73.64  "
      ]
     },
     "execution_count": 3,
     "metadata": {},
     "output_type": "execute_result"
    }
   ],
   "source": [
    "ds = pd.read_csv('Datasets\\Arquivo_Salarios_Colaboradores_2020.csv',sep=';', decimal=',')\n",
    "ds.head()"
   ]
  },
  {
   "cell_type": "code",
   "execution_count": 4,
   "metadata": {},
   "outputs": [],
   "source": [
    "#Leitura dos arquivos\n",
    "df1 = pd.read_excel(\"Datasets/Aracaju.xlsx\")\n",
    "df2 = pd.read_excel(\"Datasets/Fortaleza.xlsx\")\n",
    "df3 = pd.read_excel(\"Datasets/Natal.xlsx\")\n",
    "df4 = pd.read_excel(\"Datasets/Recife.xlsx\")\n",
    "df5 = pd.read_excel(\"Datasets/Salvador.xlsx\")\n",
    "#juntando todos os arquivos\n",
    "dfvendas = pd.concat([df1,df2,df3,df4,df5])\n",
    "dfvendas[\"Receita\"] = dfvendas[\"Vendas\"].mul(dfvendas[\"Qtde\"])"
   ]
  },
  {
   "cell_type": "markdown",
   "metadata": {},
   "source": [
    "## Visualização dos Dados"
   ]
  },
  {
   "cell_type": "markdown",
   "metadata": {},
   "source": [
    "### Gráfico de Barras"
   ]
  },
  {
   "cell_type": "code",
   "execution_count": 5,
   "metadata": {},
   "outputs": [
    {
     "data": {
      "image/png": "[encoded data removed]",
      "text/plain": [
       "<Figure size 576x396 with 1 Axes>"
      ]
     },
     "metadata": {},
     "output_type": "display_data"
    }
   ],
   "source": [
    "ds[\"idade\"].value_counts(ascending=False).plot.bar();"
   ]
  },
  {
   "cell_type": "markdown",
   "metadata": {},
   "source": [
    "### Gráfico de barras horizontais"
   ]
  },
  {
   "cell_type": "code",
   "execution_count": 6,
   "metadata": {},
   "outputs": [
    {
     "data": {
      "image/png": "[encoded data removed]",
      "text/plain": [
       "<Figure size 576x396 with 1 Axes>"
      ]
     },
     "metadata": {},
     "output_type": "display_data"
    }
   ],
   "source": [
    "ds[\"tempocasa\"].value_counts().plot.barh();"
   ]
  },
  {
   "cell_type": "markdown",
   "metadata": {},
   "source": [
    "### Ordenando o gráfico"
   ]
  },
  {
   "cell_type": "code",
   "execution_count": 7,
   "metadata": {},
   "outputs": [
    {
     "data": {
      "image/png": "[encoded data removed]",
      "text/plain": [
       "<Figure size 576x396 with 1 Axes>"
      ]
     },
     "metadata": {},
     "output_type": "display_data"
    }
   ],
   "source": [
    "ds[\"tempocasa\"].value_counts(ascending=True).plot.barh();"
   ]
  },
  {
   "cell_type": "markdown",
   "metadata": {},
   "source": [
    "### Adicionando um título e alterando o nome dos eixos"
   ]
  },
  {
   "cell_type": "code",
   "execution_count": 8,
   "metadata": {},
   "outputs": [
    {
     "data": {
      "image/png": "[encoded data removed]",
      "text/plain": [
       "<Figure size 576x396 with 1 Axes>"
      ]
     },
     "metadata": {},
     "output_type": "display_data"
    }
   ],
   "source": [
    "dfvendas[\"Cidade\"].value_counts().plot.bar(title=\"Total vendas por Cidade\")\n",
    "plt.xlabel(\"Cidade\")\n",
    "plt.ylabel(\"Total Vendas\");"
   ]
  },
  {
   "cell_type": "markdown",
   "metadata": {},
   "source": [
    "### Alterando a cor"
   ]
  },
  {
   "cell_type": "code",
   "execution_count": 9,
   "metadata": {},
   "outputs": [
    {
     "data": {
      "image/png": "[encoded data removed]",
      "text/plain": [
       "<Figure size 576x396 with 1 Axes>"
      ]
     },
     "metadata": {},
     "output_type": "display_data"
    }
   ],
   "source": [
    "dfvendas[\"Cidade\"].value_counts().plot.bar(title=\"Total vendas por Cidade\", color=\"red\")\n",
    "plt.xlabel(\"Cidade\")\n",
    "plt.ylabel(\"Total Vendas\");"
   ]
  },
  {
   "cell_type": "markdown",
   "metadata": {},
   "source": [
    "### Gráfico de Pizza"
   ]
  },
  {
   "cell_type": "code",
   "execution_count": 10,
   "metadata": {},
   "outputs": [
    {
     "data": {
      "image/png": "[encoded data removed]",
      "text/plain": [
       "<Figure size 576x396 with 1 Axes>"
      ]
     },
     "metadata": {},
     "output_type": "display_data"
    }
   ],
   "source": [
    "dfvendas.groupby(dfvendas[\"Data\"].dt.year)[\"Receita\"].sum().plot.pie();"
   ]
  },
  {
   "cell_type": "markdown",
   "metadata": {},
   "source": [
    "### Gráfico de Linha"
   ]
  },
  {
   "cell_type": "code",
   "execution_count": 11,
   "metadata": {},
   "outputs": [
    {
     "data": {
      "image/png": "[encoded data removed]",
      "text/plain": [
       "<Figure size 576x396 with 1 Axes>"
      ]
     },
     "metadata": {},
     "output_type": "display_data"
    }
   ],
   "source": [
    "dfvendas[\"mes_venda\"], dfvendas[\"dia_venda\"] = (dfvendas[\"Data\"].dt.month, dfvendas[\"Data\"].dt.day)\n",
    "dfvendas.groupby(dfvendas[\"mes_venda\"])[\"Qtde\"].sum().plot(title = \"Total Produtos vendidos x mês\")\n",
    "plt.xlabel(\"Mês\")\n",
    "plt.ylabel(\"Total Produtos Vendidos\")\n",
    "plt.legend();"
   ]
  },
  {
   "cell_type": "markdown",
   "metadata": {},
   "source": [
    "### Alterando o estilo"
   ]
  },
  {
   "cell_type": "code",
   "execution_count": 12,
   "metadata": {},
   "outputs": [
    {
     "data": {
      "image/png": "[encoded data removed]",
      "text/plain": [
       "<Figure size 576x396 with 1 Axes>"
      ]
     },
     "metadata": {},
     "output_type": "display_data"
    }
   ],
   "source": [
    "plt.style.use(\"ggplot\")\n",
    "dfvendas.groupby(dfvendas[\"mes_venda\"])[\"Qtde\"].sum().plot(title = \"Total Produtos vendidos x mês\")\n",
    "plt.xlabel(\"Mês\")\n",
    "plt.ylabel(\"Total Produtos Vendidos\")\n",
    "plt.legend();"
   ]
  },
  {
   "cell_type": "markdown",
   "metadata": {},
   "source": [
    "### Gráfico de Dispersão"
   ]
  },
  {
   "cell_type": "code",
   "execution_count": 13,
   "metadata": {},
   "outputs": [
    {
     "data": {
      "image/png": "[encoded data removed]",
      "text/plain": [
       "<Figure size 576x396 with 1 Axes>"
      ]
     },
     "metadata": {},
     "output_type": "display_data"
    }
   ],
   "source": [
    "dfvendas[\"Ano_Venda\"] = dfvendas[\"Data\"].dt.year\n",
    "df_2019 = dfvendas[dfvendas[\"Ano_Venda\"] == 2019]\n",
    "plt.scatter(x=df_2019[\"dia_venda\"], y = df_2019[\"Receita\"])\n",
    "plt.xlabel(\"Dia da Venda\")\n",
    "plt.ylabel(\"Receita\");"
   ]
  },
  {
   "cell_type": "markdown",
   "metadata": {},
   "source": [
    "### Salvando a imagem"
   ]
  },
  {
   "cell_type": "code",
   "execution_count": 14,
   "metadata": {},
   "outputs": [
    {
     "data": {
      "image/png": "[encoded data removed]",
      "text/plain": [
       "<Figure size 576x396 with 1 Axes>"
      ]
     },
     "metadata": {},
     "output_type": "display_data"
    }
   ],
   "source": [
    "df_2019.groupby(df_2019[\"mes_venda\"])[\"Qtde\"].sum().plot(marker = \"v\")\n",
    "plt.title(\"Quantidade de produtos vendidos x mês\")\n",
    "plt.xlabel(\"Mês\")\n",
    "plt.ylabel(\"Total Produtos Vendidos\");\n",
    "plt.legend()\n",
    "plt.savefig(\"grafico QTDE x MES.png\")"
   ]
  },
  {
   "cell_type": "markdown",
   "metadata": {},
   "source": [
    "## Análises Diversas e Preparação dos Dados"
   ]
  },
  {
   "cell_type": "markdown",
   "metadata": {},
   "source": [
    "### Estatísticas do Dataframe"
   ]
  },
  {
   "cell_type": "code",
   "execution_count": 15,
   "metadata": {},
   "outputs": [
    {
     "data": {
      "text/html": [
       "<div>\n",
       "<style scoped>\n",
       "    .dataframe tbody tr th:only-of-type {\n",
       "        vertical-align: middle;\n",
       "    }\n",
       "\n",
       "    .dataframe tbody tr th {\n",
       "        vertical-align: top;\n",
       "    }\n",
       "\n",
       "    .dataframe thead th {\n",
       "        text-align: right;\n",
       "    }\n",
       "</style>\n",
       "<table border=\"1\" class=\"dataframe\">\n",
       "  <thead>\n",
       "    <tr style=\"text-align: right;\">\n",
       "      <th></th>\n",
       "      <th>Ordem</th>\n",
       "      <th>salario</th>\n",
       "      <th>idade</th>\n",
       "      <th>tempocasa</th>\n",
       "      <th>escolar</th>\n",
       "      <th>qproj_estra</th>\n",
       "      <th>proj_sustent</th>\n",
       "      <th>proj_6sigma</th>\n",
       "      <th>proj_social</th>\n",
       "      <th>notaavalia</th>\n",
       "    </tr>\n",
       "  </thead>\n",
       "  <tbody>\n",
       "    <tr>\n",
       "      <th>count</th>\n",
       "      <td>180.00</td>\n",
       "      <td>180.00</td>\n",
       "      <td>180.00</td>\n",
       "      <td>180.00</td>\n",
       "      <td>180.00</td>\n",
       "      <td>180.00</td>\n",
       "      <td>180.00</td>\n",
       "      <td>180.00</td>\n",
       "      <td>180.00</td>\n",
       "      <td>180.00</td>\n",
       "    </tr>\n",
       "    <tr>\n",
       "      <th>mean</th>\n",
       "      <td>90.50</td>\n",
       "      <td>8,539.49</td>\n",
       "      <td>31.04</td>\n",
       "      <td>9.07</td>\n",
       "      <td>12.58</td>\n",
       "      <td>1.27</td>\n",
       "      <td>0.28</td>\n",
       "      <td>0.55</td>\n",
       "      <td>0.50</td>\n",
       "      <td>71.74</td>\n",
       "    </tr>\n",
       "    <tr>\n",
       "      <th>std</th>\n",
       "      <td>52.11</td>\n",
       "      <td>4,729.51</td>\n",
       "      <td>9.40</td>\n",
       "      <td>5.61</td>\n",
       "      <td>2.57</td>\n",
       "      <td>1.22</td>\n",
       "      <td>0.45</td>\n",
       "      <td>0.50</td>\n",
       "      <td>0.50</td>\n",
       "      <td>15.99</td>\n",
       "    </tr>\n",
       "    <tr>\n",
       "      <th>min</th>\n",
       "      <td>1.00</td>\n",
       "      <td>1,500.63</td>\n",
       "      <td>12.00</td>\n",
       "      <td>1.00</td>\n",
       "      <td>7.00</td>\n",
       "      <td>0.00</td>\n",
       "      <td>0.00</td>\n",
       "      <td>0.00</td>\n",
       "      <td>0.00</td>\n",
       "      <td>34.48</td>\n",
       "    </tr>\n",
       "    <tr>\n",
       "      <th>25%</th>\n",
       "      <td>45.75</td>\n",
       "      <td>5,491.23</td>\n",
       "      <td>24.00</td>\n",
       "      <td>5.00</td>\n",
       "      <td>11.00</td>\n",
       "      <td>1.00</td>\n",
       "      <td>0.00</td>\n",
       "      <td>0.00</td>\n",
       "      <td>0.00</td>\n",
       "      <td>60.41</td>\n",
       "    </tr>\n",
       "    <tr>\n",
       "      <th>50%</th>\n",
       "      <td>90.50</td>\n",
       "      <td>7,551.12</td>\n",
       "      <td>28.00</td>\n",
       "      <td>7.00</td>\n",
       "      <td>13.00</td>\n",
       "      <td>1.00</td>\n",
       "      <td>0.00</td>\n",
       "      <td>1.00</td>\n",
       "      <td>0.50</td>\n",
       "      <td>72.08</td>\n",
       "    </tr>\n",
       "    <tr>\n",
       "      <th>75%</th>\n",
       "      <td>135.25</td>\n",
       "      <td>10,584.68</td>\n",
       "      <td>36.00</td>\n",
       "      <td>13.00</td>\n",
       "      <td>14.00</td>\n",
       "      <td>1.00</td>\n",
       "      <td>1.00</td>\n",
       "      <td>1.00</td>\n",
       "      <td>1.00</td>\n",
       "      <td>83.85</td>\n",
       "    </tr>\n",
       "    <tr>\n",
       "      <th>max</th>\n",
       "      <td>180.00</td>\n",
       "      <td>25,329.91</td>\n",
       "      <td>65.00</td>\n",
       "      <td>25.00</td>\n",
       "      <td>19.00</td>\n",
       "      <td>7.00</td>\n",
       "      <td>1.00</td>\n",
       "      <td>1.00</td>\n",
       "      <td>1.00</td>\n",
       "      <td>98.96</td>\n",
       "    </tr>\n",
       "  </tbody>\n",
       "</table>\n",
       "</div>"
      ],
      "text/plain": [
       "                     Ordem              salario                idade  \\\n",
       "count               180.00               180.00               180.00   \n",
       "mean                 90.50             8,539.49                31.04   \n",
       "std                  52.11             4,729.51                 9.40   \n",
       "min                   1.00             1,500.63                12.00   \n",
       "25%                  45.75             5,491.23                24.00   \n",
       "50%                  90.50             7,551.12                28.00   \n",
       "75%                 135.25            10,584.68                36.00   \n",
       "max                 180.00            25,329.91                65.00   \n",
       "\n",
       "                 tempocasa              escolar          qproj_estra  \\\n",
       "count               180.00               180.00               180.00   \n",
       "mean                  9.07                12.58                 1.27   \n",
       "std                   5.61                 2.57                 1.22   \n",
       "min                   1.00                 7.00                 0.00   \n",
       "25%                   5.00                11.00                 1.00   \n",
       "50%                   7.00                13.00                 1.00   \n",
       "75%                  13.00                14.00                 1.00   \n",
       "max                  25.00                19.00                 7.00   \n",
       "\n",
       "              proj_sustent          proj_6sigma          proj_social  \\\n",
       "count               180.00               180.00               180.00   \n",
       "mean                  0.28                 0.55                 0.50   \n",
       "std                   0.45                 0.50                 0.50   \n",
       "min                   0.00                 0.00                 0.00   \n",
       "25%                   0.00                 0.00                 0.00   \n",
       "50%                   0.00                 1.00                 0.50   \n",
       "75%                   1.00                 1.00                 1.00   \n",
       "max                   1.00                 1.00                 1.00   \n",
       "\n",
       "                notaavalia  \n",
       "count               180.00  \n",
       "mean                 71.74  \n",
       "std                  15.99  \n",
       "min                  34.48  \n",
       "25%                  60.41  \n",
       "50%                  72.08  \n",
       "75%                  83.85  \n",
       "max                  98.96  "
      ]
     },
     "execution_count": 15,
     "metadata": {},
     "output_type": "execute_result"
    }
   ],
   "source": [
    "ds.describe()"
   ]
  },
  {
   "cell_type": "markdown",
   "metadata": {},
   "source": [
    "## Avaliando as Correlações entre as variáveis"
   ]
  },
  {
   "cell_type": "markdown",
   "metadata": {
    "id": "Q2zhknv7x38w"
   },
   "source": [
    "### Correlação Pearson - Indicado para variáveis quantitativas"
   ]
  },
  {
   "cell_type": "code",
   "execution_count": 16,
   "metadata": {
    "colab": {
     "base_uri": "https://localhost:8080/",
     "height": 359
    },
    "id": "OD-veDiLuWFT",
    "outputId": "27ebfc1e-28e9-40ec-8921-9b4f87a8e593"
   },
   "outputs": [
    {
     "data": {
      "text/html": [
       "<div>\n",
       "<style scoped>\n",
       "    .dataframe tbody tr th:only-of-type {\n",
       "        vertical-align: middle;\n",
       "    }\n",
       "\n",
       "    .dataframe tbody tr th {\n",
       "        vertical-align: top;\n",
       "    }\n",
       "\n",
       "    .dataframe thead th {\n",
       "        text-align: right;\n",
       "    }\n",
       "</style>\n",
       "<table border=\"1\" class=\"dataframe\">\n",
       "  <thead>\n",
       "    <tr style=\"text-align: right;\">\n",
       "      <th></th>\n",
       "      <th>Ordem</th>\n",
       "      <th>salario</th>\n",
       "      <th>idade</th>\n",
       "      <th>tempocasa</th>\n",
       "      <th>escolar</th>\n",
       "      <th>qproj_estra</th>\n",
       "      <th>proj_sustent</th>\n",
       "      <th>proj_6sigma</th>\n",
       "      <th>proj_social</th>\n",
       "      <th>notaavalia</th>\n",
       "    </tr>\n",
       "  </thead>\n",
       "  <tbody>\n",
       "    <tr>\n",
       "      <th>Ordem</th>\n",
       "      <td>1.00</td>\n",
       "      <td>0.19</td>\n",
       "      <td>0.21</td>\n",
       "      <td>0.14</td>\n",
       "      <td>0.37</td>\n",
       "      <td>0.12</td>\n",
       "      <td>0.16</td>\n",
       "      <td>-0.01</td>\n",
       "      <td>0.13</td>\n",
       "      <td>-0.02</td>\n",
       "    </tr>\n",
       "    <tr>\n",
       "      <th>salario</th>\n",
       "      <td>0.19</td>\n",
       "      <td>1.00</td>\n",
       "      <td>0.60</td>\n",
       "      <td>0.33</td>\n",
       "      <td>0.49</td>\n",
       "      <td>0.52</td>\n",
       "      <td>-0.02</td>\n",
       "      <td>0.36</td>\n",
       "      <td>0.24</td>\n",
       "      <td>0.08</td>\n",
       "    </tr>\n",
       "    <tr>\n",
       "      <th>idade</th>\n",
       "      <td>0.21</td>\n",
       "      <td>0.60</td>\n",
       "      <td>1.00</td>\n",
       "      <td>0.22</td>\n",
       "      <td>0.30</td>\n",
       "      <td>0.49</td>\n",
       "      <td>-0.10</td>\n",
       "      <td>0.16</td>\n",
       "      <td>-0.00</td>\n",
       "      <td>0.04</td>\n",
       "    </tr>\n",
       "    <tr>\n",
       "      <th>tempocasa</th>\n",
       "      <td>0.14</td>\n",
       "      <td>0.33</td>\n",
       "      <td>0.22</td>\n",
       "      <td>1.00</td>\n",
       "      <td>-0.06</td>\n",
       "      <td>0.09</td>\n",
       "      <td>-0.04</td>\n",
       "      <td>0.12</td>\n",
       "      <td>-0.03</td>\n",
       "      <td>0.07</td>\n",
       "    </tr>\n",
       "    <tr>\n",
       "      <th>escolar</th>\n",
       "      <td>0.37</td>\n",
       "      <td>0.49</td>\n",
       "      <td>0.30</td>\n",
       "      <td>-0.06</td>\n",
       "      <td>1.00</td>\n",
       "      <td>0.30</td>\n",
       "      <td>-0.10</td>\n",
       "      <td>0.15</td>\n",
       "      <td>0.18</td>\n",
       "      <td>-0.06</td>\n",
       "    </tr>\n",
       "    <tr>\n",
       "      <th>qproj_estra</th>\n",
       "      <td>0.12</td>\n",
       "      <td>0.52</td>\n",
       "      <td>0.49</td>\n",
       "      <td>0.09</td>\n",
       "      <td>0.30</td>\n",
       "      <td>1.00</td>\n",
       "      <td>-0.06</td>\n",
       "      <td>0.25</td>\n",
       "      <td>0.26</td>\n",
       "      <td>0.09</td>\n",
       "    </tr>\n",
       "    <tr>\n",
       "      <th>proj_sustent</th>\n",
       "      <td>0.16</td>\n",
       "      <td>-0.02</td>\n",
       "      <td>-0.10</td>\n",
       "      <td>-0.04</td>\n",
       "      <td>-0.10</td>\n",
       "      <td>-0.06</td>\n",
       "      <td>1.00</td>\n",
       "      <td>-0.06</td>\n",
       "      <td>0.25</td>\n",
       "      <td>0.05</td>\n",
       "    </tr>\n",
       "    <tr>\n",
       "      <th>proj_6sigma</th>\n",
       "      <td>-0.01</td>\n",
       "      <td>0.36</td>\n",
       "      <td>0.16</td>\n",
       "      <td>0.12</td>\n",
       "      <td>0.15</td>\n",
       "      <td>0.25</td>\n",
       "      <td>-0.06</td>\n",
       "      <td>1.00</td>\n",
       "      <td>0.06</td>\n",
       "      <td>0.07</td>\n",
       "    </tr>\n",
       "    <tr>\n",
       "      <th>proj_social</th>\n",
       "      <td>0.13</td>\n",
       "      <td>0.24</td>\n",
       "      <td>-0.00</td>\n",
       "      <td>-0.03</td>\n",
       "      <td>0.18</td>\n",
       "      <td>0.26</td>\n",
       "      <td>0.25</td>\n",
       "      <td>0.06</td>\n",
       "      <td>1.00</td>\n",
       "      <td>0.12</td>\n",
       "    </tr>\n",
       "    <tr>\n",
       "      <th>notaavalia</th>\n",
       "      <td>-0.02</td>\n",
       "      <td>0.08</td>\n",
       "      <td>0.04</td>\n",
       "      <td>0.07</td>\n",
       "      <td>-0.06</td>\n",
       "      <td>0.09</td>\n",
       "      <td>0.05</td>\n",
       "      <td>0.07</td>\n",
       "      <td>0.12</td>\n",
       "      <td>1.00</td>\n",
       "    </tr>\n",
       "  </tbody>\n",
       "</table>\n",
       "</div>"
      ],
      "text/plain": [
       "                            Ordem              salario                idade  \\\n",
       "Ordem                        1.00                 0.19                 0.21   \n",
       "salario                      0.19                 1.00                 0.60   \n",
       "idade                        0.21                 0.60                 1.00   \n",
       "tempocasa                    0.14                 0.33                 0.22   \n",
       "escolar                      0.37                 0.49                 0.30   \n",
       "qproj_estra                  0.12                 0.52                 0.49   \n",
       "proj_sustent                 0.16                -0.02                -0.10   \n",
       "proj_6sigma                 -0.01                 0.36                 0.16   \n",
       "proj_social                  0.13                 0.24                -0.00   \n",
       "notaavalia                  -0.02                 0.08                 0.04   \n",
       "\n",
       "                        tempocasa              escolar          qproj_estra  \\\n",
       "Ordem                        0.14                 0.37                 0.12   \n",
       "salario                      0.33                 0.49                 0.52   \n",
       "idade                        0.22                 0.30                 0.49   \n",
       "tempocasa                    1.00                -0.06                 0.09   \n",
       "escolar                     -0.06                 1.00                 0.30   \n",
       "qproj_estra                  0.09                 0.30                 1.00   \n",
       "proj_sustent                -0.04                -0.10                -0.06   \n",
       "proj_6sigma                  0.12                 0.15                 0.25   \n",
       "proj_social                 -0.03                 0.18                 0.26   \n",
       "notaavalia                   0.07                -0.06                 0.09   \n",
       "\n",
       "                     proj_sustent          proj_6sigma          proj_social  \\\n",
       "Ordem                        0.16                -0.01                 0.13   \n",
       "salario                     -0.02                 0.36                 0.24   \n",
       "idade                       -0.10                 0.16                -0.00   \n",
       "tempocasa                   -0.04                 0.12                -0.03   \n",
       "escolar                     -0.10                 0.15                 0.18   \n",
       "qproj_estra                 -0.06                 0.25                 0.26   \n",
       "proj_sustent                 1.00                -0.06                 0.25   \n",
       "proj_6sigma                 -0.06                 1.00                 0.06   \n",
       "proj_social                  0.25                 0.06                 1.00   \n",
       "notaavalia                   0.05                 0.07                 0.12   \n",
       "\n",
       "                       notaavalia  \n",
       "Ordem                       -0.02  \n",
       "salario                      0.08  \n",
       "idade                        0.04  \n",
       "tempocasa                    0.07  \n",
       "escolar                     -0.06  \n",
       "qproj_estra                  0.09  \n",
       "proj_sustent                 0.05  \n",
       "proj_6sigma                  0.07  \n",
       "proj_social                  0.12  \n",
       "notaavalia                   1.00  "
      ]
     },
     "execution_count": 16,
     "metadata": {},
     "output_type": "execute_result"
    }
   ],
   "source": [
    "ds.corr()"
   ]
  },
  {
   "cell_type": "markdown",
   "metadata": {
    "id": "tun1SjiHyyb9"
   },
   "source": [
    "### Correlação de Spearman - Correlação com variáveis não exigindo que elas sejam quantitativas"
   ]
  },
  {
   "cell_type": "code",
   "execution_count": 17,
   "metadata": {
    "colab": {
     "base_uri": "https://localhost:8080/",
     "height": 348
    },
    "id": "KDp_Pnt1yxig",
    "outputId": "a2bf30f1-823e-49c5-871f-31a9ae5ead55"
   },
   "outputs": [
    {
     "data": {
      "text/html": [
       "<div>\n",
       "<style scoped>\n",
       "    .dataframe tbody tr th:only-of-type {\n",
       "        vertical-align: middle;\n",
       "    }\n",
       "\n",
       "    .dataframe tbody tr th {\n",
       "        vertical-align: top;\n",
       "    }\n",
       "\n",
       "    .dataframe thead th {\n",
       "        text-align: right;\n",
       "    }\n",
       "</style>\n",
       "<table border=\"1\" class=\"dataframe\">\n",
       "  <thead>\n",
       "    <tr style=\"text-align: right;\">\n",
       "      <th></th>\n",
       "      <th>Ordem</th>\n",
       "      <th>salario</th>\n",
       "      <th>idade</th>\n",
       "      <th>tempocasa</th>\n",
       "      <th>escolar</th>\n",
       "      <th>qproj_estra</th>\n",
       "      <th>proj_sustent</th>\n",
       "      <th>proj_6sigma</th>\n",
       "      <th>proj_social</th>\n",
       "      <th>notaavalia</th>\n",
       "    </tr>\n",
       "  </thead>\n",
       "  <tbody>\n",
       "    <tr>\n",
       "      <th>Ordem</th>\n",
       "      <td>1.00</td>\n",
       "      <td>0.18</td>\n",
       "      <td>0.27</td>\n",
       "      <td>0.20</td>\n",
       "      <td>0.38</td>\n",
       "      <td>0.08</td>\n",
       "      <td>0.16</td>\n",
       "      <td>-0.01</td>\n",
       "      <td>0.13</td>\n",
       "      <td>-0.01</td>\n",
       "    </tr>\n",
       "    <tr>\n",
       "      <th>salario</th>\n",
       "      <td>0.18</td>\n",
       "      <td>1.00</td>\n",
       "      <td>0.49</td>\n",
       "      <td>0.32</td>\n",
       "      <td>0.48</td>\n",
       "      <td>0.44</td>\n",
       "      <td>-0.02</td>\n",
       "      <td>0.36</td>\n",
       "      <td>0.25</td>\n",
       "      <td>0.06</td>\n",
       "    </tr>\n",
       "    <tr>\n",
       "      <th>idade</th>\n",
       "      <td>0.27</td>\n",
       "      <td>0.49</td>\n",
       "      <td>1.00</td>\n",
       "      <td>0.14</td>\n",
       "      <td>0.34</td>\n",
       "      <td>0.38</td>\n",
       "      <td>-0.06</td>\n",
       "      <td>0.11</td>\n",
       "      <td>-0.01</td>\n",
       "      <td>0.07</td>\n",
       "    </tr>\n",
       "    <tr>\n",
       "      <th>tempocasa</th>\n",
       "      <td>0.20</td>\n",
       "      <td>0.32</td>\n",
       "      <td>0.14</td>\n",
       "      <td>1.00</td>\n",
       "      <td>-0.03</td>\n",
       "      <td>0.05</td>\n",
       "      <td>-0.04</td>\n",
       "      <td>0.14</td>\n",
       "      <td>-0.07</td>\n",
       "      <td>0.07</td>\n",
       "    </tr>\n",
       "    <tr>\n",
       "      <th>escolar</th>\n",
       "      <td>0.38</td>\n",
       "      <td>0.48</td>\n",
       "      <td>0.34</td>\n",
       "      <td>-0.03</td>\n",
       "      <td>1.00</td>\n",
       "      <td>0.31</td>\n",
       "      <td>-0.07</td>\n",
       "      <td>0.14</td>\n",
       "      <td>0.20</td>\n",
       "      <td>-0.03</td>\n",
       "    </tr>\n",
       "    <tr>\n",
       "      <th>qproj_estra</th>\n",
       "      <td>0.08</td>\n",
       "      <td>0.44</td>\n",
       "      <td>0.38</td>\n",
       "      <td>0.05</td>\n",
       "      <td>0.31</td>\n",
       "      <td>1.00</td>\n",
       "      <td>-0.11</td>\n",
       "      <td>0.25</td>\n",
       "      <td>0.20</td>\n",
       "      <td>0.06</td>\n",
       "    </tr>\n",
       "    <tr>\n",
       "      <th>proj_sustent</th>\n",
       "      <td>0.16</td>\n",
       "      <td>-0.02</td>\n",
       "      <td>-0.06</td>\n",
       "      <td>-0.04</td>\n",
       "      <td>-0.07</td>\n",
       "      <td>-0.11</td>\n",
       "      <td>1.00</td>\n",
       "      <td>-0.06</td>\n",
       "      <td>0.25</td>\n",
       "      <td>0.04</td>\n",
       "    </tr>\n",
       "    <tr>\n",
       "      <th>proj_6sigma</th>\n",
       "      <td>-0.01</td>\n",
       "      <td>0.36</td>\n",
       "      <td>0.11</td>\n",
       "      <td>0.14</td>\n",
       "      <td>0.14</td>\n",
       "      <td>0.25</td>\n",
       "      <td>-0.06</td>\n",
       "      <td>1.00</td>\n",
       "      <td>0.06</td>\n",
       "      <td>0.05</td>\n",
       "    </tr>\n",
       "    <tr>\n",
       "      <th>proj_social</th>\n",
       "      <td>0.13</td>\n",
       "      <td>0.25</td>\n",
       "      <td>-0.01</td>\n",
       "      <td>-0.07</td>\n",
       "      <td>0.20</td>\n",
       "      <td>0.20</td>\n",
       "      <td>0.25</td>\n",
       "      <td>0.06</td>\n",
       "      <td>1.00</td>\n",
       "      <td>0.11</td>\n",
       "    </tr>\n",
       "    <tr>\n",
       "      <th>notaavalia</th>\n",
       "      <td>-0.01</td>\n",
       "      <td>0.06</td>\n",
       "      <td>0.07</td>\n",
       "      <td>0.07</td>\n",
       "      <td>-0.03</td>\n",
       "      <td>0.06</td>\n",
       "      <td>0.04</td>\n",
       "      <td>0.05</td>\n",
       "      <td>0.11</td>\n",
       "      <td>1.00</td>\n",
       "    </tr>\n",
       "  </tbody>\n",
       "</table>\n",
       "</div>"
      ],
      "text/plain": [
       "                            Ordem              salario                idade  \\\n",
       "Ordem                        1.00                 0.18                 0.27   \n",
       "salario                      0.18                 1.00                 0.49   \n",
       "idade                        0.27                 0.49                 1.00   \n",
       "tempocasa                    0.20                 0.32                 0.14   \n",
       "escolar                      0.38                 0.48                 0.34   \n",
       "qproj_estra                  0.08                 0.44                 0.38   \n",
       "proj_sustent                 0.16                -0.02                -0.06   \n",
       "proj_6sigma                 -0.01                 0.36                 0.11   \n",
       "proj_social                  0.13                 0.25                -0.01   \n",
       "notaavalia                  -0.01                 0.06                 0.07   \n",
       "\n",
       "                        tempocasa              escolar          qproj_estra  \\\n",
       "Ordem                        0.20                 0.38                 0.08   \n",
       "salario                      0.32                 0.48                 0.44   \n",
       "idade                        0.14                 0.34                 0.38   \n",
       "tempocasa                    1.00                -0.03                 0.05   \n",
       "escolar                     -0.03                 1.00                 0.31   \n",
       "qproj_estra                  0.05                 0.31                 1.00   \n",
       "proj_sustent                -0.04                -0.07                -0.11   \n",
       "proj_6sigma                  0.14                 0.14                 0.25   \n",
       "proj_social                 -0.07                 0.20                 0.20   \n",
       "notaavalia                   0.07                -0.03                 0.06   \n",
       "\n",
       "                     proj_sustent          proj_6sigma          proj_social  \\\n",
       "Ordem                        0.16                -0.01                 0.13   \n",
       "salario                     -0.02                 0.36                 0.25   \n",
       "idade                       -0.06                 0.11                -0.01   \n",
       "tempocasa                   -0.04                 0.14                -0.07   \n",
       "escolar                     -0.07                 0.14                 0.20   \n",
       "qproj_estra                 -0.11                 0.25                 0.20   \n",
       "proj_sustent                 1.00                -0.06                 0.25   \n",
       "proj_6sigma                 -0.06                 1.00                 0.06   \n",
       "proj_social                  0.25                 0.06                 1.00   \n",
       "notaavalia                   0.04                 0.05                 0.11   \n",
       "\n",
       "                       notaavalia  \n",
       "Ordem                       -0.01  \n",
       "salario                      0.06  \n",
       "idade                        0.07  \n",
       "tempocasa                    0.07  \n",
       "escolar                     -0.03  \n",
       "qproj_estra                  0.06  \n",
       "proj_sustent                 0.04  \n",
       "proj_6sigma                  0.05  \n",
       "proj_social                  0.11  \n",
       "notaavalia                   1.00  "
      ]
     },
     "execution_count": 17,
     "metadata": {},
     "output_type": "execute_result"
    }
   ],
   "source": [
    "ds.corr(method=\"spearman\")"
   ]
  },
  {
   "cell_type": "markdown",
   "metadata": {},
   "source": [
    "## Análise com Histogramas"
   ]
  },
  {
   "cell_type": "code",
   "execution_count": 18,
   "metadata": {
    "colab": {
     "base_uri": "https://localhost:8080/",
     "height": 341
    },
    "id": "s1AnO8S_zkZK",
    "outputId": "9d3f5d24-03e9-49db-824c-d316397e1abf"
   },
   "outputs": [
    {
     "data": {
      "image/png": "[encoded data removed]",
      "text/plain": [
       "<Figure size 1080x576 with 1 Axes>"
      ]
     },
     "metadata": {},
     "output_type": "display_data"
    }
   ],
   "source": [
    "# Analisando Salário\n",
    "plt.figure(figsize=(15,8))\n",
    "plt.hist(ds.salario)\n",
    "plt.xlabel('Salario', fontsize=16)\n",
    "plt.ylabel('Qtdade', fontsize=16)\n",
    "plt.title('Histograma de Salário', fontsize=24)\n",
    "plt.show();"
   ]
  },
  {
   "cell_type": "markdown",
   "metadata": {},
   "source": [
    "### Versão Suavizada (Density=True) do Histograma"
   ]
  },
  {
   "cell_type": "code",
   "execution_count": 19,
   "metadata": {
    "colab": {
     "base_uri": "https://localhost:8080/",
     "height": 374
    },
    "id": "tQI_rs5l2eMR",
    "outputId": "8f747b80-16c5-4465-81ac-ea9afec6f280"
   },
   "outputs": [
    {
     "data": {
      "image/png": "[encoded data removed]",
      "text/plain": [
       "<Figure size 1080x576 with 1 Axes>"
      ]
     },
     "metadata": {},
     "output_type": "display_data"
    }
   ],
   "source": [
    "# Analisando Salário levando em conta a densidade\n",
    "plt.figure(figsize=(15,8))\n",
    "plt.hist(ds.salario,density=True)\n",
    "plt.xlabel('Salario', fontsize=16)\n",
    "plt.ylabel('Qtdade', fontsize=16)\n",
    "plt.title('Histograma de Salário', fontsize=24)\n",
    "plt.show();"
   ]
  },
  {
   "cell_type": "markdown",
   "metadata": {},
   "source": [
    "## Análise de Outliers com Boxplot"
   ]
  },
  {
   "cell_type": "code",
   "execution_count": 20,
   "metadata": {
    "colab": {
     "base_uri": "https://localhost:8080/",
     "height": 410
    },
    "id": "53T02_kxvWBE",
    "outputId": "d4f401e6-bf7b-4a35-f912-c663c25f2fec"
   },
   "outputs": [
    {
     "data": {
      "image/png": "[encoded data removed]",
      "text/plain": [
       "<Figure size 576x396 with 1 Axes>"
      ]
     },
     "metadata": {},
     "output_type": "display_data"
    }
   ],
   "source": [
    "plt.boxplot(ds.salario);"
   ]
  },
  {
   "cell_type": "markdown",
   "metadata": {
    "id": "ipusf6Mx75Qj"
   },
   "source": [
    "## Transformando variáveis para facilitar a análise\n",
    "#### No exemplo, criamos uma variável com a raiz quadrada de salário"
   ]
  },
  {
   "cell_type": "code",
   "execution_count": 21,
   "metadata": {
    "id": "WY1kItr5v8IC"
   },
   "outputs": [],
   "source": [
    "ds['sqrt_salario'] = ds.loc[:,'salario'].apply(lambda x : np.sqrt(x))"
   ]
  },
  {
   "cell_type": "code",
   "execution_count": 22,
   "metadata": {
    "colab": {
     "base_uri": "https://localhost:8080/",
     "height": 378
    },
    "id": "exoqW-5q8NQ1",
    "outputId": "4ff511e9-2356-48eb-901b-376c891babe1"
   },
   "outputs": [
    {
     "data": {
      "text/html": [
       "<div>\n",
       "<style scoped>\n",
       "    .dataframe tbody tr th:only-of-type {\n",
       "        vertical-align: middle;\n",
       "    }\n",
       "\n",
       "    .dataframe tbody tr th {\n",
       "        vertical-align: top;\n",
       "    }\n",
       "\n",
       "    .dataframe thead th {\n",
       "        text-align: right;\n",
       "    }\n",
       "</style>\n",
       "<table border=\"1\" class=\"dataframe\">\n",
       "  <thead>\n",
       "    <tr style=\"text-align: right;\">\n",
       "      <th></th>\n",
       "      <th>salario</th>\n",
       "      <th>sqrt_salario</th>\n",
       "    </tr>\n",
       "  </thead>\n",
       "  <tbody>\n",
       "    <tr>\n",
       "      <th>0</th>\n",
       "      <td>8,000.80</td>\n",
       "      <td>89.45</td>\n",
       "    </tr>\n",
       "    <tr>\n",
       "      <th>1</th>\n",
       "      <td>8,500.17</td>\n",
       "      <td>92.20</td>\n",
       "    </tr>\n",
       "    <tr>\n",
       "      <th>2</th>\n",
       "      <td>3,350.59</td>\n",
       "      <td>57.88</td>\n",
       "    </tr>\n",
       "    <tr>\n",
       "      <th>3</th>\n",
       "      <td>9,500.24</td>\n",
       "      <td>97.47</td>\n",
       "    </tr>\n",
       "    <tr>\n",
       "      <th>4</th>\n",
       "      <td>1,500.63</td>\n",
       "      <td>38.74</td>\n",
       "    </tr>\n",
       "    <tr>\n",
       "      <th>5</th>\n",
       "      <td>5,500.22</td>\n",
       "      <td>74.16</td>\n",
       "    </tr>\n",
       "    <tr>\n",
       "      <th>6</th>\n",
       "      <td>3,500.06</td>\n",
       "      <td>59.16</td>\n",
       "    </tr>\n",
       "    <tr>\n",
       "      <th>7</th>\n",
       "      <td>13,750.67</td>\n",
       "      <td>117.26</td>\n",
       "    </tr>\n",
       "    <tr>\n",
       "      <th>8</th>\n",
       "      <td>4,750.70</td>\n",
       "      <td>68.93</td>\n",
       "    </tr>\n",
       "    <tr>\n",
       "      <th>9</th>\n",
       "      <td>6,750.83</td>\n",
       "      <td>82.16</td>\n",
       "    </tr>\n",
       "    <tr>\n",
       "      <th>10</th>\n",
       "      <td>8,750.38</td>\n",
       "      <td>93.54</td>\n",
       "    </tr>\n",
       "  </tbody>\n",
       "</table>\n",
       "</div>"
      ],
      "text/plain": [
       "                salario         sqrt_salario\n",
       "0              8,000.80                89.45\n",
       "1              8,500.17                92.20\n",
       "2              3,350.59                57.88\n",
       "3              9,500.24                97.47\n",
       "4              1,500.63                38.74\n",
       "5              5,500.22                74.16\n",
       "6              3,500.06                59.16\n",
       "7             13,750.67               117.26\n",
       "8              4,750.70                68.93\n",
       "9              6,750.83                82.16\n",
       "10             8,750.38                93.54"
      ]
     },
     "execution_count": 22,
     "metadata": {},
     "output_type": "execute_result"
    }
   ],
   "source": [
    "ds.loc[0:10,['salario','sqrt_salario']]"
   ]
  },
  {
   "cell_type": "markdown",
   "metadata": {},
   "source": [
    "### Para validar se está correto, podemos criar uma com a potência da raiz quadrada"
   ]
  },
  {
   "cell_type": "code",
   "execution_count": 23,
   "metadata": {
    "id": "RBIrFhLc6A7f"
   },
   "outputs": [],
   "source": [
    "ds['f_salario'] = ds.loc[:,'sqrt_salario'].apply(lambda x : x**2)"
   ]
  },
  {
   "cell_type": "code",
   "execution_count": 24,
   "metadata": {
    "colab": {
     "base_uri": "https://localhost:8080/",
     "height": 378
    },
    "id": "cLLHFzUs6h6a",
    "outputId": "0af3f73f-88fe-41bd-aadd-2dd86a2526a2"
   },
   "outputs": [
    {
     "data": {
      "text/html": [
       "<div>\n",
       "<style scoped>\n",
       "    .dataframe tbody tr th:only-of-type {\n",
       "        vertical-align: middle;\n",
       "    }\n",
       "\n",
       "    .dataframe tbody tr th {\n",
       "        vertical-align: top;\n",
       "    }\n",
       "\n",
       "    .dataframe thead th {\n",
       "        text-align: right;\n",
       "    }\n",
       "</style>\n",
       "<table border=\"1\" class=\"dataframe\">\n",
       "  <thead>\n",
       "    <tr style=\"text-align: right;\">\n",
       "      <th></th>\n",
       "      <th>salario</th>\n",
       "      <th>f_salario</th>\n",
       "    </tr>\n",
       "  </thead>\n",
       "  <tbody>\n",
       "    <tr>\n",
       "      <th>0</th>\n",
       "      <td>8,000.80</td>\n",
       "      <td>8,000.80</td>\n",
       "    </tr>\n",
       "    <tr>\n",
       "      <th>1</th>\n",
       "      <td>8,500.17</td>\n",
       "      <td>8,500.17</td>\n",
       "    </tr>\n",
       "    <tr>\n",
       "      <th>2</th>\n",
       "      <td>3,350.59</td>\n",
       "      <td>3,350.59</td>\n",
       "    </tr>\n",
       "    <tr>\n",
       "      <th>3</th>\n",
       "      <td>9,500.24</td>\n",
       "      <td>9,500.24</td>\n",
       "    </tr>\n",
       "    <tr>\n",
       "      <th>4</th>\n",
       "      <td>1,500.63</td>\n",
       "      <td>1,500.63</td>\n",
       "    </tr>\n",
       "    <tr>\n",
       "      <th>5</th>\n",
       "      <td>5,500.22</td>\n",
       "      <td>5,500.22</td>\n",
       "    </tr>\n",
       "    <tr>\n",
       "      <th>6</th>\n",
       "      <td>3,500.06</td>\n",
       "      <td>3,500.06</td>\n",
       "    </tr>\n",
       "    <tr>\n",
       "      <th>7</th>\n",
       "      <td>13,750.67</td>\n",
       "      <td>13,750.67</td>\n",
       "    </tr>\n",
       "    <tr>\n",
       "      <th>8</th>\n",
       "      <td>4,750.70</td>\n",
       "      <td>4,750.70</td>\n",
       "    </tr>\n",
       "    <tr>\n",
       "      <th>9</th>\n",
       "      <td>6,750.83</td>\n",
       "      <td>6,750.83</td>\n",
       "    </tr>\n",
       "    <tr>\n",
       "      <th>10</th>\n",
       "      <td>8,750.38</td>\n",
       "      <td>8,750.38</td>\n",
       "    </tr>\n",
       "  </tbody>\n",
       "</table>\n",
       "</div>"
      ],
      "text/plain": [
       "                salario            f_salario\n",
       "0              8,000.80             8,000.80\n",
       "1              8,500.17             8,500.17\n",
       "2              3,350.59             3,350.59\n",
       "3              9,500.24             9,500.24\n",
       "4              1,500.63             1,500.63\n",
       "5              5,500.22             5,500.22\n",
       "6              3,500.06             3,500.06\n",
       "7             13,750.67            13,750.67\n",
       "8              4,750.70             4,750.70\n",
       "9              6,750.83             6,750.83\n",
       "10             8,750.38             8,750.38"
      ]
     },
     "execution_count": 24,
     "metadata": {},
     "output_type": "execute_result"
    }
   ],
   "source": [
    "ds.loc[0:10,['salario','f_salario']]"
   ]
  },
  {
   "cell_type": "markdown",
   "metadata": {},
   "source": [
    "### Com o gráfico de probabilidade, podemos ver que o valor da raiz quadrada de salário fica mais próximo de uma distribuição normal"
   ]
  },
  {
   "cell_type": "code",
   "execution_count": 25,
   "metadata": {
    "colab": {
     "base_uri": "https://localhost:8080/",
     "height": 573
    },
    "id": "AqTIZylg8S-B",
    "outputId": "e8addf54-71a9-4ac1-8e72-1da739bcf3ac"
   },
   "outputs": [
    {
     "data": {
      "image/png": "[encoded data removed]",
      "text/plain": [
       "<Figure size 576x396 with 1 Axes>"
      ]
     },
     "metadata": {},
     "output_type": "display_data"
    },
    {
     "data": {
      "image/png": "[encoded data removed]",
      "text/plain": [
       "<Figure size 576x396 with 1 Axes>"
      ]
     },
     "metadata": {},
     "output_type": "display_data"
    }
   ],
   "source": [
    "stats.probplot(ds.salario, dist=\"norm\", plot=pylab)\n",
    "pylab.show()\n",
    "stats.probplot(ds.sqrt_salario, dist=\"norm\", plot=pylab)\n",
    "pylab.show()"
   ]
  },
  {
   "cell_type": "code",
   "execution_count": 26,
   "metadata": {
    "colab": {
     "base_uri": "https://localhost:8080/",
     "height": 541
    },
    "id": "ttYUIcOF-96o",
    "outputId": "9594910c-7298-4a4b-85b5-64fdf0b5a4aa"
   },
   "outputs": [
    {
     "data": {
      "image/png": "[encoded data removed]",
      "text/plain": [
       "<Figure size 576x396 with 1 Axes>"
      ]
     },
     "metadata": {},
     "output_type": "display_data"
    },
    {
     "data": {
      "image/png": "[encoded data removed]",
      "text/plain": [
       "<Figure size 576x396 with 1 Axes>"
      ]
     },
     "metadata": {},
     "output_type": "display_data"
    }
   ],
   "source": [
    "sm.qqplot(ds.salario, line='s')\n",
    "pylab.show()\n",
    "sm.qqplot(ds.sqrt_salario, line='s')\n",
    "pylab.show()"
   ]
  },
  {
   "cell_type": "markdown",
   "metadata": {},
   "source": [
    "### Podemos usar o gráfico de regressão linear para ver se há uma correlação entre as variáveis\n",
    "\n",
    "#### Nos exemplos, testamos salario com idade, tempo de casa e demais variáveis"
   ]
  },
  {
   "cell_type": "code",
   "execution_count": 27,
   "metadata": {
    "colab": {
     "base_uri": "https://localhost:8080/",
     "height": 297
    },
    "id": "jKnnHKwM_BpH",
    "outputId": "0ffd8d33-e95c-4acd-872c-51dd22f93708"
   },
   "outputs": [
    {
     "data": {
      "image/png": "[encoded data removed]",
      "text/plain": [
       "<Figure size 576x396 with 1 Axes>"
      ]
     },
     "metadata": {},
     "output_type": "display_data"
    }
   ],
   "source": [
    "sns.regplot(x=ds[\"idade\"], y=ds[\"salario\"]);"
   ]
  },
  {
   "cell_type": "code",
   "execution_count": 28,
   "metadata": {
    "colab": {
     "base_uri": "https://localhost:8080/",
     "height": 297
    },
    "id": "9V4LD36VCEzQ",
    "outputId": "1e8a0d58-2e26-4968-f683-fc0f318ba3dd"
   },
   "outputs": [
    {
     "data": {
      "image/png": "[encoded data removed]",
      "text/plain": [
       "<Figure size 576x396 with 1 Axes>"
      ]
     },
     "metadata": {},
     "output_type": "display_data"
    }
   ],
   "source": [
    "sns.regplot(x=ds[\"tempocasa\"], y=ds[\"salario\"]);"
   ]
  },
  {
   "cell_type": "code",
   "execution_count": 29,
   "metadata": {
    "colab": {
     "base_uri": "https://localhost:8080/",
     "height": 297
    },
    "id": "cMCHbpF_CMnx",
    "outputId": "35412e85-ff1a-4b48-8e28-71533b20139e"
   },
   "outputs": [
    {
     "data": {
      "image/png": "[encoded data removed]",
      "text/plain": [
       "<Figure size 576x396 with 1 Axes>"
      ]
     },
     "metadata": {},
     "output_type": "display_data"
    }
   ],
   "source": [
    "sns.regplot(x=ds[\"notaavalia\"], y=ds[\"salario\"]);"
   ]
  },
  {
   "cell_type": "code",
   "execution_count": 30,
   "metadata": {
    "colab": {
     "base_uri": "https://localhost:8080/",
     "height": 297
    },
    "id": "Gs_GDUgnCeOL",
    "outputId": "2f7c340f-3c55-4fe6-98ef-a0f16c2b127b"
   },
   "outputs": [
    {
     "data": {
      "image/png": "[encoded data removed]",
      "text/plain": [
       "<Figure size 576x396 with 1 Axes>"
      ]
     },
     "metadata": {},
     "output_type": "display_data"
    }
   ],
   "source": [
    "sns.regplot(x=ds[\"escolar\"], y=ds[\"salario\"]);"
   ]
  },
  {
   "cell_type": "markdown",
   "metadata": {},
   "source": [
    "### Podemos analisar em gráfico de boxplot salario de acordo com a quantidade de projetos"
   ]
  },
  {
   "cell_type": "code",
   "execution_count": 31,
   "metadata": {
    "colab": {
     "base_uri": "https://localhost:8080/",
     "height": 280
    },
    "id": "pXgWBP6WCe88",
    "outputId": "2de4d047-f0e4-4b39-bd21-de5b595e146e"
   },
   "outputs": [
    {
     "data": {
      "image/png": "[encoded data removed]",
      "text/plain": [
       "<Figure size 576x396 with 1 Axes>"
      ]
     },
     "metadata": {},
     "output_type": "display_data"
    }
   ],
   "source": [
    "ax = sns.boxplot(x=\"qproj_estra\", y=\"salario\", data=ds)"
   ]
  },
  {
   "cell_type": "markdown",
   "metadata": {},
   "source": [
    "## Como também podemos analisar salário com projetos sustentáveis"
   ]
  },
  {
   "cell_type": "code",
   "execution_count": 32,
   "metadata": {
    "colab": {
     "base_uri": "https://localhost:8080/",
     "height": 280
    },
    "id": "59-BwP44C2jW",
    "outputId": "a02c43cb-a358-480c-e70a-3d3e280427cb"
   },
   "outputs": [
    {
     "data": {
      "image/png": "[encoded data removed]",
      "text/plain": [
       "<Figure size 576x396 with 1 Axes>"
      ]
     },
     "metadata": {},
     "output_type": "display_data"
    }
   ],
   "source": [
    "ax = sns.boxplot(x=\"proj_sustent\", y=\"salario\", data=ds, palette={'red','blue'})"
   ]
  },
  {
   "cell_type": "markdown",
   "metadata": {},
   "source": [
    "## Podemos analisar em conjunto com o projeto de 6sigma"
   ]
  },
  {
   "cell_type": "code",
   "execution_count": 33,
   "metadata": {
    "colab": {
     "base_uri": "https://localhost:8080/",
     "height": 280
    },
    "id": "FmwqrPjjEZID",
    "outputId": "124957d9-bf09-4eac-820b-523a2551dc77"
   },
   "outputs": [
    {
     "data": {
      "image/png": "[encoded data removed]",
      "text/plain": [
       "<Figure size 576x396 with 1 Axes>"
      ]
     },
     "metadata": {},
     "output_type": "display_data"
    }
   ],
   "source": [
    "ax = sns.boxplot(x=\"proj_6sigma\", y=\"salario\", hue=\"proj_sustent\", data=ds, palette=\"Set3\")"
   ]
  },
  {
   "cell_type": "markdown",
   "metadata": {},
   "source": [
    "### Podemos combinar na análise o Boxplot com o Swarmplot "
   ]
  },
  {
   "cell_type": "code",
   "execution_count": 34,
   "metadata": {
    "colab": {
     "base_uri": "https://localhost:8080/",
     "height": 280
    },
    "id": "BMtz2ugYElE1",
    "outputId": "d35c3c39-e78f-48b2-c6e8-5768d643aa9c"
   },
   "outputs": [
    {
     "data": {
      "image/png": "[encoded data removed]",
      "text/plain": [
       "<Figure size 576x396 with 1 Axes>"
      ]
     },
     "metadata": {},
     "output_type": "display_data"
    }
   ],
   "source": [
    "ax = sns.boxplot(x=\"proj_social\", y=\"salario\", data=ds, palette=\"Set3\")\n",
    "ax = sns.swarmplot(x=\"proj_social\", y=\"salario\", data=ds, color=\".25\")"
   ]
  },
  {
   "cell_type": "markdown",
   "metadata": {},
   "source": [
    "### Excluir as colunas criadas do Dataframe"
   ]
  },
  {
   "cell_type": "code",
   "execution_count": 35,
   "metadata": {
    "id": "8BSCFKdVIJoC"
   },
   "outputs": [],
   "source": [
    "ds = ds.drop(columns=['f_salario','sqrt_salario'])"
   ]
  },
  {
   "cell_type": "markdown",
   "metadata": {},
   "source": [
    "### Como identifcamos uma criança \"outlier\", podemos eliminá-la, criando um novo Dataframe"
   ]
  },
  {
   "cell_type": "code",
   "execution_count": 36,
   "metadata": {
    "id": "F3Aq3p_MIBNr"
   },
   "outputs": [],
   "source": [
    "salario_semout =  ds.query('idade >= 18').copy()"
   ]
  },
  {
   "cell_type": "code",
   "execution_count": 37,
   "metadata": {
    "colab": {
     "base_uri": "https://localhost:8080/"
    },
    "id": "fdhf6TPNIX8s",
    "outputId": "da22e22e-13e5-40fc-defc-bd938eae01b0"
   },
   "outputs": [
    {
     "data": {
      "text/plain": [
       "(179, 10)"
      ]
     },
     "execution_count": 37,
     "metadata": {},
     "output_type": "execute_result"
    }
   ],
   "source": [
    "salario_semout.shape"
   ]
  },
  {
   "cell_type": "markdown",
   "metadata": {},
   "source": [
    "#### e fazemos novamente a análise de correlação"
   ]
  },
  {
   "cell_type": "code",
   "execution_count": 38,
   "metadata": {
    "colab": {
     "base_uri": "https://localhost:8080/",
     "height": 348
    },
    "id": "znqmissUJUIO",
    "outputId": "a49199f2-11a4-4ee5-f038-0bba778ab148"
   },
   "outputs": [
    {
     "data": {
      "text/html": [
       "<div>\n",
       "<style scoped>\n",
       "    .dataframe tbody tr th:only-of-type {\n",
       "        vertical-align: middle;\n",
       "    }\n",
       "\n",
       "    .dataframe tbody tr th {\n",
       "        vertical-align: top;\n",
       "    }\n",
       "\n",
       "    .dataframe thead th {\n",
       "        text-align: right;\n",
       "    }\n",
       "</style>\n",
       "<table border=\"1\" class=\"dataframe\">\n",
       "  <thead>\n",
       "    <tr style=\"text-align: right;\">\n",
       "      <th></th>\n",
       "      <th>Ordem</th>\n",
       "      <th>salario</th>\n",
       "      <th>idade</th>\n",
       "      <th>tempocasa</th>\n",
       "      <th>escolar</th>\n",
       "      <th>qproj_estra</th>\n",
       "      <th>proj_sustent</th>\n",
       "      <th>proj_6sigma</th>\n",
       "      <th>proj_social</th>\n",
       "      <th>notaavalia</th>\n",
       "    </tr>\n",
       "  </thead>\n",
       "  <tbody>\n",
       "    <tr>\n",
       "      <th>Ordem</th>\n",
       "      <td>1.00</td>\n",
       "      <td>0.18</td>\n",
       "      <td>0.20</td>\n",
       "      <td>0.13</td>\n",
       "      <td>0.37</td>\n",
       "      <td>0.11</td>\n",
       "      <td>0.16</td>\n",
       "      <td>-0.02</td>\n",
       "      <td>0.15</td>\n",
       "      <td>-0.01</td>\n",
       "    </tr>\n",
       "    <tr>\n",
       "      <th>salario</th>\n",
       "      <td>0.18</td>\n",
       "      <td>1.00</td>\n",
       "      <td>0.60</td>\n",
       "      <td>0.33</td>\n",
       "      <td>0.49</td>\n",
       "      <td>0.51</td>\n",
       "      <td>-0.02</td>\n",
       "      <td>0.35</td>\n",
       "      <td>0.25</td>\n",
       "      <td>0.08</td>\n",
       "    </tr>\n",
       "    <tr>\n",
       "      <th>idade</th>\n",
       "      <td>0.20</td>\n",
       "      <td>0.60</td>\n",
       "      <td>1.00</td>\n",
       "      <td>0.20</td>\n",
       "      <td>0.30</td>\n",
       "      <td>0.48</td>\n",
       "      <td>-0.11</td>\n",
       "      <td>0.15</td>\n",
       "      <td>0.01</td>\n",
       "      <td>0.04</td>\n",
       "    </tr>\n",
       "    <tr>\n",
       "      <th>tempocasa</th>\n",
       "      <td>0.13</td>\n",
       "      <td>0.33</td>\n",
       "      <td>0.20</td>\n",
       "      <td>1.00</td>\n",
       "      <td>-0.06</td>\n",
       "      <td>0.08</td>\n",
       "      <td>-0.04</td>\n",
       "      <td>0.11</td>\n",
       "      <td>-0.03</td>\n",
       "      <td>0.07</td>\n",
       "    </tr>\n",
       "    <tr>\n",
       "      <th>escolar</th>\n",
       "      <td>0.37</td>\n",
       "      <td>0.49</td>\n",
       "      <td>0.30</td>\n",
       "      <td>-0.06</td>\n",
       "      <td>1.00</td>\n",
       "      <td>0.30</td>\n",
       "      <td>-0.10</td>\n",
       "      <td>0.15</td>\n",
       "      <td>0.18</td>\n",
       "      <td>-0.06</td>\n",
       "    </tr>\n",
       "    <tr>\n",
       "      <th>qproj_estra</th>\n",
       "      <td>0.11</td>\n",
       "      <td>0.51</td>\n",
       "      <td>0.48</td>\n",
       "      <td>0.08</td>\n",
       "      <td>0.30</td>\n",
       "      <td>1.00</td>\n",
       "      <td>-0.06</td>\n",
       "      <td>0.24</td>\n",
       "      <td>0.27</td>\n",
       "      <td>0.09</td>\n",
       "    </tr>\n",
       "    <tr>\n",
       "      <th>proj_sustent</th>\n",
       "      <td>0.16</td>\n",
       "      <td>-0.02</td>\n",
       "      <td>-0.11</td>\n",
       "      <td>-0.04</td>\n",
       "      <td>-0.10</td>\n",
       "      <td>-0.06</td>\n",
       "      <td>1.00</td>\n",
       "      <td>-0.07</td>\n",
       "      <td>0.25</td>\n",
       "      <td>0.05</td>\n",
       "    </tr>\n",
       "    <tr>\n",
       "      <th>proj_6sigma</th>\n",
       "      <td>-0.02</td>\n",
       "      <td>0.35</td>\n",
       "      <td>0.15</td>\n",
       "      <td>0.11</td>\n",
       "      <td>0.15</td>\n",
       "      <td>0.24</td>\n",
       "      <td>-0.07</td>\n",
       "      <td>1.00</td>\n",
       "      <td>0.06</td>\n",
       "      <td>0.07</td>\n",
       "    </tr>\n",
       "    <tr>\n",
       "      <th>proj_social</th>\n",
       "      <td>0.15</td>\n",
       "      <td>0.25</td>\n",
       "      <td>0.01</td>\n",
       "      <td>-0.03</td>\n",
       "      <td>0.18</td>\n",
       "      <td>0.27</td>\n",
       "      <td>0.25</td>\n",
       "      <td>0.06</td>\n",
       "      <td>1.00</td>\n",
       "      <td>0.12</td>\n",
       "    </tr>\n",
       "    <tr>\n",
       "      <th>notaavalia</th>\n",
       "      <td>-0.01</td>\n",
       "      <td>0.08</td>\n",
       "      <td>0.04</td>\n",
       "      <td>0.07</td>\n",
       "      <td>-0.06</td>\n",
       "      <td>0.09</td>\n",
       "      <td>0.05</td>\n",
       "      <td>0.07</td>\n",
       "      <td>0.12</td>\n",
       "      <td>1.00</td>\n",
       "    </tr>\n",
       "  </tbody>\n",
       "</table>\n",
       "</div>"
      ],
      "text/plain": [
       "                            Ordem              salario                idade  \\\n",
       "Ordem                        1.00                 0.18                 0.20   \n",
       "salario                      0.18                 1.00                 0.60   \n",
       "idade                        0.20                 0.60                 1.00   \n",
       "tempocasa                    0.13                 0.33                 0.20   \n",
       "escolar                      0.37                 0.49                 0.30   \n",
       "qproj_estra                  0.11                 0.51                 0.48   \n",
       "proj_sustent                 0.16                -0.02                -0.11   \n",
       "proj_6sigma                 -0.02                 0.35                 0.15   \n",
       "proj_social                  0.15                 0.25                 0.01   \n",
       "notaavalia                  -0.01                 0.08                 0.04   \n",
       "\n",
       "                        tempocasa              escolar          qproj_estra  \\\n",
       "Ordem                        0.13                 0.37                 0.11   \n",
       "salario                      0.33                 0.49                 0.51   \n",
       "idade                        0.20                 0.30                 0.48   \n",
       "tempocasa                    1.00                -0.06                 0.08   \n",
       "escolar                     -0.06                 1.00                 0.30   \n",
       "qproj_estra                  0.08                 0.30                 1.00   \n",
       "proj_sustent                -0.04                -0.10                -0.06   \n",
       "proj_6sigma                  0.11                 0.15                 0.24   \n",
       "proj_social                 -0.03                 0.18                 0.27   \n",
       "notaavalia                   0.07                -0.06                 0.09   \n",
       "\n",
       "                     proj_sustent          proj_6sigma          proj_social  \\\n",
       "Ordem                        0.16                -0.02                 0.15   \n",
       "salario                     -0.02                 0.35                 0.25   \n",
       "idade                       -0.11                 0.15                 0.01   \n",
       "tempocasa                   -0.04                 0.11                -0.03   \n",
       "escolar                     -0.10                 0.15                 0.18   \n",
       "qproj_estra                 -0.06                 0.24                 0.27   \n",
       "proj_sustent                 1.00                -0.07                 0.25   \n",
       "proj_6sigma                 -0.07                 1.00                 0.06   \n",
       "proj_social                  0.25                 0.06                 1.00   \n",
       "notaavalia                   0.05                 0.07                 0.12   \n",
       "\n",
       "                       notaavalia  \n",
       "Ordem                       -0.01  \n",
       "salario                      0.08  \n",
       "idade                        0.04  \n",
       "tempocasa                    0.07  \n",
       "escolar                     -0.06  \n",
       "qproj_estra                  0.09  \n",
       "proj_sustent                 0.05  \n",
       "proj_6sigma                  0.07  \n",
       "proj_social                  0.12  \n",
       "notaavalia                   1.00  "
      ]
     },
     "execution_count": 38,
     "metadata": {},
     "output_type": "execute_result"
    }
   ],
   "source": [
    "salario_semout.corr()"
   ]
  },
  {
   "cell_type": "markdown",
   "metadata": {},
   "source": [
    "### Melhoramos a visualização dando cores a tabela de correlação"
   ]
  },
  {
   "cell_type": "code",
   "execution_count": 39,
   "metadata": {
    "colab": {
     "base_uri": "https://localhost:8080/",
     "height": 249
    },
    "id": "Ta4W_zPCJrFQ",
    "outputId": "30e6a7c9-5c68-4c7d-9af5-16c73dcab451"
   },
   "outputs": [
    {
     "data": {
      "text/html": [
       "<style  type=\"text/css\" >\n",
       "#T_2208a_row0_col0,#T_2208a_row1_col1,#T_2208a_row2_col2,#T_2208a_row3_col3,#T_2208a_row4_col4,#T_2208a_row5_col5,#T_2208a_row6_col6,#T_2208a_row7_col7,#T_2208a_row8_col8,#T_2208a_row9_col9{\n",
       "            background-color:  #b40426;\n",
       "            color:  #f1f1f1;\n",
       "        }#T_2208a_row0_col1{\n",
       "            background-color:  #799cf8;\n",
       "            color:  #000000;\n",
       "        }#T_2208a_row0_col2{\n",
       "            background-color:  #80a3fa;\n",
       "            color:  #000000;\n",
       "        }#T_2208a_row0_col3{\n",
       "            background-color:  #6a8bef;\n",
       "            color:  #000000;\n",
       "        }#T_2208a_row0_col4{\n",
       "            background-color:  #bbd1f8;\n",
       "            color:  #000000;\n",
       "        }#T_2208a_row0_col5,#T_2208a_row3_col5,#T_2208a_row9_col1{\n",
       "            background-color:  #6384eb;\n",
       "            color:  #000000;\n",
       "        }#T_2208a_row0_col6{\n",
       "            background-color:  #7295f4;\n",
       "            color:  #000000;\n",
       "        }#T_2208a_row0_col7,#T_2208a_row0_col9,#T_2208a_row1_col6,#T_2208a_row2_col6,#T_2208a_row3_col4,#T_2208a_row4_col6,#T_2208a_row5_col6,#T_2208a_row6_col2,#T_2208a_row7_col6,#T_2208a_row8_col3,#T_2208a_row9_col4{\n",
       "            background-color:  #3b4cc0;\n",
       "            color:  #f1f1f1;\n",
       "        }#T_2208a_row0_col8,#T_2208a_row5_col0{\n",
       "            background-color:  #6e90f2;\n",
       "            color:  #000000;\n",
       "        }#T_2208a_row1_col0,#T_2208a_row8_col4{\n",
       "            background-color:  #7a9df8;\n",
       "            color:  #000000;\n",
       "        }#T_2208a_row1_col2{\n",
       "            background-color:  #f2cab5;\n",
       "            color:  #000000;\n",
       "        }#T_2208a_row1_col3{\n",
       "            background-color:  #adc9fd;\n",
       "            color:  #000000;\n",
       "        }#T_2208a_row1_col4{\n",
       "            background-color:  #dedcdb;\n",
       "            color:  #000000;\n",
       "        }#T_2208a_row1_col5{\n",
       "            background-color:  #e3d9d3;\n",
       "            color:  #000000;\n",
       "        }#T_2208a_row1_col7,#T_2208a_row2_col4{\n",
       "            background-color:  #b6cefa;\n",
       "            color:  #000000;\n",
       "        }#T_2208a_row1_col8{\n",
       "            background-color:  #92b4fe;\n",
       "            color:  #000000;\n",
       "        }#T_2208a_row1_col9{\n",
       "            background-color:  #5977e3;\n",
       "            color:  #000000;\n",
       "        }#T_2208a_row2_col0{\n",
       "            background-color:  #96b7ff;\n",
       "            color:  #000000;\n",
       "        }#T_2208a_row2_col1{\n",
       "            background-color:  #f5c1a9;\n",
       "            color:  #000000;\n",
       "        }#T_2208a_row2_col3{\n",
       "            background-color:  #98b9ff;\n",
       "            color:  #000000;\n",
       "        }#T_2208a_row2_col5{\n",
       "            background-color:  #e6d7cf;\n",
       "            color:  #000000;\n",
       "        }#T_2208a_row2_col7{\n",
       "            background-color:  #88abfd;\n",
       "            color:  #000000;\n",
       "        }#T_2208a_row2_col8,#T_2208a_row9_col6{\n",
       "            background-color:  #5a78e4;\n",
       "            color:  #000000;\n",
       "        }#T_2208a_row2_col9,#T_2208a_row5_col3{\n",
       "            background-color:  #6485ec;\n",
       "            color:  #000000;\n",
       "        }#T_2208a_row3_col0{\n",
       "            background-color:  #7597f6;\n",
       "            color:  #000000;\n",
       "        }#T_2208a_row3_col1,#T_2208a_row4_col2{\n",
       "            background-color:  #b5cdfa;\n",
       "            color:  #000000;\n",
       "        }#T_2208a_row3_col2{\n",
       "            background-color:  #8db0fe;\n",
       "            color:  #000000;\n",
       "        }#T_2208a_row3_col6{\n",
       "            background-color:  #3f53c6;\n",
       "            color:  #f1f1f1;\n",
       "        }#T_2208a_row3_col7{\n",
       "            background-color:  #6c8ff1;\n",
       "            color:  #000000;\n",
       "        }#T_2208a_row3_col8,#T_2208a_row8_col2{\n",
       "            background-color:  #445acc;\n",
       "            color:  #f1f1f1;\n",
       "        }#T_2208a_row3_col9,#T_2208a_row9_col3,#T_2208a_row9_col7{\n",
       "            background-color:  #6180e9;\n",
       "            color:  #000000;\n",
       "        }#T_2208a_row4_col0{\n",
       "            background-color:  #cad8ef;\n",
       "            color:  #000000;\n",
       "        }#T_2208a_row4_col1,#T_2208a_row5_col1{\n",
       "            background-color:  #e7d7ce;\n",
       "            color:  #000000;\n",
       "        }#T_2208a_row4_col3,#T_2208a_row4_col9,#T_2208a_row9_col0{\n",
       "            background-color:  #465ecf;\n",
       "            color:  #f1f1f1;\n",
       "        }#T_2208a_row4_col5{\n",
       "            background-color:  #b3cdfb;\n",
       "            color:  #000000;\n",
       "        }#T_2208a_row4_col7{\n",
       "            background-color:  #86a9fc;\n",
       "            color:  #000000;\n",
       "        }#T_2208a_row4_col8{\n",
       "            background-color:  #8fb1fe;\n",
       "            color:  #000000;\n",
       "        }#T_2208a_row5_col2{\n",
       "            background-color:  #e0dbd8;\n",
       "            color:  #000000;\n",
       "        }#T_2208a_row5_col4{\n",
       "            background-color:  #abc8fd;\n",
       "            color:  #000000;\n",
       "        }#T_2208a_row5_col7,#T_2208a_row8_col5{\n",
       "            background-color:  #9abbff;\n",
       "            color:  #000000;\n",
       "        }#T_2208a_row5_col8{\n",
       "            background-color:  #a2c1ff;\n",
       "            color:  #000000;\n",
       "        }#T_2208a_row5_col9,#T_2208a_row6_col9,#T_2208a_row9_col5{\n",
       "            background-color:  #688aef;\n",
       "            color:  #000000;\n",
       "        }#T_2208a_row6_col0{\n",
       "            background-color:  #89acfd;\n",
       "            color:  #000000;\n",
       "        }#T_2208a_row6_col1{\n",
       "            background-color:  #516ddb;\n",
       "            color:  #000000;\n",
       "        }#T_2208a_row6_col3{\n",
       "            background-color:  #4c66d6;\n",
       "            color:  #000000;\n",
       "        }#T_2208a_row6_col4{\n",
       "            background-color:  #3c4ec2;\n",
       "            color:  #f1f1f1;\n",
       "        }#T_2208a_row6_col5,#T_2208a_row7_col0{\n",
       "            background-color:  #485fd1;\n",
       "            color:  #f1f1f1;\n",
       "        }#T_2208a_row6_col7{\n",
       "            background-color:  #455cce;\n",
       "            color:  #f1f1f1;\n",
       "        }#T_2208a_row6_col8{\n",
       "            background-color:  #a7c5fe;\n",
       "            color:  #000000;\n",
       "        }#T_2208a_row7_col1{\n",
       "            background-color:  #bed2f6;\n",
       "            color:  #000000;\n",
       "        }#T_2208a_row7_col2,#T_2208a_row7_col4{\n",
       "            background-color:  #7da0f9;\n",
       "            color:  #000000;\n",
       "        }#T_2208a_row7_col3,#T_2208a_row8_col0,#T_2208a_row9_col8{\n",
       "            background-color:  #6f92f3;\n",
       "            color:  #000000;\n",
       "        }#T_2208a_row7_col5{\n",
       "            background-color:  #9bbcff;\n",
       "            color:  #000000;\n",
       "        }#T_2208a_row7_col8{\n",
       "            background-color:  #5f7fe8;\n",
       "            color:  #000000;\n",
       "        }#T_2208a_row7_col9{\n",
       "            background-color:  #6282ea;\n",
       "            color:  #000000;\n",
       "        }#T_2208a_row8_col1{\n",
       "            background-color:  #93b5fe;\n",
       "            color:  #000000;\n",
       "        }#T_2208a_row8_col6{\n",
       "            background-color:  #94b6ff;\n",
       "            color:  #000000;\n",
       "        }#T_2208a_row8_col7{\n",
       "            background-color:  #5572df;\n",
       "            color:  #000000;\n",
       "        }#T_2208a_row8_col9{\n",
       "            background-color:  #6687ed;\n",
       "            color:  #000000;\n",
       "        }#T_2208a_row9_col2{\n",
       "            background-color:  #5875e1;\n",
       "            color:  #000000;\n",
       "        }</style><table id=\"T_2208a_\" ><thead>    <tr>        <th class=\"blank level0\" ></th>        <th class=\"col_heading level0 col0\" >Ordem</th>        <th class=\"col_heading level0 col1\" >salario</th>        <th class=\"col_heading level0 col2\" >idade</th>        <th class=\"col_heading level0 col3\" >tempocasa</th>        <th class=\"col_heading level0 col4\" >escolar</th>        <th class=\"col_heading level0 col5\" >qproj_estra</th>        <th class=\"col_heading level0 col6\" >proj_sustent</th>        <th class=\"col_heading level0 col7\" >proj_6sigma</th>        <th class=\"col_heading level0 col8\" >proj_social</th>        <th class=\"col_heading level0 col9\" >notaavalia</th>    </tr></thead><tbody>\n",
       "                <tr>\n",
       "                        <th id=\"T_2208a_level0_row0\" class=\"row_heading level0 row0\" >Ordem</th>\n",
       "                        <td id=\"T_2208a_row0_col0\" class=\"data row0 col0\" >1.0</td>\n",
       "                        <td id=\"T_2208a_row0_col1\" class=\"data row0 col1\" >0.18</td>\n",
       "                        <td id=\"T_2208a_row0_col2\" class=\"data row0 col2\" >0.2</td>\n",
       "                        <td id=\"T_2208a_row0_col3\" class=\"data row0 col3\" >0.13</td>\n",
       "                        <td id=\"T_2208a_row0_col4\" class=\"data row0 col4\" >0.37</td>\n",
       "                        <td id=\"T_2208a_row0_col5\" class=\"data row0 col5\" >0.11</td>\n",
       "                        <td id=\"T_2208a_row0_col6\" class=\"data row0 col6\" >0.16</td>\n",
       "                        <td id=\"T_2208a_row0_col7\" class=\"data row0 col7\" >-0.019</td>\n",
       "                        <td id=\"T_2208a_row0_col8\" class=\"data row0 col8\" >0.15</td>\n",
       "                        <td id=\"T_2208a_row0_col9\" class=\"data row0 col9\" >-0.015</td>\n",
       "            </tr>\n",
       "            <tr>\n",
       "                        <th id=\"T_2208a_level0_row1\" class=\"row_heading level0 row1\" >salario</th>\n",
       "                        <td id=\"T_2208a_row1_col0\" class=\"data row1 col0\" >0.18</td>\n",
       "                        <td id=\"T_2208a_row1_col1\" class=\"data row1 col1\" >1.0</td>\n",
       "                        <td id=\"T_2208a_row1_col2\" class=\"data row1 col2\" >0.6</td>\n",
       "                        <td id=\"T_2208a_row1_col3\" class=\"data row1 col3\" >0.33</td>\n",
       "                        <td id=\"T_2208a_row1_col4\" class=\"data row1 col4\" >0.49</td>\n",
       "                        <td id=\"T_2208a_row1_col5\" class=\"data row1 col5\" >0.51</td>\n",
       "                        <td id=\"T_2208a_row1_col6\" class=\"data row1 col6\" >-0.023</td>\n",
       "                        <td id=\"T_2208a_row1_col7\" class=\"data row1 col7\" >0.35</td>\n",
       "                        <td id=\"T_2208a_row1_col8\" class=\"data row1 col8\" >0.25</td>\n",
       "                        <td id=\"T_2208a_row1_col9\" class=\"data row1 col9\" >0.08</td>\n",
       "            </tr>\n",
       "            <tr>\n",
       "                        <th id=\"T_2208a_level0_row2\" class=\"row_heading level0 row2\" >idade</th>\n",
       "                        <td id=\"T_2208a_row2_col0\" class=\"data row2 col0\" >0.2</td>\n",
       "                        <td id=\"T_2208a_row2_col1\" class=\"data row2 col1\" >0.6</td>\n",
       "                        <td id=\"T_2208a_row2_col2\" class=\"data row2 col2\" >1.0</td>\n",
       "                        <td id=\"T_2208a_row2_col3\" class=\"data row2 col3\" >0.2</td>\n",
       "                        <td id=\"T_2208a_row2_col4\" class=\"data row2 col4\" >0.3</td>\n",
       "                        <td id=\"T_2208a_row2_col5\" class=\"data row2 col5\" >0.48</td>\n",
       "                        <td id=\"T_2208a_row2_col6\" class=\"data row2 col6\" >-0.11</td>\n",
       "                        <td id=\"T_2208a_row2_col7\" class=\"data row2 col7\" >0.15</td>\n",
       "                        <td id=\"T_2208a_row2_col8\" class=\"data row2 col8\" >0.0073</td>\n",
       "                        <td id=\"T_2208a_row2_col9\" class=\"data row2 col9\" >0.04</td>\n",
       "            </tr>\n",
       "            <tr>\n",
       "                        <th id=\"T_2208a_level0_row3\" class=\"row_heading level0 row3\" >tempocasa</th>\n",
       "                        <td id=\"T_2208a_row3_col0\" class=\"data row3 col0\" >0.13</td>\n",
       "                        <td id=\"T_2208a_row3_col1\" class=\"data row3 col1\" >0.33</td>\n",
       "                        <td id=\"T_2208a_row3_col2\" class=\"data row3 col2\" >0.2</td>\n",
       "                        <td id=\"T_2208a_row3_col3\" class=\"data row3 col3\" >1.0</td>\n",
       "                        <td id=\"T_2208a_row3_col4\" class=\"data row3 col4\" >-0.06</td>\n",
       "                        <td id=\"T_2208a_row3_col5\" class=\"data row3 col5\" >0.08</td>\n",
       "                        <td id=\"T_2208a_row3_col6\" class=\"data row3 col6\" >-0.044</td>\n",
       "                        <td id=\"T_2208a_row3_col7\" class=\"data row3 col7\" >0.11</td>\n",
       "                        <td id=\"T_2208a_row3_col8\" class=\"data row3 col8\" >-0.026</td>\n",
       "                        <td id=\"T_2208a_row3_col9\" class=\"data row3 col9\" >0.071</td>\n",
       "            </tr>\n",
       "            <tr>\n",
       "                        <th id=\"T_2208a_level0_row4\" class=\"row_heading level0 row4\" >escolar</th>\n",
       "                        <td id=\"T_2208a_row4_col0\" class=\"data row4 col0\" >0.37</td>\n",
       "                        <td id=\"T_2208a_row4_col1\" class=\"data row4 col1\" >0.49</td>\n",
       "                        <td id=\"T_2208a_row4_col2\" class=\"data row4 col2\" >0.3</td>\n",
       "                        <td id=\"T_2208a_row4_col3\" class=\"data row4 col3\" >-0.06</td>\n",
       "                        <td id=\"T_2208a_row4_col4\" class=\"data row4 col4\" >1.0</td>\n",
       "                        <td id=\"T_2208a_row4_col5\" class=\"data row4 col5\" >0.3</td>\n",
       "                        <td id=\"T_2208a_row4_col6\" class=\"data row4 col6\" >-0.1</td>\n",
       "                        <td id=\"T_2208a_row4_col7\" class=\"data row4 col7\" >0.15</td>\n",
       "                        <td id=\"T_2208a_row4_col8\" class=\"data row4 col8\" >0.18</td>\n",
       "                        <td id=\"T_2208a_row4_col9\" class=\"data row4 col9\" >-0.06</td>\n",
       "            </tr>\n",
       "            <tr>\n",
       "                        <th id=\"T_2208a_level0_row5\" class=\"row_heading level0 row5\" >qproj_estra</th>\n",
       "                        <td id=\"T_2208a_row5_col0\" class=\"data row5 col0\" >0.11</td>\n",
       "                        <td id=\"T_2208a_row5_col1\" class=\"data row5 col1\" >0.51</td>\n",
       "                        <td id=\"T_2208a_row5_col2\" class=\"data row5 col2\" >0.48</td>\n",
       "                        <td id=\"T_2208a_row5_col3\" class=\"data row5 col3\" >0.08</td>\n",
       "                        <td id=\"T_2208a_row5_col4\" class=\"data row5 col4\" >0.3</td>\n",
       "                        <td id=\"T_2208a_row5_col5\" class=\"data row5 col5\" >1.0</td>\n",
       "                        <td id=\"T_2208a_row5_col6\" class=\"data row5 col6\" >-0.061</td>\n",
       "                        <td id=\"T_2208a_row5_col7\" class=\"data row5 col7\" >0.24</td>\n",
       "                        <td id=\"T_2208a_row5_col8\" class=\"data row5 col8\" >0.27</td>\n",
       "                        <td id=\"T_2208a_row5_col9\" class=\"data row5 col9\" >0.094</td>\n",
       "            </tr>\n",
       "            <tr>\n",
       "                        <th id=\"T_2208a_level0_row6\" class=\"row_heading level0 row6\" >proj_sustent</th>\n",
       "                        <td id=\"T_2208a_row6_col0\" class=\"data row6 col0\" >0.16</td>\n",
       "                        <td id=\"T_2208a_row6_col1\" class=\"data row6 col1\" >-0.023</td>\n",
       "                        <td id=\"T_2208a_row6_col2\" class=\"data row6 col2\" >-0.11</td>\n",
       "                        <td id=\"T_2208a_row6_col3\" class=\"data row6 col3\" >-0.044</td>\n",
       "                        <td id=\"T_2208a_row6_col4\" class=\"data row6 col4\" >-0.1</td>\n",
       "                        <td id=\"T_2208a_row6_col5\" class=\"data row6 col5\" >-0.061</td>\n",
       "                        <td id=\"T_2208a_row6_col6\" class=\"data row6 col6\" >1.0</td>\n",
       "                        <td id=\"T_2208a_row6_col7\" class=\"data row6 col7\" >-0.066</td>\n",
       "                        <td id=\"T_2208a_row6_col8\" class=\"data row6 col8\" >0.25</td>\n",
       "                        <td id=\"T_2208a_row6_col9\" class=\"data row6 col9\" >0.052</td>\n",
       "            </tr>\n",
       "            <tr>\n",
       "                        <th id=\"T_2208a_level0_row7\" class=\"row_heading level0 row7\" >proj_6sigma</th>\n",
       "                        <td id=\"T_2208a_row7_col0\" class=\"data row7 col0\" >-0.019</td>\n",
       "                        <td id=\"T_2208a_row7_col1\" class=\"data row7 col1\" >0.35</td>\n",
       "                        <td id=\"T_2208a_row7_col2\" class=\"data row7 col2\" >0.15</td>\n",
       "                        <td id=\"T_2208a_row7_col3\" class=\"data row7 col3\" >0.11</td>\n",
       "                        <td id=\"T_2208a_row7_col4\" class=\"data row7 col4\" >0.15</td>\n",
       "                        <td id=\"T_2208a_row7_col5\" class=\"data row7 col5\" >0.24</td>\n",
       "                        <td id=\"T_2208a_row7_col6\" class=\"data row7 col6\" >-0.066</td>\n",
       "                        <td id=\"T_2208a_row7_col7\" class=\"data row7 col7\" >1.0</td>\n",
       "                        <td id=\"T_2208a_row7_col8\" class=\"data row7 col8\" >0.062</td>\n",
       "                        <td id=\"T_2208a_row7_col9\" class=\"data row7 col9\" >0.07</td>\n",
       "            </tr>\n",
       "            <tr>\n",
       "                        <th id=\"T_2208a_level0_row8\" class=\"row_heading level0 row8\" >proj_social</th>\n",
       "                        <td id=\"T_2208a_row8_col0\" class=\"data row8 col0\" >0.15</td>\n",
       "                        <td id=\"T_2208a_row8_col1\" class=\"data row8 col1\" >0.25</td>\n",
       "                        <td id=\"T_2208a_row8_col2\" class=\"data row8 col2\" >0.0073</td>\n",
       "                        <td id=\"T_2208a_row8_col3\" class=\"data row8 col3\" >-0.026</td>\n",
       "                        <td id=\"T_2208a_row8_col4\" class=\"data row8 col4\" >0.18</td>\n",
       "                        <td id=\"T_2208a_row8_col5\" class=\"data row8 col5\" >0.27</td>\n",
       "                        <td id=\"T_2208a_row8_col6\" class=\"data row8 col6\" >0.25</td>\n",
       "                        <td id=\"T_2208a_row8_col7\" class=\"data row8 col7\" >0.062</td>\n",
       "                        <td id=\"T_2208a_row8_col8\" class=\"data row8 col8\" >1.0</td>\n",
       "                        <td id=\"T_2208a_row8_col9\" class=\"data row8 col9\" >0.12</td>\n",
       "            </tr>\n",
       "            <tr>\n",
       "                        <th id=\"T_2208a_level0_row9\" class=\"row_heading level0 row9\" >notaavalia</th>\n",
       "                        <td id=\"T_2208a_row9_col0\" class=\"data row9 col0\" >-0.015</td>\n",
       "                        <td id=\"T_2208a_row9_col1\" class=\"data row9 col1\" >0.08</td>\n",
       "                        <td id=\"T_2208a_row9_col2\" class=\"data row9 col2\" >0.04</td>\n",
       "                        <td id=\"T_2208a_row9_col3\" class=\"data row9 col3\" >0.071</td>\n",
       "                        <td id=\"T_2208a_row9_col4\" class=\"data row9 col4\" >-0.06</td>\n",
       "                        <td id=\"T_2208a_row9_col5\" class=\"data row9 col5\" >0.094</td>\n",
       "                        <td id=\"T_2208a_row9_col6\" class=\"data row9 col6\" >0.052</td>\n",
       "                        <td id=\"T_2208a_row9_col7\" class=\"data row9 col7\" >0.07</td>\n",
       "                        <td id=\"T_2208a_row9_col8\" class=\"data row9 col8\" >0.12</td>\n",
       "                        <td id=\"T_2208a_row9_col9\" class=\"data row9 col9\" >1.0</td>\n",
       "            </tr>\n",
       "    </tbody></table>"
      ],
      "text/plain": [
       "<pandas.io.formats.style.Styler at 0x267a0357f70>"
      ]
     },
     "execution_count": 39,
     "metadata": {},
     "output_type": "execute_result"
    }
   ],
   "source": [
    "salario_semout.corr().style.format(\"{:.2}\").background_gradient(cmap=plt.get_cmap('coolwarm'),axis=1)"
   ]
  },
  {
   "cell_type": "code",
   "execution_count": 40,
   "metadata": {
    "colab": {
     "base_uri": "https://localhost:8080/",
     "height": 647
    },
    "id": "NocVcnGZKn4n",
    "outputId": "de76f12e-fa83-4004-86a0-187caee982ba"
   },
   "outputs": [
    {
     "data": {
      "image/png": "[encoded data removed]",
      "text/plain": [
       "<Figure size 864x720 with 2 Axes>"
      ]
     },
     "metadata": {},
     "output_type": "display_data"
    }
   ],
   "source": [
    "#Using Pearson Correlation\n",
    "plt.figure(figsize=(12,10))\n",
    "cor = salario_semout.corr()\n",
    "sns.heatmap(cor, annot=True, cmap=plt.cm.Reds)\n",
    "plt.show()"
   ]
  },
  {
   "cell_type": "markdown",
   "metadata": {},
   "source": [
    "### Podemos selecionar as variáveis mais relevantes"
   ]
  },
  {
   "cell_type": "code",
   "execution_count": 41,
   "metadata": {
    "colab": {
     "base_uri": "https://localhost:8080/"
    },
    "id": "qqI3TVYBMDq9",
    "outputId": "91c735b5-6bd1-4103-efe7-014573f1871a"
   },
   "outputs": [
    {
     "data": {
      "text/plain": [
       "salario                       1.00\n",
       "idade                         0.60\n",
       "tempocasa                     0.33\n",
       "escolar                       0.49\n",
       "qproj_estra                   0.51\n",
       "proj_6sigma                   0.35\n",
       "proj_social                   0.25\n",
       "Name: salario, dtype: float64"
      ]
     },
     "execution_count": 41,
     "metadata": {},
     "output_type": "execute_result"
    }
   ],
   "source": [
    "salario_semout.corr()\n",
    "cor_target = abs(cor[\"salario\"])\n",
    "#Selecting highly correlated features\n",
    "relevant_features = cor_target[cor_target>0.2]\n",
    "relevant_features"
   ]
  },
  {
   "cell_type": "markdown",
   "metadata": {
    "id": "iBIYQB5DOAmt"
   },
   "source": [
    "## Alguns algorítmos precisam que as variáveis sejam padronizadas ou normalizadas\n",
    "\n",
    "As duas técnicas tem o mesmo objetivo: transformar todas as variáveis na mesma ordem de grandeza. E a diferença básica é que padronizar as variáveis irá resultar em uma média igual a 0 e um desvio padrão igual a 1. Já normalizar tem como objetivo colocar as variáveis dentro do intervalo de 0 e 1, caso tenha resultado negativo -1 e 1.\n",
    "\n",
    "\n",
    "**Normatizando / Normalizando uma variável - Transforme recursos dimensionando cada recurso para um determinado intervalo.**\n",
    "\n",
    "Este estimador dimensiona e traduz cada característica individualmente, de modo que esteja no intervalo dado no conjunto de treinamento, por exemplo, entre zero e um.\n",
    "\n",
    "A transformação é dada por:\n",
    "\n",
    "X_std = (X - X.min(axis=0)) / (X.max(axis=0) - X.min(axis=0))\n",
    "X_scaled = X_std * (max - min) + min\n",
    "onde min, max = feature_range.\n",
    "\n",
    "Essa transformação é freqüentemente usada como uma alternativa para a escala de variação de unidade de média zero."
   ]
  },
  {
   "cell_type": "code",
   "execution_count": 42,
   "metadata": {
    "id": "b7nct97lMcIZ"
   },
   "outputs": [],
   "source": [
    "from sklearn.preprocessing import MinMaxScaler\n",
    "scaler = MinMaxScaler(feature_range=(0,1))\n",
    "salario_semout['sal_normal'] = scaler.fit_transform(salario_semout[['salario']])"
   ]
  },
  {
   "cell_type": "code",
   "execution_count": 43,
   "metadata": {
    "colab": {
     "base_uri": "https://localhost:8080/",
     "height": 288
    },
    "id": "60tFgI-0VGk8",
    "outputId": "910cc118-bc00-4431-8ead-ecdad74eee16"
   },
   "outputs": [
    {
     "data": {
      "text/html": [
       "<div>\n",
       "<style scoped>\n",
       "    .dataframe tbody tr th:only-of-type {\n",
       "        vertical-align: middle;\n",
       "    }\n",
       "\n",
       "    .dataframe tbody tr th {\n",
       "        vertical-align: top;\n",
       "    }\n",
       "\n",
       "    .dataframe thead th {\n",
       "        text-align: right;\n",
       "    }\n",
       "</style>\n",
       "<table border=\"1\" class=\"dataframe\">\n",
       "  <thead>\n",
       "    <tr style=\"text-align: right;\">\n",
       "      <th></th>\n",
       "      <th>Ordem</th>\n",
       "      <th>salario</th>\n",
       "      <th>idade</th>\n",
       "      <th>tempocasa</th>\n",
       "      <th>escolar</th>\n",
       "      <th>qproj_estra</th>\n",
       "      <th>proj_sustent</th>\n",
       "      <th>proj_6sigma</th>\n",
       "      <th>proj_social</th>\n",
       "      <th>notaavalia</th>\n",
       "      <th>sal_normal</th>\n",
       "    </tr>\n",
       "  </thead>\n",
       "  <tbody>\n",
       "    <tr>\n",
       "      <th>count</th>\n",
       "      <td>179.00</td>\n",
       "      <td>179.00</td>\n",
       "      <td>179.00</td>\n",
       "      <td>179.00</td>\n",
       "      <td>179.00</td>\n",
       "      <td>179.00</td>\n",
       "      <td>179.00</td>\n",
       "      <td>179.00</td>\n",
       "      <td>179.00</td>\n",
       "      <td>179.00</td>\n",
       "      <td>179.00</td>\n",
       "    </tr>\n",
       "    <tr>\n",
       "      <th>mean</th>\n",
       "      <td>90.98</td>\n",
       "      <td>8,578.81</td>\n",
       "      <td>31.15</td>\n",
       "      <td>9.11</td>\n",
       "      <td>12.59</td>\n",
       "      <td>1.28</td>\n",
       "      <td>0.28</td>\n",
       "      <td>0.55</td>\n",
       "      <td>0.50</td>\n",
       "      <td>71.73</td>\n",
       "      <td>0.29</td>\n",
       "    </tr>\n",
       "    <tr>\n",
       "      <th>std</th>\n",
       "      <td>51.86</td>\n",
       "      <td>4,713.17</td>\n",
       "      <td>9.32</td>\n",
       "      <td>5.60</td>\n",
       "      <td>2.58</td>\n",
       "      <td>1.22</td>\n",
       "      <td>0.45</td>\n",
       "      <td>0.50</td>\n",
       "      <td>0.50</td>\n",
       "      <td>16.04</td>\n",
       "      <td>0.20</td>\n",
       "    </tr>\n",
       "    <tr>\n",
       "      <th>min</th>\n",
       "      <td>1.00</td>\n",
       "      <td>1,750.18</td>\n",
       "      <td>18.00</td>\n",
       "      <td>1.00</td>\n",
       "      <td>7.00</td>\n",
       "      <td>0.00</td>\n",
       "      <td>0.00</td>\n",
       "      <td>0.00</td>\n",
       "      <td>0.00</td>\n",
       "      <td>34.48</td>\n",
       "      <td>0.00</td>\n",
       "    </tr>\n",
       "    <tr>\n",
       "      <th>25%</th>\n",
       "      <td>46.50</td>\n",
       "      <td>5,500.43</td>\n",
       "      <td>24.00</td>\n",
       "      <td>5.00</td>\n",
       "      <td>11.00</td>\n",
       "      <td>1.00</td>\n",
       "      <td>0.00</td>\n",
       "      <td>0.00</td>\n",
       "      <td>0.00</td>\n",
       "      <td>60.39</td>\n",
       "      <td>0.16</td>\n",
       "    </tr>\n",
       "    <tr>\n",
       "      <th>50%</th>\n",
       "      <td>91.00</td>\n",
       "      <td>7,600.41</td>\n",
       "      <td>28.00</td>\n",
       "      <td>7.00</td>\n",
       "      <td>13.00</td>\n",
       "      <td>1.00</td>\n",
       "      <td>0.00</td>\n",
       "      <td>1.00</td>\n",
       "      <td>0.00</td>\n",
       "      <td>72.08</td>\n",
       "      <td>0.25</td>\n",
       "    </tr>\n",
       "    <tr>\n",
       "      <th>75%</th>\n",
       "      <td>135.50</td>\n",
       "      <td>10,594.24</td>\n",
       "      <td>36.00</td>\n",
       "      <td>13.00</td>\n",
       "      <td>14.00</td>\n",
       "      <td>1.00</td>\n",
       "      <td>1.00</td>\n",
       "      <td>1.00</td>\n",
       "      <td>1.00</td>\n",
       "      <td>83.85</td>\n",
       "      <td>0.38</td>\n",
       "    </tr>\n",
       "    <tr>\n",
       "      <th>max</th>\n",
       "      <td>180.00</td>\n",
       "      <td>25,329.91</td>\n",
       "      <td>65.00</td>\n",
       "      <td>25.00</td>\n",
       "      <td>19.00</td>\n",
       "      <td>7.00</td>\n",
       "      <td>1.00</td>\n",
       "      <td>1.00</td>\n",
       "      <td>1.00</td>\n",
       "      <td>98.96</td>\n",
       "      <td>1.00</td>\n",
       "    </tr>\n",
       "  </tbody>\n",
       "</table>\n",
       "</div>"
      ],
      "text/plain": [
       "                     Ordem              salario                idade  \\\n",
       "count               179.00               179.00               179.00   \n",
       "mean                 90.98             8,578.81                31.15   \n",
       "std                  51.86             4,713.17                 9.32   \n",
       "min                   1.00             1,750.18                18.00   \n",
       "25%                  46.50             5,500.43                24.00   \n",
       "50%                  91.00             7,600.41                28.00   \n",
       "75%                 135.50            10,594.24                36.00   \n",
       "max                 180.00            25,329.91                65.00   \n",
       "\n",
       "                 tempocasa              escolar          qproj_estra  \\\n",
       "count               179.00               179.00               179.00   \n",
       "mean                  9.11                12.59                 1.28   \n",
       "std                   5.60                 2.58                 1.22   \n",
       "min                   1.00                 7.00                 0.00   \n",
       "25%                   5.00                11.00                 1.00   \n",
       "50%                   7.00                13.00                 1.00   \n",
       "75%                  13.00                14.00                 1.00   \n",
       "max                  25.00                19.00                 7.00   \n",
       "\n",
       "              proj_sustent          proj_6sigma          proj_social  \\\n",
       "count               179.00               179.00               179.00   \n",
       "mean                  0.28                 0.55                 0.50   \n",
       "std                   0.45                 0.50                 0.50   \n",
       "min                   0.00                 0.00                 0.00   \n",
       "25%                   0.00                 0.00                 0.00   \n",
       "50%                   0.00                 1.00                 0.00   \n",
       "75%                   1.00                 1.00                 1.00   \n",
       "max                   1.00                 1.00                 1.00   \n",
       "\n",
       "                notaavalia           sal_normal  \n",
       "count               179.00               179.00  \n",
       "mean                 71.73                 0.29  \n",
       "std                  16.04                 0.20  \n",
       "min                  34.48                 0.00  \n",
       "25%                  60.39                 0.16  \n",
       "50%                  72.08                 0.25  \n",
       "75%                  83.85                 0.38  \n",
       "max                  98.96                 1.00  "
      ]
     },
     "execution_count": 43,
     "metadata": {},
     "output_type": "execute_result"
    }
   ],
   "source": [
    "salario_semout.describe()"
   ]
  },
  {
   "cell_type": "markdown",
   "metadata": {
    "id": "yzFYmgN8aGpD"
   },
   "source": [
    "** Em todo dataset **"
   ]
  },
  {
   "cell_type": "code",
   "execution_count": 44,
   "metadata": {
    "colab": {
     "base_uri": "https://localhost:8080/",
     "height": 288
    },
    "id": "jsvaCYvDaFJn",
    "outputId": "d15d16a5-a0d9-4f0a-eb5f-d8e61ec42aed"
   },
   "outputs": [
    {
     "data": {
      "text/html": [
       "<div>\n",
       "<style scoped>\n",
       "    .dataframe tbody tr th:only-of-type {\n",
       "        vertical-align: middle;\n",
       "    }\n",
       "\n",
       "    .dataframe tbody tr th {\n",
       "        vertical-align: top;\n",
       "    }\n",
       "\n",
       "    .dataframe thead th {\n",
       "        text-align: right;\n",
       "    }\n",
       "</style>\n",
       "<table border=\"1\" class=\"dataframe\">\n",
       "  <thead>\n",
       "    <tr style=\"text-align: right;\">\n",
       "      <th></th>\n",
       "      <th>Ordem</th>\n",
       "      <th>salario</th>\n",
       "      <th>idade</th>\n",
       "      <th>tempocasa</th>\n",
       "      <th>escolar</th>\n",
       "      <th>qproj_estra</th>\n",
       "      <th>proj_sustent</th>\n",
       "      <th>proj_6sigma</th>\n",
       "      <th>proj_social</th>\n",
       "      <th>notaavalia</th>\n",
       "    </tr>\n",
       "  </thead>\n",
       "  <tbody>\n",
       "    <tr>\n",
       "      <th>count</th>\n",
       "      <td>179.00</td>\n",
       "      <td>179.00</td>\n",
       "      <td>179.00</td>\n",
       "      <td>179.00</td>\n",
       "      <td>179.00</td>\n",
       "      <td>179.00</td>\n",
       "      <td>179.00</td>\n",
       "      <td>179.00</td>\n",
       "      <td>179.00</td>\n",
       "      <td>179.00</td>\n",
       "    </tr>\n",
       "    <tr>\n",
       "      <th>mean</th>\n",
       "      <td>0.50</td>\n",
       "      <td>0.29</td>\n",
       "      <td>0.28</td>\n",
       "      <td>0.34</td>\n",
       "      <td>0.47</td>\n",
       "      <td>0.18</td>\n",
       "      <td>0.28</td>\n",
       "      <td>0.55</td>\n",
       "      <td>0.50</td>\n",
       "      <td>0.58</td>\n",
       "    </tr>\n",
       "    <tr>\n",
       "      <th>std</th>\n",
       "      <td>0.29</td>\n",
       "      <td>0.20</td>\n",
       "      <td>0.20</td>\n",
       "      <td>0.23</td>\n",
       "      <td>0.21</td>\n",
       "      <td>0.17</td>\n",
       "      <td>0.45</td>\n",
       "      <td>0.50</td>\n",
       "      <td>0.50</td>\n",
       "      <td>0.25</td>\n",
       "    </tr>\n",
       "    <tr>\n",
       "      <th>min</th>\n",
       "      <td>0.00</td>\n",
       "      <td>0.00</td>\n",
       "      <td>0.00</td>\n",
       "      <td>0.00</td>\n",
       "      <td>0.00</td>\n",
       "      <td>0.00</td>\n",
       "      <td>0.00</td>\n",
       "      <td>0.00</td>\n",
       "      <td>0.00</td>\n",
       "      <td>0.00</td>\n",
       "    </tr>\n",
       "    <tr>\n",
       "      <th>25%</th>\n",
       "      <td>0.25</td>\n",
       "      <td>0.16</td>\n",
       "      <td>0.13</td>\n",
       "      <td>0.17</td>\n",
       "      <td>0.33</td>\n",
       "      <td>0.14</td>\n",
       "      <td>0.00</td>\n",
       "      <td>0.00</td>\n",
       "      <td>0.00</td>\n",
       "      <td>0.40</td>\n",
       "    </tr>\n",
       "    <tr>\n",
       "      <th>50%</th>\n",
       "      <td>0.50</td>\n",
       "      <td>0.25</td>\n",
       "      <td>0.21</td>\n",
       "      <td>0.25</td>\n",
       "      <td>0.50</td>\n",
       "      <td>0.14</td>\n",
       "      <td>0.00</td>\n",
       "      <td>1.00</td>\n",
       "      <td>0.00</td>\n",
       "      <td>0.58</td>\n",
       "    </tr>\n",
       "    <tr>\n",
       "      <th>75%</th>\n",
       "      <td>0.75</td>\n",
       "      <td>0.38</td>\n",
       "      <td>0.38</td>\n",
       "      <td>0.50</td>\n",
       "      <td>0.58</td>\n",
       "      <td>0.14</td>\n",
       "      <td>1.00</td>\n",
       "      <td>1.00</td>\n",
       "      <td>1.00</td>\n",
       "      <td>0.77</td>\n",
       "    </tr>\n",
       "    <tr>\n",
       "      <th>max</th>\n",
       "      <td>1.00</td>\n",
       "      <td>1.00</td>\n",
       "      <td>1.00</td>\n",
       "      <td>1.00</td>\n",
       "      <td>1.00</td>\n",
       "      <td>1.00</td>\n",
       "      <td>1.00</td>\n",
       "      <td>1.00</td>\n",
       "      <td>1.00</td>\n",
       "      <td>1.00</td>\n",
       "    </tr>\n",
       "  </tbody>\n",
       "</table>\n",
       "</div>"
      ],
      "text/plain": [
       "                     Ordem              salario                idade  \\\n",
       "count               179.00               179.00               179.00   \n",
       "mean                  0.50                 0.29                 0.28   \n",
       "std                   0.29                 0.20                 0.20   \n",
       "min                   0.00                 0.00                 0.00   \n",
       "25%                   0.25                 0.16                 0.13   \n",
       "50%                   0.50                 0.25                 0.21   \n",
       "75%                   0.75                 0.38                 0.38   \n",
       "max                   1.00                 1.00                 1.00   \n",
       "\n",
       "                 tempocasa              escolar          qproj_estra  \\\n",
       "count               179.00               179.00               179.00   \n",
       "mean                  0.34                 0.47                 0.18   \n",
       "std                   0.23                 0.21                 0.17   \n",
       "min                   0.00                 0.00                 0.00   \n",
       "25%                   0.17                 0.33                 0.14   \n",
       "50%                   0.25                 0.50                 0.14   \n",
       "75%                   0.50                 0.58                 0.14   \n",
       "max                   1.00                 1.00                 1.00   \n",
       "\n",
       "              proj_sustent          proj_6sigma          proj_social  \\\n",
       "count               179.00               179.00               179.00   \n",
       "mean                  0.28                 0.55                 0.50   \n",
       "std                   0.45                 0.50                 0.50   \n",
       "min                   0.00                 0.00                 0.00   \n",
       "25%                   0.00                 0.00                 0.00   \n",
       "50%                   0.00                 1.00                 0.00   \n",
       "75%                   1.00                 1.00                 1.00   \n",
       "max                   1.00                 1.00                 1.00   \n",
       "\n",
       "                notaavalia  \n",
       "count               179.00  \n",
       "mean                  0.58  \n",
       "std                   0.25  \n",
       "min                   0.00  \n",
       "25%                   0.40  \n",
       "50%                   0.58  \n",
       "75%                   0.77  \n",
       "max                   1.00  "
      ]
     },
     "execution_count": 44,
     "metadata": {},
     "output_type": "execute_result"
    }
   ],
   "source": [
    "sal_normalMinMax = salario_semout.drop(columns=['sal_normal'])\n",
    "from sklearn.preprocessing import MinMaxScaler\n",
    "scaler = MinMaxScaler(feature_range=(0,1))\n",
    "sal_MinMax = pd.DataFrame(scaler.fit_transform(sal_normalMinMax), columns=sal_normalMinMax.columns, index=sal_normalMinMax.index)\n",
    "sal_MinMax.describe()"
   ]
  },
  {
   "cell_type": "markdown",
   "metadata": {
    "id": "7gINyoyRW41k"
   },
   "source": [
    "**Padronize os recursos removendo a média e escalonando para a variância da unidade**\n",
    "\n",
    "A pontuação padrão de uma amostra **x** é calculada como:\n",
    "\n",
    "z = (x - u) / s\n",
    "\n",
    "onde **u** é a média das amostras de treinamento ou zero se with_mean=False, e **s** é o desvio padrão das amostras de treinamento ou um se with_std=False."
   ]
  },
  {
   "cell_type": "code",
   "execution_count": 45,
   "metadata": {
    "id": "KQKZt_VGO98b"
   },
   "outputs": [],
   "source": [
    "from sklearn.preprocessing import StandardScaler\n",
    "sc_sal = StandardScaler()\n",
    "salario_semout['sal_normalstd'] = sc_sal.fit_transform(salario_semout[['salario']])"
   ]
  },
  {
   "cell_type": "code",
   "execution_count": 46,
   "metadata": {
    "colab": {
     "base_uri": "https://localhost:8080/",
     "height": 288
    },
    "id": "NZixG6ObPAs7",
    "outputId": "4eea3847-9782-4223-9f5c-ce11a13dbd80"
   },
   "outputs": [
    {
     "data": {
      "text/html": [
       "<div>\n",
       "<style scoped>\n",
       "    .dataframe tbody tr th:only-of-type {\n",
       "        vertical-align: middle;\n",
       "    }\n",
       "\n",
       "    .dataframe tbody tr th {\n",
       "        vertical-align: top;\n",
       "    }\n",
       "\n",
       "    .dataframe thead th {\n",
       "        text-align: right;\n",
       "    }\n",
       "</style>\n",
       "<table border=\"1\" class=\"dataframe\">\n",
       "  <thead>\n",
       "    <tr style=\"text-align: right;\">\n",
       "      <th></th>\n",
       "      <th>Ordem</th>\n",
       "      <th>salario</th>\n",
       "      <th>idade</th>\n",
       "      <th>tempocasa</th>\n",
       "      <th>escolar</th>\n",
       "      <th>qproj_estra</th>\n",
       "      <th>proj_sustent</th>\n",
       "      <th>proj_6sigma</th>\n",
       "      <th>proj_social</th>\n",
       "      <th>notaavalia</th>\n",
       "      <th>sal_normal</th>\n",
       "      <th>sal_normalstd</th>\n",
       "    </tr>\n",
       "  </thead>\n",
       "  <tbody>\n",
       "    <tr>\n",
       "      <th>count</th>\n",
       "      <td>179.00</td>\n",
       "      <td>179.00</td>\n",
       "      <td>179.00</td>\n",
       "      <td>179.00</td>\n",
       "      <td>179.00</td>\n",
       "      <td>179.00</td>\n",
       "      <td>179.00</td>\n",
       "      <td>179.00</td>\n",
       "      <td>179.00</td>\n",
       "      <td>179.00</td>\n",
       "      <td>179.00</td>\n",
       "      <td>179.00</td>\n",
       "    </tr>\n",
       "    <tr>\n",
       "      <th>mean</th>\n",
       "      <td>90.98</td>\n",
       "      <td>8,578.81</td>\n",
       "      <td>31.15</td>\n",
       "      <td>9.11</td>\n",
       "      <td>12.59</td>\n",
       "      <td>1.28</td>\n",
       "      <td>0.28</td>\n",
       "      <td>0.55</td>\n",
       "      <td>0.50</td>\n",
       "      <td>71.73</td>\n",
       "      <td>0.29</td>\n",
       "      <td>0.00</td>\n",
       "    </tr>\n",
       "    <tr>\n",
       "      <th>std</th>\n",
       "      <td>51.86</td>\n",
       "      <td>4,713.17</td>\n",
       "      <td>9.32</td>\n",
       "      <td>5.60</td>\n",
       "      <td>2.58</td>\n",
       "      <td>1.22</td>\n",
       "      <td>0.45</td>\n",
       "      <td>0.50</td>\n",
       "      <td>0.50</td>\n",
       "      <td>16.04</td>\n",
       "      <td>0.20</td>\n",
       "      <td>1.00</td>\n",
       "    </tr>\n",
       "    <tr>\n",
       "      <th>min</th>\n",
       "      <td>1.00</td>\n",
       "      <td>1,750.18</td>\n",
       "      <td>18.00</td>\n",
       "      <td>1.00</td>\n",
       "      <td>7.00</td>\n",
       "      <td>0.00</td>\n",
       "      <td>0.00</td>\n",
       "      <td>0.00</td>\n",
       "      <td>0.00</td>\n",
       "      <td>34.48</td>\n",
       "      <td>0.00</td>\n",
       "      <td>-1.45</td>\n",
       "    </tr>\n",
       "    <tr>\n",
       "      <th>25%</th>\n",
       "      <td>46.50</td>\n",
       "      <td>5,500.43</td>\n",
       "      <td>24.00</td>\n",
       "      <td>5.00</td>\n",
       "      <td>11.00</td>\n",
       "      <td>1.00</td>\n",
       "      <td>0.00</td>\n",
       "      <td>0.00</td>\n",
       "      <td>0.00</td>\n",
       "      <td>60.39</td>\n",
       "      <td>0.16</td>\n",
       "      <td>-0.65</td>\n",
       "    </tr>\n",
       "    <tr>\n",
       "      <th>50%</th>\n",
       "      <td>91.00</td>\n",
       "      <td>7,600.41</td>\n",
       "      <td>28.00</td>\n",
       "      <td>7.00</td>\n",
       "      <td>13.00</td>\n",
       "      <td>1.00</td>\n",
       "      <td>0.00</td>\n",
       "      <td>1.00</td>\n",
       "      <td>0.00</td>\n",
       "      <td>72.08</td>\n",
       "      <td>0.25</td>\n",
       "      <td>-0.21</td>\n",
       "    </tr>\n",
       "    <tr>\n",
       "      <th>75%</th>\n",
       "      <td>135.50</td>\n",
       "      <td>10,594.24</td>\n",
       "      <td>36.00</td>\n",
       "      <td>13.00</td>\n",
       "      <td>14.00</td>\n",
       "      <td>1.00</td>\n",
       "      <td>1.00</td>\n",
       "      <td>1.00</td>\n",
       "      <td>1.00</td>\n",
       "      <td>83.85</td>\n",
       "      <td>0.38</td>\n",
       "      <td>0.43</td>\n",
       "    </tr>\n",
       "    <tr>\n",
       "      <th>max</th>\n",
       "      <td>180.00</td>\n",
       "      <td>25,329.91</td>\n",
       "      <td>65.00</td>\n",
       "      <td>25.00</td>\n",
       "      <td>19.00</td>\n",
       "      <td>7.00</td>\n",
       "      <td>1.00</td>\n",
       "      <td>1.00</td>\n",
       "      <td>1.00</td>\n",
       "      <td>98.96</td>\n",
       "      <td>1.00</td>\n",
       "      <td>3.56</td>\n",
       "    </tr>\n",
       "  </tbody>\n",
       "</table>\n",
       "</div>"
      ],
      "text/plain": [
       "                     Ordem              salario                idade  \\\n",
       "count               179.00               179.00               179.00   \n",
       "mean                 90.98             8,578.81                31.15   \n",
       "std                  51.86             4,713.17                 9.32   \n",
       "min                   1.00             1,750.18                18.00   \n",
       "25%                  46.50             5,500.43                24.00   \n",
       "50%                  91.00             7,600.41                28.00   \n",
       "75%                 135.50            10,594.24                36.00   \n",
       "max                 180.00            25,329.91                65.00   \n",
       "\n",
       "                 tempocasa              escolar          qproj_estra  \\\n",
       "count               179.00               179.00               179.00   \n",
       "mean                  9.11                12.59                 1.28   \n",
       "std                   5.60                 2.58                 1.22   \n",
       "min                   1.00                 7.00                 0.00   \n",
       "25%                   5.00                11.00                 1.00   \n",
       "50%                   7.00                13.00                 1.00   \n",
       "75%                  13.00                14.00                 1.00   \n",
       "max                  25.00                19.00                 7.00   \n",
       "\n",
       "              proj_sustent          proj_6sigma          proj_social  \\\n",
       "count               179.00               179.00               179.00   \n",
       "mean                  0.28                 0.55                 0.50   \n",
       "std                   0.45                 0.50                 0.50   \n",
       "min                   0.00                 0.00                 0.00   \n",
       "25%                   0.00                 0.00                 0.00   \n",
       "50%                   0.00                 1.00                 0.00   \n",
       "75%                   1.00                 1.00                 1.00   \n",
       "max                   1.00                 1.00                 1.00   \n",
       "\n",
       "                notaavalia           sal_normal        sal_normalstd  \n",
       "count               179.00               179.00               179.00  \n",
       "mean                 71.73                 0.29                 0.00  \n",
       "std                  16.04                 0.20                 1.00  \n",
       "min                  34.48                 0.00                -1.45  \n",
       "25%                  60.39                 0.16                -0.65  \n",
       "50%                  72.08                 0.25                -0.21  \n",
       "75%                  83.85                 0.38                 0.43  \n",
       "max                  98.96                 1.00                 3.56  "
      ]
     },
     "execution_count": 46,
     "metadata": {},
     "output_type": "execute_result"
    }
   ],
   "source": [
    "salario_semout.describe()"
   ]
  },
  {
   "cell_type": "code",
   "execution_count": 47,
   "metadata": {
    "colab": {
     "base_uri": "https://localhost:8080/",
     "height": 288
    },
    "id": "mqZOLyT0Q0lj",
    "outputId": "4b8ed946-3e80-4dcf-96db-89612e85d81a"
   },
   "outputs": [
    {
     "data": {
      "text/html": [
       "<div>\n",
       "<style scoped>\n",
       "    .dataframe tbody tr th:only-of-type {\n",
       "        vertical-align: middle;\n",
       "    }\n",
       "\n",
       "    .dataframe tbody tr th {\n",
       "        vertical-align: top;\n",
       "    }\n",
       "\n",
       "    .dataframe thead th {\n",
       "        text-align: right;\n",
       "    }\n",
       "</style>\n",
       "<table border=\"1\" class=\"dataframe\">\n",
       "  <thead>\n",
       "    <tr style=\"text-align: right;\">\n",
       "      <th></th>\n",
       "      <th>Ordem</th>\n",
       "      <th>salario</th>\n",
       "      <th>idade</th>\n",
       "      <th>tempocasa</th>\n",
       "      <th>escolar</th>\n",
       "      <th>qproj_estra</th>\n",
       "      <th>proj_sustent</th>\n",
       "      <th>proj_6sigma</th>\n",
       "      <th>proj_social</th>\n",
       "      <th>notaavalia</th>\n",
       "    </tr>\n",
       "  </thead>\n",
       "  <tbody>\n",
       "    <tr>\n",
       "      <th>count</th>\n",
       "      <td>179.00</td>\n",
       "      <td>179.00</td>\n",
       "      <td>179.00</td>\n",
       "      <td>179.00</td>\n",
       "      <td>179.00</td>\n",
       "      <td>179.00</td>\n",
       "      <td>179.00</td>\n",
       "      <td>179.00</td>\n",
       "      <td>179.00</td>\n",
       "      <td>179.00</td>\n",
       "    </tr>\n",
       "    <tr>\n",
       "      <th>mean</th>\n",
       "      <td>-0.00</td>\n",
       "      <td>0.00</td>\n",
       "      <td>-0.00</td>\n",
       "      <td>0.00</td>\n",
       "      <td>-0.00</td>\n",
       "      <td>0.00</td>\n",
       "      <td>-0.00</td>\n",
       "      <td>0.00</td>\n",
       "      <td>0.00</td>\n",
       "      <td>-0.00</td>\n",
       "    </tr>\n",
       "    <tr>\n",
       "      <th>std</th>\n",
       "      <td>1.00</td>\n",
       "      <td>1.00</td>\n",
       "      <td>1.00</td>\n",
       "      <td>1.00</td>\n",
       "      <td>1.00</td>\n",
       "      <td>1.00</td>\n",
       "      <td>1.00</td>\n",
       "      <td>1.00</td>\n",
       "      <td>1.00</td>\n",
       "      <td>1.00</td>\n",
       "    </tr>\n",
       "    <tr>\n",
       "      <th>min</th>\n",
       "      <td>-1.74</td>\n",
       "      <td>-1.45</td>\n",
       "      <td>-1.41</td>\n",
       "      <td>-1.45</td>\n",
       "      <td>-2.17</td>\n",
       "      <td>-1.05</td>\n",
       "      <td>-0.62</td>\n",
       "      <td>-1.11</td>\n",
       "      <td>-0.99</td>\n",
       "      <td>-2.33</td>\n",
       "    </tr>\n",
       "    <tr>\n",
       "      <th>25%</th>\n",
       "      <td>-0.86</td>\n",
       "      <td>-0.65</td>\n",
       "      <td>-0.77</td>\n",
       "      <td>-0.74</td>\n",
       "      <td>-0.62</td>\n",
       "      <td>-0.23</td>\n",
       "      <td>-0.62</td>\n",
       "      <td>-1.11</td>\n",
       "      <td>-0.99</td>\n",
       "      <td>-0.71</td>\n",
       "    </tr>\n",
       "    <tr>\n",
       "      <th>50%</th>\n",
       "      <td>0.00</td>\n",
       "      <td>-0.21</td>\n",
       "      <td>-0.34</td>\n",
       "      <td>-0.38</td>\n",
       "      <td>0.16</td>\n",
       "      <td>-0.23</td>\n",
       "      <td>-0.62</td>\n",
       "      <td>0.90</td>\n",
       "      <td>-0.99</td>\n",
       "      <td>0.02</td>\n",
       "    </tr>\n",
       "    <tr>\n",
       "      <th>75%</th>\n",
       "      <td>0.86</td>\n",
       "      <td>0.43</td>\n",
       "      <td>0.52</td>\n",
       "      <td>0.70</td>\n",
       "      <td>0.55</td>\n",
       "      <td>-0.23</td>\n",
       "      <td>1.61</td>\n",
       "      <td>0.90</td>\n",
       "      <td>1.01</td>\n",
       "      <td>0.76</td>\n",
       "    </tr>\n",
       "    <tr>\n",
       "      <th>max</th>\n",
       "      <td>1.72</td>\n",
       "      <td>3.56</td>\n",
       "      <td>3.64</td>\n",
       "      <td>2.85</td>\n",
       "      <td>2.50</td>\n",
       "      <td>4.71</td>\n",
       "      <td>1.61</td>\n",
       "      <td>0.90</td>\n",
       "      <td>1.01</td>\n",
       "      <td>1.70</td>\n",
       "    </tr>\n",
       "  </tbody>\n",
       "</table>\n",
       "</div>"
      ],
      "text/plain": [
       "                     Ordem              salario                idade  \\\n",
       "count               179.00               179.00               179.00   \n",
       "mean                 -0.00                 0.00                -0.00   \n",
       "std                   1.00                 1.00                 1.00   \n",
       "min                  -1.74                -1.45                -1.41   \n",
       "25%                  -0.86                -0.65                -0.77   \n",
       "50%                   0.00                -0.21                -0.34   \n",
       "75%                   0.86                 0.43                 0.52   \n",
       "max                   1.72                 3.56                 3.64   \n",
       "\n",
       "                 tempocasa              escolar          qproj_estra  \\\n",
       "count               179.00               179.00               179.00   \n",
       "mean                  0.00                -0.00                 0.00   \n",
       "std                   1.00                 1.00                 1.00   \n",
       "min                  -1.45                -2.17                -1.05   \n",
       "25%                  -0.74                -0.62                -0.23   \n",
       "50%                  -0.38                 0.16                -0.23   \n",
       "75%                   0.70                 0.55                -0.23   \n",
       "max                   2.85                 2.50                 4.71   \n",
       "\n",
       "              proj_sustent          proj_6sigma          proj_social  \\\n",
       "count               179.00               179.00               179.00   \n",
       "mean                 -0.00                 0.00                 0.00   \n",
       "std                   1.00                 1.00                 1.00   \n",
       "min                  -0.62                -1.11                -0.99   \n",
       "25%                  -0.62                -1.11                -0.99   \n",
       "50%                  -0.62                 0.90                -0.99   \n",
       "75%                   1.61                 0.90                 1.01   \n",
       "max                   1.61                 0.90                 1.01   \n",
       "\n",
       "                notaavalia  \n",
       "count               179.00  \n",
       "mean                 -0.00  \n",
       "std                   1.00  \n",
       "min                  -2.33  \n",
       "25%                  -0.71  \n",
       "50%                   0.02  \n",
       "75%                   0.76  \n",
       "max                   1.70  "
      ]
     },
     "execution_count": 47,
     "metadata": {},
     "output_type": "execute_result"
    }
   ],
   "source": [
    "sal_normalStd = salario_semout.drop(columns=['sal_normal','sal_normalstd'])\n",
    "from sklearn.preprocessing import StandardScaler\n",
    "sc_sal = StandardScaler()\n",
    "sal_Std = pd.DataFrame(sc_sal.fit_transform(sal_normalStd), columns=sal_normalStd.columns, index=sal_normalStd.index)\n",
    "sal_Std.describe()"
   ]
  },
  {
   "cell_type": "code",
   "execution_count": 48,
   "metadata": {
    "colab": {
     "base_uri": "https://localhost:8080/",
     "height": 288
    },
    "id": "dyyRmv4GZB3e",
    "outputId": "5b6b0178-4357-47bd-a525-b17f0d88cf5f"
   },
   "outputs": [
    {
     "data": {
      "text/html": [
       "<div>\n",
       "<style scoped>\n",
       "    .dataframe tbody tr th:only-of-type {\n",
       "        vertical-align: middle;\n",
       "    }\n",
       "\n",
       "    .dataframe tbody tr th {\n",
       "        vertical-align: top;\n",
       "    }\n",
       "\n",
       "    .dataframe thead th {\n",
       "        text-align: right;\n",
       "    }\n",
       "</style>\n",
       "<table border=\"1\" class=\"dataframe\">\n",
       "  <thead>\n",
       "    <tr style=\"text-align: right;\">\n",
       "      <th></th>\n",
       "      <th>Ordem</th>\n",
       "      <th>salario</th>\n",
       "      <th>idade</th>\n",
       "      <th>tempocasa</th>\n",
       "      <th>escolar</th>\n",
       "      <th>qproj_estra</th>\n",
       "      <th>proj_sustent</th>\n",
       "      <th>proj_6sigma</th>\n",
       "      <th>proj_social</th>\n",
       "      <th>notaavalia</th>\n",
       "    </tr>\n",
       "  </thead>\n",
       "  <tbody>\n",
       "    <tr>\n",
       "      <th>count</th>\n",
       "      <td>179.00</td>\n",
       "      <td>179.00</td>\n",
       "      <td>179.00</td>\n",
       "      <td>179.00</td>\n",
       "      <td>179.00</td>\n",
       "      <td>179.00</td>\n",
       "      <td>179.00</td>\n",
       "      <td>179.00</td>\n",
       "      <td>179.00</td>\n",
       "      <td>179.00</td>\n",
       "    </tr>\n",
       "    <tr>\n",
       "      <th>mean</th>\n",
       "      <td>-0.00</td>\n",
       "      <td>0.00</td>\n",
       "      <td>-0.00</td>\n",
       "      <td>-0.00</td>\n",
       "      <td>-0.00</td>\n",
       "      <td>-0.00</td>\n",
       "      <td>0.00</td>\n",
       "      <td>-0.00</td>\n",
       "      <td>0.00</td>\n",
       "      <td>0.00</td>\n",
       "    </tr>\n",
       "    <tr>\n",
       "      <th>std</th>\n",
       "      <td>1.00</td>\n",
       "      <td>1.00</td>\n",
       "      <td>1.00</td>\n",
       "      <td>1.00</td>\n",
       "      <td>1.00</td>\n",
       "      <td>1.00</td>\n",
       "      <td>1.00</td>\n",
       "      <td>1.00</td>\n",
       "      <td>1.00</td>\n",
       "      <td>1.00</td>\n",
       "    </tr>\n",
       "    <tr>\n",
       "      <th>min</th>\n",
       "      <td>-1.74</td>\n",
       "      <td>-1.45</td>\n",
       "      <td>-1.41</td>\n",
       "      <td>-1.45</td>\n",
       "      <td>-2.17</td>\n",
       "      <td>-1.05</td>\n",
       "      <td>-0.62</td>\n",
       "      <td>-1.11</td>\n",
       "      <td>-0.99</td>\n",
       "      <td>-2.32</td>\n",
       "    </tr>\n",
       "    <tr>\n",
       "      <th>25%</th>\n",
       "      <td>-0.86</td>\n",
       "      <td>-0.65</td>\n",
       "      <td>-0.77</td>\n",
       "      <td>-0.73</td>\n",
       "      <td>-0.62</td>\n",
       "      <td>-0.23</td>\n",
       "      <td>-0.62</td>\n",
       "      <td>-1.11</td>\n",
       "      <td>-0.99</td>\n",
       "      <td>-0.71</td>\n",
       "    </tr>\n",
       "    <tr>\n",
       "      <th>50%</th>\n",
       "      <td>0.00</td>\n",
       "      <td>-0.21</td>\n",
       "      <td>-0.34</td>\n",
       "      <td>-0.38</td>\n",
       "      <td>0.16</td>\n",
       "      <td>-0.23</td>\n",
       "      <td>-0.62</td>\n",
       "      <td>0.90</td>\n",
       "      <td>-0.99</td>\n",
       "      <td>0.02</td>\n",
       "    </tr>\n",
       "    <tr>\n",
       "      <th>75%</th>\n",
       "      <td>0.86</td>\n",
       "      <td>0.43</td>\n",
       "      <td>0.52</td>\n",
       "      <td>0.69</td>\n",
       "      <td>0.55</td>\n",
       "      <td>-0.23</td>\n",
       "      <td>1.60</td>\n",
       "      <td>0.90</td>\n",
       "      <td>1.00</td>\n",
       "      <td>0.76</td>\n",
       "    </tr>\n",
       "    <tr>\n",
       "      <th>max</th>\n",
       "      <td>1.72</td>\n",
       "      <td>3.55</td>\n",
       "      <td>3.63</td>\n",
       "      <td>2.84</td>\n",
       "      <td>2.49</td>\n",
       "      <td>4.70</td>\n",
       "      <td>1.60</td>\n",
       "      <td>0.90</td>\n",
       "      <td>1.00</td>\n",
       "      <td>1.70</td>\n",
       "    </tr>\n",
       "  </tbody>\n",
       "</table>\n",
       "</div>"
      ],
      "text/plain": [
       "                     Ordem              salario                idade  \\\n",
       "count               179.00               179.00               179.00   \n",
       "mean                 -0.00                 0.00                -0.00   \n",
       "std                   1.00                 1.00                 1.00   \n",
       "min                  -1.74                -1.45                -1.41   \n",
       "25%                  -0.86                -0.65                -0.77   \n",
       "50%                   0.00                -0.21                -0.34   \n",
       "75%                   0.86                 0.43                 0.52   \n",
       "max                   1.72                 3.55                 3.63   \n",
       "\n",
       "                 tempocasa              escolar          qproj_estra  \\\n",
       "count               179.00               179.00               179.00   \n",
       "mean                 -0.00                -0.00                -0.00   \n",
       "std                   1.00                 1.00                 1.00   \n",
       "min                  -1.45                -2.17                -1.05   \n",
       "25%                  -0.73                -0.62                -0.23   \n",
       "50%                  -0.38                 0.16                -0.23   \n",
       "75%                   0.69                 0.55                -0.23   \n",
       "max                   2.84                 2.49                 4.70   \n",
       "\n",
       "              proj_sustent          proj_6sigma          proj_social  \\\n",
       "count               179.00               179.00               179.00   \n",
       "mean                  0.00                -0.00                 0.00   \n",
       "std                   1.00                 1.00                 1.00   \n",
       "min                  -0.62                -1.11                -0.99   \n",
       "25%                  -0.62                -1.11                -0.99   \n",
       "50%                  -0.62                 0.90                -0.99   \n",
       "75%                   1.60                 0.90                 1.00   \n",
       "max                   1.60                 0.90                 1.00   \n",
       "\n",
       "                notaavalia  \n",
       "count               179.00  \n",
       "mean                  0.00  \n",
       "std                   1.00  \n",
       "min                  -2.32  \n",
       "25%                  -0.71  \n",
       "50%                   0.02  \n",
       "75%                   0.76  \n",
       "max                   1.70  "
      ]
     },
     "execution_count": 48,
     "metadata": {},
     "output_type": "execute_result"
    }
   ],
   "source": [
    "normalized_Std=(sal_normalStd-sal_normalStd.mean())/sal_normalStd.std()\n",
    "normalized_Std.describe()"
   ]
  },
  {
   "cell_type": "code",
   "execution_count": 49,
   "metadata": {
    "colab": {
     "base_uri": "https://localhost:8080/",
     "height": 288
    },
    "id": "TlGZnSXTcF81",
    "outputId": "496e7f65-c47d-4645-fa64-441e43b88302"
   },
   "outputs": [
    {
     "data": {
      "text/html": [
       "<div>\n",
       "<style scoped>\n",
       "    .dataframe tbody tr th:only-of-type {\n",
       "        vertical-align: middle;\n",
       "    }\n",
       "\n",
       "    .dataframe tbody tr th {\n",
       "        vertical-align: top;\n",
       "    }\n",
       "\n",
       "    .dataframe thead th {\n",
       "        text-align: right;\n",
       "    }\n",
       "</style>\n",
       "<table border=\"1\" class=\"dataframe\">\n",
       "  <thead>\n",
       "    <tr style=\"text-align: right;\">\n",
       "      <th></th>\n",
       "      <th>Ordem</th>\n",
       "      <th>salario</th>\n",
       "      <th>idade</th>\n",
       "      <th>tempocasa</th>\n",
       "      <th>escolar</th>\n",
       "      <th>qproj_estra</th>\n",
       "      <th>proj_sustent</th>\n",
       "      <th>proj_6sigma</th>\n",
       "      <th>proj_social</th>\n",
       "      <th>notaavalia</th>\n",
       "    </tr>\n",
       "  </thead>\n",
       "  <tbody>\n",
       "    <tr>\n",
       "      <th>count</th>\n",
       "      <td>179.00</td>\n",
       "      <td>179.00</td>\n",
       "      <td>179.00</td>\n",
       "      <td>179.00</td>\n",
       "      <td>179.00</td>\n",
       "      <td>179.00</td>\n",
       "      <td>179.00</td>\n",
       "      <td>179.00</td>\n",
       "      <td>179.00</td>\n",
       "      <td>179.00</td>\n",
       "    </tr>\n",
       "    <tr>\n",
       "      <th>mean</th>\n",
       "      <td>0.50</td>\n",
       "      <td>0.29</td>\n",
       "      <td>0.28</td>\n",
       "      <td>0.34</td>\n",
       "      <td>0.47</td>\n",
       "      <td>0.18</td>\n",
       "      <td>0.28</td>\n",
       "      <td>0.55</td>\n",
       "      <td>0.50</td>\n",
       "      <td>0.58</td>\n",
       "    </tr>\n",
       "    <tr>\n",
       "      <th>std</th>\n",
       "      <td>0.29</td>\n",
       "      <td>0.20</td>\n",
       "      <td>0.20</td>\n",
       "      <td>0.23</td>\n",
       "      <td>0.21</td>\n",
       "      <td>0.17</td>\n",
       "      <td>0.45</td>\n",
       "      <td>0.50</td>\n",
       "      <td>0.50</td>\n",
       "      <td>0.25</td>\n",
       "    </tr>\n",
       "    <tr>\n",
       "      <th>min</th>\n",
       "      <td>0.00</td>\n",
       "      <td>0.00</td>\n",
       "      <td>0.00</td>\n",
       "      <td>0.00</td>\n",
       "      <td>0.00</td>\n",
       "      <td>0.00</td>\n",
       "      <td>0.00</td>\n",
       "      <td>0.00</td>\n",
       "      <td>0.00</td>\n",
       "      <td>0.00</td>\n",
       "    </tr>\n",
       "    <tr>\n",
       "      <th>25%</th>\n",
       "      <td>0.25</td>\n",
       "      <td>0.16</td>\n",
       "      <td>0.13</td>\n",
       "      <td>0.17</td>\n",
       "      <td>0.33</td>\n",
       "      <td>0.14</td>\n",
       "      <td>0.00</td>\n",
       "      <td>0.00</td>\n",
       "      <td>0.00</td>\n",
       "      <td>0.40</td>\n",
       "    </tr>\n",
       "    <tr>\n",
       "      <th>50%</th>\n",
       "      <td>0.50</td>\n",
       "      <td>0.25</td>\n",
       "      <td>0.21</td>\n",
       "      <td>0.25</td>\n",
       "      <td>0.50</td>\n",
       "      <td>0.14</td>\n",
       "      <td>0.00</td>\n",
       "      <td>1.00</td>\n",
       "      <td>0.00</td>\n",
       "      <td>0.58</td>\n",
       "    </tr>\n",
       "    <tr>\n",
       "      <th>75%</th>\n",
       "      <td>0.75</td>\n",
       "      <td>0.38</td>\n",
       "      <td>0.38</td>\n",
       "      <td>0.50</td>\n",
       "      <td>0.58</td>\n",
       "      <td>0.14</td>\n",
       "      <td>1.00</td>\n",
       "      <td>1.00</td>\n",
       "      <td>1.00</td>\n",
       "      <td>0.77</td>\n",
       "    </tr>\n",
       "    <tr>\n",
       "      <th>max</th>\n",
       "      <td>1.00</td>\n",
       "      <td>1.00</td>\n",
       "      <td>1.00</td>\n",
       "      <td>1.00</td>\n",
       "      <td>1.00</td>\n",
       "      <td>1.00</td>\n",
       "      <td>1.00</td>\n",
       "      <td>1.00</td>\n",
       "      <td>1.00</td>\n",
       "      <td>1.00</td>\n",
       "    </tr>\n",
       "  </tbody>\n",
       "</table>\n",
       "</div>"
      ],
      "text/plain": [
       "                     Ordem              salario                idade  \\\n",
       "count               179.00               179.00               179.00   \n",
       "mean                  0.50                 0.29                 0.28   \n",
       "std                   0.29                 0.20                 0.20   \n",
       "min                   0.00                 0.00                 0.00   \n",
       "25%                   0.25                 0.16                 0.13   \n",
       "50%                   0.50                 0.25                 0.21   \n",
       "75%                   0.75                 0.38                 0.38   \n",
       "max                   1.00                 1.00                 1.00   \n",
       "\n",
       "                 tempocasa              escolar          qproj_estra  \\\n",
       "count               179.00               179.00               179.00   \n",
       "mean                  0.34                 0.47                 0.18   \n",
       "std                   0.23                 0.21                 0.17   \n",
       "min                   0.00                 0.00                 0.00   \n",
       "25%                   0.17                 0.33                 0.14   \n",
       "50%                   0.25                 0.50                 0.14   \n",
       "75%                   0.50                 0.58                 0.14   \n",
       "max                   1.00                 1.00                 1.00   \n",
       "\n",
       "              proj_sustent          proj_6sigma          proj_social  \\\n",
       "count               179.00               179.00               179.00   \n",
       "mean                  0.28                 0.55                 0.50   \n",
       "std                   0.45                 0.50                 0.50   \n",
       "min                   0.00                 0.00                 0.00   \n",
       "25%                   0.00                 0.00                 0.00   \n",
       "50%                   0.00                 1.00                 0.00   \n",
       "75%                   1.00                 1.00                 1.00   \n",
       "max                   1.00                 1.00                 1.00   \n",
       "\n",
       "                notaavalia  \n",
       "count               179.00  \n",
       "mean                  0.58  \n",
       "std                   0.25  \n",
       "min                   0.00  \n",
       "25%                   0.40  \n",
       "50%                   0.58  \n",
       "75%                   0.77  \n",
       "max                   1.00  "
      ]
     },
     "execution_count": 49,
     "metadata": {},
     "output_type": "execute_result"
    }
   ],
   "source": [
    "normalized_MinMax=(sal_normalMinMax-sal_normalMinMax.min())/(sal_normalMinMax.max()-sal_normalMinMax.min())\n",
    "normalized_MinMax.describe()"
   ]
  },
  {
   "cell_type": "code",
   "execution_count": 50,
   "metadata": {
    "colab": {
     "base_uri": "https://localhost:8080/",
     "height": 288
    },
    "id": "_QHfXUxwcPGz",
    "outputId": "2caea567-7b5d-4471-ae71-bd86364e96e8"
   },
   "outputs": [
    {
     "data": {
      "text/html": [
       "<div>\n",
       "<style scoped>\n",
       "    .dataframe tbody tr th:only-of-type {\n",
       "        vertical-align: middle;\n",
       "    }\n",
       "\n",
       "    .dataframe tbody tr th {\n",
       "        vertical-align: top;\n",
       "    }\n",
       "\n",
       "    .dataframe thead th {\n",
       "        text-align: right;\n",
       "    }\n",
       "</style>\n",
       "<table border=\"1\" class=\"dataframe\">\n",
       "  <thead>\n",
       "    <tr style=\"text-align: right;\">\n",
       "      <th></th>\n",
       "      <th>Ordem</th>\n",
       "      <th>salario</th>\n",
       "      <th>idade</th>\n",
       "      <th>tempocasa</th>\n",
       "      <th>escolar</th>\n",
       "      <th>qproj_estra</th>\n",
       "      <th>proj_sustent</th>\n",
       "      <th>proj_6sigma</th>\n",
       "      <th>proj_social</th>\n",
       "      <th>notaavalia</th>\n",
       "    </tr>\n",
       "  </thead>\n",
       "  <tbody>\n",
       "    <tr>\n",
       "      <th>count</th>\n",
       "      <td>179.00</td>\n",
       "      <td>179.00</td>\n",
       "      <td>179.00</td>\n",
       "      <td>179.00</td>\n",
       "      <td>179.00</td>\n",
       "      <td>179.00</td>\n",
       "      <td>179.00</td>\n",
       "      <td>179.00</td>\n",
       "      <td>179.00</td>\n",
       "      <td>179.00</td>\n",
       "    </tr>\n",
       "    <tr>\n",
       "      <th>mean</th>\n",
       "      <td>0.50</td>\n",
       "      <td>0.29</td>\n",
       "      <td>0.28</td>\n",
       "      <td>0.34</td>\n",
       "      <td>0.47</td>\n",
       "      <td>0.18</td>\n",
       "      <td>0.28</td>\n",
       "      <td>0.55</td>\n",
       "      <td>0.50</td>\n",
       "      <td>0.58</td>\n",
       "    </tr>\n",
       "    <tr>\n",
       "      <th>std</th>\n",
       "      <td>0.29</td>\n",
       "      <td>0.20</td>\n",
       "      <td>0.20</td>\n",
       "      <td>0.23</td>\n",
       "      <td>0.21</td>\n",
       "      <td>0.17</td>\n",
       "      <td>0.45</td>\n",
       "      <td>0.50</td>\n",
       "      <td>0.50</td>\n",
       "      <td>0.25</td>\n",
       "    </tr>\n",
       "    <tr>\n",
       "      <th>min</th>\n",
       "      <td>0.00</td>\n",
       "      <td>0.00</td>\n",
       "      <td>0.00</td>\n",
       "      <td>0.00</td>\n",
       "      <td>0.00</td>\n",
       "      <td>0.00</td>\n",
       "      <td>0.00</td>\n",
       "      <td>0.00</td>\n",
       "      <td>0.00</td>\n",
       "      <td>0.00</td>\n",
       "    </tr>\n",
       "    <tr>\n",
       "      <th>25%</th>\n",
       "      <td>0.25</td>\n",
       "      <td>0.16</td>\n",
       "      <td>0.13</td>\n",
       "      <td>0.17</td>\n",
       "      <td>0.33</td>\n",
       "      <td>0.14</td>\n",
       "      <td>0.00</td>\n",
       "      <td>0.00</td>\n",
       "      <td>0.00</td>\n",
       "      <td>0.40</td>\n",
       "    </tr>\n",
       "    <tr>\n",
       "      <th>50%</th>\n",
       "      <td>0.50</td>\n",
       "      <td>0.25</td>\n",
       "      <td>0.21</td>\n",
       "      <td>0.25</td>\n",
       "      <td>0.50</td>\n",
       "      <td>0.14</td>\n",
       "      <td>0.00</td>\n",
       "      <td>1.00</td>\n",
       "      <td>0.00</td>\n",
       "      <td>0.58</td>\n",
       "    </tr>\n",
       "    <tr>\n",
       "      <th>75%</th>\n",
       "      <td>0.75</td>\n",
       "      <td>0.38</td>\n",
       "      <td>0.38</td>\n",
       "      <td>0.50</td>\n",
       "      <td>0.58</td>\n",
       "      <td>0.14</td>\n",
       "      <td>1.00</td>\n",
       "      <td>1.00</td>\n",
       "      <td>1.00</td>\n",
       "      <td>0.77</td>\n",
       "    </tr>\n",
       "    <tr>\n",
       "      <th>max</th>\n",
       "      <td>1.00</td>\n",
       "      <td>1.00</td>\n",
       "      <td>1.00</td>\n",
       "      <td>1.00</td>\n",
       "      <td>1.00</td>\n",
       "      <td>1.00</td>\n",
       "      <td>1.00</td>\n",
       "      <td>1.00</td>\n",
       "      <td>1.00</td>\n",
       "      <td>1.00</td>\n",
       "    </tr>\n",
       "  </tbody>\n",
       "</table>\n",
       "</div>"
      ],
      "text/plain": [
       "                     Ordem              salario                idade  \\\n",
       "count               179.00               179.00               179.00   \n",
       "mean                  0.50                 0.29                 0.28   \n",
       "std                   0.29                 0.20                 0.20   \n",
       "min                   0.00                 0.00                 0.00   \n",
       "25%                   0.25                 0.16                 0.13   \n",
       "50%                   0.50                 0.25                 0.21   \n",
       "75%                   0.75                 0.38                 0.38   \n",
       "max                   1.00                 1.00                 1.00   \n",
       "\n",
       "                 tempocasa              escolar          qproj_estra  \\\n",
       "count               179.00               179.00               179.00   \n",
       "mean                  0.34                 0.47                 0.18   \n",
       "std                   0.23                 0.21                 0.17   \n",
       "min                   0.00                 0.00                 0.00   \n",
       "25%                   0.17                 0.33                 0.14   \n",
       "50%                   0.25                 0.50                 0.14   \n",
       "75%                   0.50                 0.58                 0.14   \n",
       "max                   1.00                 1.00                 1.00   \n",
       "\n",
       "              proj_sustent          proj_6sigma          proj_social  \\\n",
       "count               179.00               179.00               179.00   \n",
       "mean                  0.28                 0.55                 0.50   \n",
       "std                   0.45                 0.50                 0.50   \n",
       "min                   0.00                 0.00                 0.00   \n",
       "25%                   0.00                 0.00                 0.00   \n",
       "50%                   0.00                 1.00                 0.00   \n",
       "75%                   1.00                 1.00                 1.00   \n",
       "max                   1.00                 1.00                 1.00   \n",
       "\n",
       "                notaavalia  \n",
       "count               179.00  \n",
       "mean                  0.58  \n",
       "std                   0.25  \n",
       "min                   0.00  \n",
       "25%                   0.40  \n",
       "50%                   0.58  \n",
       "75%                   0.77  \n",
       "max                   1.00  "
      ]
     },
     "execution_count": 50,
     "metadata": {},
     "output_type": "execute_result"
    }
   ],
   "source": [
    "sal_MinMax.describe()"
   ]
  },
  {
   "cell_type": "markdown",
   "metadata": {
    "id": "Eh_J-8TmYIGJ"
   },
   "source": [
    "# Transformando as variáveis em Categóricas #"
   ]
  },
  {
   "cell_type": "code",
   "execution_count": 51,
   "metadata": {},
   "outputs": [
    {
     "data": {
      "text/plain": [
       "Loan_ID               object\n",
       "Gender                 int32\n",
       "Married                int32\n",
       "Dependents             int32\n",
       "Education              int32\n",
       "Self_Employed          int32\n",
       "ApplicantIncome        int64\n",
       "CoapplicantIncome    float64\n",
       "LoanAmount           float64\n",
       "Loan_Amount_Term     float64\n",
       "Credit_History       float64\n",
       "Property_Area          int32\n",
       "Loan_Status            int32\n",
       "dtype: object"
      ]
     },
     "execution_count": 51,
     "metadata": {},
     "output_type": "execute_result"
    }
   ],
   "source": [
    "from sklearn.preprocessing import LabelEncoder \n",
    "\n",
    "dfloan = pd.read_csv('Datasets/Loan_Training_data.csv')\n",
    "\n",
    "var_mod =['Gender','Married','Dependents','Education','Self_Employed','Property_Area','Loan_Status'] \n",
    "\n",
    "le = LabelEncoder() \n",
    "# Transformando as variáveis em Dummies #\n",
    "for i in var_mod: \n",
    "  dfloan[i] = le.fit_transform(dfloan[i]) \n",
    "\n",
    "dfloan.dtypes"
   ]
  },
  {
   "cell_type": "markdown",
   "metadata": {
    "id": "Eh_J-8TmYIGJ"
   },
   "source": [
    "# Transformando as variáveis em Dummies #"
   ]
  },
  {
   "cell_type": "markdown",
   "metadata": {},
   "source": [
    "### Usando Pandas get_dummies ###"
   ]
  },
  {
   "cell_type": "code",
   "execution_count": 52,
   "metadata": {},
   "outputs": [],
   "source": [
    "from sklearn.datasets import load_iris\n",
    "sns.set()\n",
    "%matplotlib inline"
   ]
  },
  {
   "cell_type": "code",
   "execution_count": 53,
   "metadata": {},
   "outputs": [],
   "source": [
    "#Iris Plot\n",
    "iris = load_iris()\n",
    "n_samples, m_features = iris.data.shape"
   ]
  },
  {
   "cell_type": "code",
   "execution_count": 54,
   "metadata": {},
   "outputs": [],
   "source": [
    "#Load Data\n",
    "X, y = iris.data, iris.target\n",
    "D_target_dummy = dict(zip(np.arange(iris.target_names.shape[0]), iris.target_names))"
   ]
  },
  {
   "cell_type": "code",
   "execution_count": 55,
   "metadata": {},
   "outputs": [
    {
     "data": {
      "text/html": [
       "<div>\n",
       "<style scoped>\n",
       "    .dataframe tbody tr th:only-of-type {\n",
       "        vertical-align: middle;\n",
       "    }\n",
       "\n",
       "    .dataframe tbody tr th {\n",
       "        vertical-align: top;\n",
       "    }\n",
       "\n",
       "    .dataframe thead th {\n",
       "        text-align: right;\n",
       "    }\n",
       "</style>\n",
       "<table border=\"1\" class=\"dataframe\">\n",
       "  <thead>\n",
       "    <tr style=\"text-align: right;\">\n",
       "      <th></th>\n",
       "      <th>sepal length (cm)</th>\n",
       "      <th>sepal width (cm)</th>\n",
       "      <th>petal length (cm)</th>\n",
       "      <th>petal width (cm)</th>\n",
       "    </tr>\n",
       "  </thead>\n",
       "  <tbody>\n",
       "    <tr>\n",
       "      <th>0</th>\n",
       "      <td>5.10</td>\n",
       "      <td>3.50</td>\n",
       "      <td>1.40</td>\n",
       "      <td>0.20</td>\n",
       "    </tr>\n",
       "    <tr>\n",
       "      <th>1</th>\n",
       "      <td>4.90</td>\n",
       "      <td>3.00</td>\n",
       "      <td>1.40</td>\n",
       "      <td>0.20</td>\n",
       "    </tr>\n",
       "    <tr>\n",
       "      <th>2</th>\n",
       "      <td>4.70</td>\n",
       "      <td>3.20</td>\n",
       "      <td>1.30</td>\n",
       "      <td>0.20</td>\n",
       "    </tr>\n",
       "    <tr>\n",
       "      <th>3</th>\n",
       "      <td>4.60</td>\n",
       "      <td>3.10</td>\n",
       "      <td>1.50</td>\n",
       "      <td>0.20</td>\n",
       "    </tr>\n",
       "    <tr>\n",
       "      <th>4</th>\n",
       "      <td>5.00</td>\n",
       "      <td>3.60</td>\n",
       "      <td>1.40</td>\n",
       "      <td>0.20</td>\n",
       "    </tr>\n",
       "  </tbody>\n",
       "</table>\n",
       "</div>"
      ],
      "text/plain": [
       "     sepal length (cm)     sepal width (cm)    petal length (cm)  \\\n",
       "0                 5.10                 3.50                 1.40   \n",
       "1                 4.90                 3.00                 1.40   \n",
       "2                 4.70                 3.20                 1.30   \n",
       "3                 4.60                 3.10                 1.50   \n",
       "4                 5.00                 3.60                 1.40   \n",
       "\n",
       "      petal width (cm)  \n",
       "0                 0.20  \n",
       "1                 0.20  \n",
       "2                 0.20  \n",
       "3                 0.20  \n",
       "4                 0.20  "
      ]
     },
     "execution_count": 55,
     "metadata": {},
     "output_type": "execute_result"
    }
   ],
   "source": [
    "DF_data = pd.DataFrame(X,columns=iris.feature_names)\n",
    "DF_data.head()"
   ]
  },
  {
   "cell_type": "code",
   "execution_count": 56,
   "metadata": {},
   "outputs": [
    {
     "data": {
      "text/html": [
       "<div>\n",
       "<style scoped>\n",
       "    .dataframe tbody tr th:only-of-type {\n",
       "        vertical-align: middle;\n",
       "    }\n",
       "\n",
       "    .dataframe tbody tr th {\n",
       "        vertical-align: top;\n",
       "    }\n",
       "\n",
       "    .dataframe thead th {\n",
       "        text-align: right;\n",
       "    }\n",
       "</style>\n",
       "<table border=\"1\" class=\"dataframe\">\n",
       "  <thead>\n",
       "    <tr style=\"text-align: right;\">\n",
       "      <th></th>\n",
       "      <th>sepal length (cm)</th>\n",
       "      <th>sepal width (cm)</th>\n",
       "      <th>petal length (cm)</th>\n",
       "      <th>petal width (cm)</th>\n",
       "      <th>target</th>\n",
       "    </tr>\n",
       "  </thead>\n",
       "  <tbody>\n",
       "    <tr>\n",
       "      <th>0</th>\n",
       "      <td>5.10</td>\n",
       "      <td>3.50</td>\n",
       "      <td>1.40</td>\n",
       "      <td>0.20</td>\n",
       "      <td>setosa</td>\n",
       "    </tr>\n",
       "    <tr>\n",
       "      <th>1</th>\n",
       "      <td>4.90</td>\n",
       "      <td>3.00</td>\n",
       "      <td>1.40</td>\n",
       "      <td>0.20</td>\n",
       "      <td>setosa</td>\n",
       "    </tr>\n",
       "    <tr>\n",
       "      <th>2</th>\n",
       "      <td>4.70</td>\n",
       "      <td>3.20</td>\n",
       "      <td>1.30</td>\n",
       "      <td>0.20</td>\n",
       "      <td>setosa</td>\n",
       "    </tr>\n",
       "    <tr>\n",
       "      <th>3</th>\n",
       "      <td>4.60</td>\n",
       "      <td>3.10</td>\n",
       "      <td>1.50</td>\n",
       "      <td>0.20</td>\n",
       "      <td>setosa</td>\n",
       "    </tr>\n",
       "    <tr>\n",
       "      <th>4</th>\n",
       "      <td>5.00</td>\n",
       "      <td>3.60</td>\n",
       "      <td>1.40</td>\n",
       "      <td>0.20</td>\n",
       "      <td>setosa</td>\n",
       "    </tr>\n",
       "  </tbody>\n",
       "</table>\n",
       "</div>"
      ],
      "text/plain": [
       "     sepal length (cm)     sepal width (cm)    petal length (cm)  \\\n",
       "0                 5.10                 3.50                 1.40   \n",
       "1                 4.90                 3.00                 1.40   \n",
       "2                 4.70                 3.20                 1.30   \n",
       "3                 4.60                 3.10                 1.50   \n",
       "4                 5.00                 3.60                 1.40   \n",
       "\n",
       "      petal width (cm)  target  \n",
       "0                 0.20  setosa  \n",
       "1                 0.20  setosa  \n",
       "2                 0.20  setosa  \n",
       "3                 0.20  setosa  \n",
       "4                 0.20  setosa  "
      ]
     },
     "execution_count": 56,
     "metadata": {},
     "output_type": "execute_result"
    }
   ],
   "source": [
    "DF_data[\"target\"] = pd.Series(y).map(D_target_dummy)\n",
    "DF_data.head()"
   ]
  },
  {
   "cell_type": "code",
   "execution_count": 57,
   "metadata": {},
   "outputs": [
    {
     "data": {
      "text/html": [
       "<div>\n",
       "<style scoped>\n",
       "    .dataframe tbody tr th:only-of-type {\n",
       "        vertical-align: middle;\n",
       "    }\n",
       "\n",
       "    .dataframe tbody tr th {\n",
       "        vertical-align: top;\n",
       "    }\n",
       "\n",
       "    .dataframe thead th {\n",
       "        text-align: right;\n",
       "    }\n",
       "</style>\n",
       "<table border=\"1\" class=\"dataframe\">\n",
       "  <thead>\n",
       "    <tr style=\"text-align: right;\">\n",
       "      <th></th>\n",
       "      <th>sepal length (cm)</th>\n",
       "      <th>sepal width (cm)</th>\n",
       "      <th>petal length (cm)</th>\n",
       "      <th>petal width (cm)</th>\n",
       "      <th>target_setosa</th>\n",
       "      <th>target_versicolor</th>\n",
       "      <th>target_virginica</th>\n",
       "    </tr>\n",
       "  </thead>\n",
       "  <tbody>\n",
       "    <tr>\n",
       "      <th>0</th>\n",
       "      <td>5.10</td>\n",
       "      <td>3.50</td>\n",
       "      <td>1.40</td>\n",
       "      <td>0.20</td>\n",
       "      <td>1</td>\n",
       "      <td>0</td>\n",
       "      <td>0</td>\n",
       "    </tr>\n",
       "    <tr>\n",
       "      <th>1</th>\n",
       "      <td>4.90</td>\n",
       "      <td>3.00</td>\n",
       "      <td>1.40</td>\n",
       "      <td>0.20</td>\n",
       "      <td>1</td>\n",
       "      <td>0</td>\n",
       "      <td>0</td>\n",
       "    </tr>\n",
       "    <tr>\n",
       "      <th>2</th>\n",
       "      <td>4.70</td>\n",
       "      <td>3.20</td>\n",
       "      <td>1.30</td>\n",
       "      <td>0.20</td>\n",
       "      <td>1</td>\n",
       "      <td>0</td>\n",
       "      <td>0</td>\n",
       "    </tr>\n",
       "    <tr>\n",
       "      <th>3</th>\n",
       "      <td>4.60</td>\n",
       "      <td>3.10</td>\n",
       "      <td>1.50</td>\n",
       "      <td>0.20</td>\n",
       "      <td>1</td>\n",
       "      <td>0</td>\n",
       "      <td>0</td>\n",
       "    </tr>\n",
       "    <tr>\n",
       "      <th>4</th>\n",
       "      <td>5.00</td>\n",
       "      <td>3.60</td>\n",
       "      <td>1.40</td>\n",
       "      <td>0.20</td>\n",
       "      <td>1</td>\n",
       "      <td>0</td>\n",
       "      <td>0</td>\n",
       "    </tr>\n",
       "  </tbody>\n",
       "</table>\n",
       "</div>"
      ],
      "text/plain": [
       "     sepal length (cm)     sepal width (cm)    petal length (cm)  \\\n",
       "0                 5.10                 3.50                 1.40   \n",
       "1                 4.90                 3.00                 1.40   \n",
       "2                 4.70                 3.20                 1.30   \n",
       "3                 4.60                 3.10                 1.50   \n",
       "4                 5.00                 3.60                 1.40   \n",
       "\n",
       "      petal width (cm)  target_setosa  target_versicolor  target_virginica  \n",
       "0                 0.20              1                  0                 0  \n",
       "1                 0.20              1                  0                 0  \n",
       "2                 0.20              1                  0                 0  \n",
       "3                 0.20              1                  0                 0  \n",
       "4                 0.20              1                  0                 0  "
      ]
     },
     "execution_count": 57,
     "metadata": {},
     "output_type": "execute_result"
    }
   ],
   "source": [
    "DF_data = pd.get_dummies(DF_data, columns=['target'])\n",
    "DF_data.head()"
   ]
  },
  {
   "cell_type": "code",
   "execution_count": 58,
   "metadata": {},
   "outputs": [],
   "source": [
    "df = pd.DataFrame({'P': ['p', 'q', 'p'], 'Q': ['q', 'p', 'r'],\n",
    "                   'R': [2, 3, 4]})"
   ]
  },
  {
   "cell_type": "code",
   "execution_count": 59,
   "metadata": {},
   "outputs": [
    {
     "data": {
      "text/html": [
       "<div>\n",
       "<style scoped>\n",
       "    .dataframe tbody tr th:only-of-type {\n",
       "        vertical-align: middle;\n",
       "    }\n",
       "\n",
       "    .dataframe tbody tr th {\n",
       "        vertical-align: top;\n",
       "    }\n",
       "\n",
       "    .dataframe thead th {\n",
       "        text-align: right;\n",
       "    }\n",
       "</style>\n",
       "<table border=\"1\" class=\"dataframe\">\n",
       "  <thead>\n",
       "    <tr style=\"text-align: right;\">\n",
       "      <th></th>\n",
       "      <th>P</th>\n",
       "      <th>Q</th>\n",
       "      <th>R</th>\n",
       "    </tr>\n",
       "  </thead>\n",
       "  <tbody>\n",
       "    <tr>\n",
       "      <th>0</th>\n",
       "      <td>p</td>\n",
       "      <td>q</td>\n",
       "      <td>2</td>\n",
       "    </tr>\n",
       "    <tr>\n",
       "      <th>1</th>\n",
       "      <td>q</td>\n",
       "      <td>p</td>\n",
       "      <td>3</td>\n",
       "    </tr>\n",
       "    <tr>\n",
       "      <th>2</th>\n",
       "      <td>p</td>\n",
       "      <td>r</td>\n",
       "      <td>4</td>\n",
       "    </tr>\n",
       "  </tbody>\n",
       "</table>\n",
       "</div>"
      ],
      "text/plain": [
       "   P  Q  R\n",
       "0  p  q  2\n",
       "1  q  p  3\n",
       "2  p  r  4"
      ]
     },
     "execution_count": 59,
     "metadata": {},
     "output_type": "execute_result"
    }
   ],
   "source": [
    "df.head()"
   ]
  },
  {
   "cell_type": "markdown",
   "metadata": {},
   "source": [
    "### Usando scikit-learn OneHotEncoder ###"
   ]
  },
  {
   "cell_type": "code",
   "execution_count": 60,
   "metadata": {},
   "outputs": [
    {
     "data": {
      "text/html": [
       "<div>\n",
       "<style scoped>\n",
       "    .dataframe tbody tr th:only-of-type {\n",
       "        vertical-align: middle;\n",
       "    }\n",
       "\n",
       "    .dataframe tbody tr th {\n",
       "        vertical-align: top;\n",
       "    }\n",
       "\n",
       "    .dataframe thead th {\n",
       "        text-align: right;\n",
       "    }\n",
       "</style>\n",
       "<table border=\"1\" class=\"dataframe\">\n",
       "  <thead>\n",
       "    <tr style=\"text-align: right;\">\n",
       "      <th></th>\n",
       "      <th>sepal length (cm)</th>\n",
       "      <th>sepal width (cm)</th>\n",
       "      <th>petal length (cm)</th>\n",
       "      <th>petal width (cm)</th>\n",
       "      <th>target</th>\n",
       "    </tr>\n",
       "  </thead>\n",
       "  <tbody>\n",
       "    <tr>\n",
       "      <th>0</th>\n",
       "      <td>5.10</td>\n",
       "      <td>3.50</td>\n",
       "      <td>1.40</td>\n",
       "      <td>0.20</td>\n",
       "      <td>setosa</td>\n",
       "    </tr>\n",
       "    <tr>\n",
       "      <th>1</th>\n",
       "      <td>4.90</td>\n",
       "      <td>3.00</td>\n",
       "      <td>1.40</td>\n",
       "      <td>0.20</td>\n",
       "      <td>setosa</td>\n",
       "    </tr>\n",
       "    <tr>\n",
       "      <th>2</th>\n",
       "      <td>4.70</td>\n",
       "      <td>3.20</td>\n",
       "      <td>1.30</td>\n",
       "      <td>0.20</td>\n",
       "      <td>setosa</td>\n",
       "    </tr>\n",
       "    <tr>\n",
       "      <th>3</th>\n",
       "      <td>4.60</td>\n",
       "      <td>3.10</td>\n",
       "      <td>1.50</td>\n",
       "      <td>0.20</td>\n",
       "      <td>setosa</td>\n",
       "    </tr>\n",
       "    <tr>\n",
       "      <th>4</th>\n",
       "      <td>5.00</td>\n",
       "      <td>3.60</td>\n",
       "      <td>1.40</td>\n",
       "      <td>0.20</td>\n",
       "      <td>setosa</td>\n",
       "    </tr>\n",
       "  </tbody>\n",
       "</table>\n",
       "</div>"
      ],
      "text/plain": [
       "     sepal length (cm)     sepal width (cm)    petal length (cm)  \\\n",
       "0                 5.10                 3.50                 1.40   \n",
       "1                 4.90                 3.00                 1.40   \n",
       "2                 4.70                 3.20                 1.30   \n",
       "3                 4.60                 3.10                 1.50   \n",
       "4                 5.00                 3.60                 1.40   \n",
       "\n",
       "      petal width (cm)  target  \n",
       "0                 0.20  setosa  \n",
       "1                 0.20  setosa  \n",
       "2                 0.20  setosa  \n",
       "3                 0.20  setosa  \n",
       "4                 0.20  setosa  "
      ]
     },
     "execution_count": 60,
     "metadata": {},
     "output_type": "execute_result"
    }
   ],
   "source": [
    "from sklearn.preprocessing import OneHotEncoder, LabelEncoder\n",
    "DF_data = pd.DataFrame(X,columns=iris.feature_names)\n",
    "DF_data[\"target\"] = pd.Series(y).map(D_target_dummy)\n",
    "DF_data.head()"
   ]
  },
  {
   "cell_type": "code",
   "execution_count": 61,
   "metadata": {},
   "outputs": [],
   "source": [
    "Enc_ohe, Enc_label = OneHotEncoder(), LabelEncoder()\n",
    "DF_data[\"Dummies\"] = Enc_label.fit_transform(DF_data[\"target\"])"
   ]
  },
  {
   "cell_type": "markdown",
   "metadata": {},
   "source": [
    "### Se quisesse que a variável target ficasse como categórica ###"
   ]
  },
  {
   "cell_type": "code",
   "execution_count": 62,
   "metadata": {},
   "outputs": [
    {
     "data": {
      "text/plain": [
       "0    50\n",
       "1    50\n",
       "2    50\n",
       "Name: Dummies, dtype: int64"
      ]
     },
     "execution_count": 62,
     "metadata": {},
     "output_type": "execute_result"
    }
   ],
   "source": [
    "DF_data.Dummies.value_counts()"
   ]
  },
  {
   "cell_type": "markdown",
   "metadata": {},
   "source": [
    "### Se quisesse que uma variável categórica ficasse como dummy ###"
   ]
  },
  {
   "cell_type": "code",
   "execution_count": 63,
   "metadata": {},
   "outputs": [
    {
     "data": {
      "text/html": [
       "<div>\n",
       "<style scoped>\n",
       "    .dataframe tbody tr th:only-of-type {\n",
       "        vertical-align: middle;\n",
       "    }\n",
       "\n",
       "    .dataframe tbody tr th {\n",
       "        vertical-align: top;\n",
       "    }\n",
       "\n",
       "    .dataframe thead th {\n",
       "        text-align: right;\n",
       "    }\n",
       "</style>\n",
       "<table border=\"1\" class=\"dataframe\">\n",
       "  <thead>\n",
       "    <tr style=\"text-align: right;\">\n",
       "      <th></th>\n",
       "      <th>setosa</th>\n",
       "      <th>versicolor</th>\n",
       "      <th>virginica</th>\n",
       "    </tr>\n",
       "  </thead>\n",
       "  <tbody>\n",
       "    <tr>\n",
       "      <th>0</th>\n",
       "      <td>1.00</td>\n",
       "      <td>0.00</td>\n",
       "      <td>0.00</td>\n",
       "    </tr>\n",
       "    <tr>\n",
       "      <th>1</th>\n",
       "      <td>1.00</td>\n",
       "      <td>0.00</td>\n",
       "      <td>0.00</td>\n",
       "    </tr>\n",
       "    <tr>\n",
       "      <th>2</th>\n",
       "      <td>1.00</td>\n",
       "      <td>0.00</td>\n",
       "      <td>0.00</td>\n",
       "    </tr>\n",
       "    <tr>\n",
       "      <th>3</th>\n",
       "      <td>1.00</td>\n",
       "      <td>0.00</td>\n",
       "      <td>0.00</td>\n",
       "    </tr>\n",
       "    <tr>\n",
       "      <th>4</th>\n",
       "      <td>1.00</td>\n",
       "      <td>0.00</td>\n",
       "      <td>0.00</td>\n",
       "    </tr>\n",
       "  </tbody>\n",
       "</table>\n",
       "</div>"
      ],
      "text/plain": [
       "                setosa           versicolor            virginica\n",
       "0                 1.00                 0.00                 0.00\n",
       "1                 1.00                 0.00                 0.00\n",
       "2                 1.00                 0.00                 0.00\n",
       "3                 1.00                 0.00                 0.00\n",
       "4                 1.00                 0.00                 0.00"
      ]
     },
     "execution_count": 63,
     "metadata": {},
     "output_type": "execute_result"
    }
   ],
   "source": [
    "DF_dummies = pd.DataFrame(Enc_ohe.fit_transform(DF_data[[\"Dummies\"]]).todense(), columns = Enc_label.classes_)\n",
    "DF_dummies.head()"
   ]
  },
  {
   "cell_type": "code",
   "execution_count": 64,
   "metadata": {},
   "outputs": [],
   "source": [
    "DF_data = DF_data.join(DF_dummies)"
   ]
  },
  {
   "cell_type": "code",
   "execution_count": 65,
   "metadata": {},
   "outputs": [
    {
     "data": {
      "text/html": [
       "<div>\n",
       "<style scoped>\n",
       "    .dataframe tbody tr th:only-of-type {\n",
       "        vertical-align: middle;\n",
       "    }\n",
       "\n",
       "    .dataframe tbody tr th {\n",
       "        vertical-align: top;\n",
       "    }\n",
       "\n",
       "    .dataframe thead th {\n",
       "        text-align: right;\n",
       "    }\n",
       "</style>\n",
       "<table border=\"1\" class=\"dataframe\">\n",
       "  <thead>\n",
       "    <tr style=\"text-align: right;\">\n",
       "      <th></th>\n",
       "      <th>sepal length (cm)</th>\n",
       "      <th>sepal width (cm)</th>\n",
       "      <th>petal length (cm)</th>\n",
       "      <th>petal width (cm)</th>\n",
       "      <th>target</th>\n",
       "      <th>Dummies</th>\n",
       "      <th>setosa</th>\n",
       "      <th>versicolor</th>\n",
       "      <th>virginica</th>\n",
       "    </tr>\n",
       "  </thead>\n",
       "  <tbody>\n",
       "    <tr>\n",
       "      <th>0</th>\n",
       "      <td>5.10</td>\n",
       "      <td>3.50</td>\n",
       "      <td>1.40</td>\n",
       "      <td>0.20</td>\n",
       "      <td>setosa</td>\n",
       "      <td>0</td>\n",
       "      <td>1.00</td>\n",
       "      <td>0.00</td>\n",
       "      <td>0.00</td>\n",
       "    </tr>\n",
       "    <tr>\n",
       "      <th>1</th>\n",
       "      <td>4.90</td>\n",
       "      <td>3.00</td>\n",
       "      <td>1.40</td>\n",
       "      <td>0.20</td>\n",
       "      <td>setosa</td>\n",
       "      <td>0</td>\n",
       "      <td>1.00</td>\n",
       "      <td>0.00</td>\n",
       "      <td>0.00</td>\n",
       "    </tr>\n",
       "    <tr>\n",
       "      <th>2</th>\n",
       "      <td>4.70</td>\n",
       "      <td>3.20</td>\n",
       "      <td>1.30</td>\n",
       "      <td>0.20</td>\n",
       "      <td>setosa</td>\n",
       "      <td>0</td>\n",
       "      <td>1.00</td>\n",
       "      <td>0.00</td>\n",
       "      <td>0.00</td>\n",
       "    </tr>\n",
       "    <tr>\n",
       "      <th>3</th>\n",
       "      <td>4.60</td>\n",
       "      <td>3.10</td>\n",
       "      <td>1.50</td>\n",
       "      <td>0.20</td>\n",
       "      <td>setosa</td>\n",
       "      <td>0</td>\n",
       "      <td>1.00</td>\n",
       "      <td>0.00</td>\n",
       "      <td>0.00</td>\n",
       "    </tr>\n",
       "    <tr>\n",
       "      <th>4</th>\n",
       "      <td>5.00</td>\n",
       "      <td>3.60</td>\n",
       "      <td>1.40</td>\n",
       "      <td>0.20</td>\n",
       "      <td>setosa</td>\n",
       "      <td>0</td>\n",
       "      <td>1.00</td>\n",
       "      <td>0.00</td>\n",
       "      <td>0.00</td>\n",
       "    </tr>\n",
       "  </tbody>\n",
       "</table>\n",
       "</div>"
      ],
      "text/plain": [
       "     sepal length (cm)     sepal width (cm)    petal length (cm)  \\\n",
       "0                 5.10                 3.50                 1.40   \n",
       "1                 4.90                 3.00                 1.40   \n",
       "2                 4.70                 3.20                 1.30   \n",
       "3                 4.60                 3.10                 1.50   \n",
       "4                 5.00                 3.60                 1.40   \n",
       "\n",
       "      petal width (cm)  target  Dummies               setosa  \\\n",
       "0                 0.20  setosa        0                 1.00   \n",
       "1                 0.20  setosa        0                 1.00   \n",
       "2                 0.20  setosa        0                 1.00   \n",
       "3                 0.20  setosa        0                 1.00   \n",
       "4                 0.20  setosa        0                 1.00   \n",
       "\n",
       "            versicolor            virginica  \n",
       "0                 0.00                 0.00  \n",
       "1                 0.00                 0.00  \n",
       "2                 0.00                 0.00  \n",
       "3                 0.00                 0.00  \n",
       "4                 0.00                 0.00  "
      ]
     },
     "execution_count": 65,
     "metadata": {},
     "output_type": "execute_result"
    }
   ],
   "source": [
    "DF_data.head()"
   ]
  },
  {
   "cell_type": "code",
   "execution_count": 66,
   "metadata": {},
   "outputs": [],
   "source": [
    "DF_data = DF_data.drop(columns=['Dummies', 'target'])"
   ]
  },
  {
   "cell_type": "code",
   "execution_count": 67,
   "metadata": {},
   "outputs": [
    {
     "data": {
      "text/html": [
       "<div>\n",
       "<style scoped>\n",
       "    .dataframe tbody tr th:only-of-type {\n",
       "        vertical-align: middle;\n",
       "    }\n",
       "\n",
       "    .dataframe tbody tr th {\n",
       "        vertical-align: top;\n",
       "    }\n",
       "\n",
       "    .dataframe thead th {\n",
       "        text-align: right;\n",
       "    }\n",
       "</style>\n",
       "<table border=\"1\" class=\"dataframe\">\n",
       "  <thead>\n",
       "    <tr style=\"text-align: right;\">\n",
       "      <th></th>\n",
       "      <th>sepal length (cm)</th>\n",
       "      <th>sepal width (cm)</th>\n",
       "      <th>petal length (cm)</th>\n",
       "      <th>petal width (cm)</th>\n",
       "      <th>setosa</th>\n",
       "      <th>versicolor</th>\n",
       "      <th>virginica</th>\n",
       "    </tr>\n",
       "  </thead>\n",
       "  <tbody>\n",
       "    <tr>\n",
       "      <th>0</th>\n",
       "      <td>5.10</td>\n",
       "      <td>3.50</td>\n",
       "      <td>1.40</td>\n",
       "      <td>0.20</td>\n",
       "      <td>1.00</td>\n",
       "      <td>0.00</td>\n",
       "      <td>0.00</td>\n",
       "    </tr>\n",
       "    <tr>\n",
       "      <th>1</th>\n",
       "      <td>4.90</td>\n",
       "      <td>3.00</td>\n",
       "      <td>1.40</td>\n",
       "      <td>0.20</td>\n",
       "      <td>1.00</td>\n",
       "      <td>0.00</td>\n",
       "      <td>0.00</td>\n",
       "    </tr>\n",
       "    <tr>\n",
       "      <th>2</th>\n",
       "      <td>4.70</td>\n",
       "      <td>3.20</td>\n",
       "      <td>1.30</td>\n",
       "      <td>0.20</td>\n",
       "      <td>1.00</td>\n",
       "      <td>0.00</td>\n",
       "      <td>0.00</td>\n",
       "    </tr>\n",
       "    <tr>\n",
       "      <th>3</th>\n",
       "      <td>4.60</td>\n",
       "      <td>3.10</td>\n",
       "      <td>1.50</td>\n",
       "      <td>0.20</td>\n",
       "      <td>1.00</td>\n",
       "      <td>0.00</td>\n",
       "      <td>0.00</td>\n",
       "    </tr>\n",
       "    <tr>\n",
       "      <th>4</th>\n",
       "      <td>5.00</td>\n",
       "      <td>3.60</td>\n",
       "      <td>1.40</td>\n",
       "      <td>0.20</td>\n",
       "      <td>1.00</td>\n",
       "      <td>0.00</td>\n",
       "      <td>0.00</td>\n",
       "    </tr>\n",
       "  </tbody>\n",
       "</table>\n",
       "</div>"
      ],
      "text/plain": [
       "     sepal length (cm)     sepal width (cm)    petal length (cm)  \\\n",
       "0                 5.10                 3.50                 1.40   \n",
       "1                 4.90                 3.00                 1.40   \n",
       "2                 4.70                 3.20                 1.30   \n",
       "3                 4.60                 3.10                 1.50   \n",
       "4                 5.00                 3.60                 1.40   \n",
       "\n",
       "      petal width (cm)               setosa           versicolor  \\\n",
       "0                 0.20                 1.00                 0.00   \n",
       "1                 0.20                 1.00                 0.00   \n",
       "2                 0.20                 1.00                 0.00   \n",
       "3                 0.20                 1.00                 0.00   \n",
       "4                 0.20                 1.00                 0.00   \n",
       "\n",
       "             virginica  \n",
       "0                 0.00  \n",
       "1                 0.00  \n",
       "2                 0.00  \n",
       "3                 0.00  \n",
       "4                 0.00  "
      ]
     },
     "execution_count": 67,
     "metadata": {},
     "output_type": "execute_result"
    }
   ],
   "source": [
    "DF_data.head()"
   ]
  },
  {
   "cell_type": "markdown",
   "metadata": {},
   "source": [
    "**Para aprendizado de máquina, é quase certo que você queira usar sklearn.OneHotEncoder. Para outras tarefas, como análises simples, você pode usar pd.get_dummies, o que é um pouco mais conveniente.**\n",
    "\n",
    "Observe que sklearn.OneHotEncoder foi atualizado na versão mais recente para que **aceite strings para variáveis categóricas**, bem como inteiros.\n",
    "\n",
    "O ponto crucial é que o sklearn encoder cria uma função que **persiste** e pode **então ser aplicada a novos conjuntos de dados que usam as mesmas variáveis categóricas, com resultados consistentes.**\n",
    "\n",
    "<code>\n",
    "from sklearn.preprocessing import OneHotEncoder\n",
    "\n",
    "#Create the encoder.\n",
    "encoder = OneHotEncoder(handle_unknown=\"ignore\")\n",
    "encoder.fit(X_train)    # Assume for simplicity all features are categorical.\n",
    "\n",
    "#Apply the encoder.\n",
    "X_train = encoder.transform(X_train)\n",
    "X_test = encoder.transform(X_test)\n",
    "    \n",
    "</code>\n",
    "\n",
    "Observe como aplicamos o mesmo codificador que criamos X_train ao novo conjunto de dados X_test.\n",
    "\n",
    "Considere o que acontece se X_test contiver níveis diferentes de X_train uma de suas variáveis. Por exemplo, digamos que X_train[\"color\"] contém apenas \"red\" e \"green\", mas além desses, X_test[\"color\"] às vezes contém \"blue\".\n",
    "\n",
    "Se usarmos pd.get_dummies, X_test acabará com uma \"color_blue\"coluna adicional que X_train não tem, e a inconsistência provavelmente quebrará nosso código mais tarde, especialmente se estivermos alimentando X_test um sklearnmodel no qual treinamos X_train.\n",
    "\n",
    "E se quisermos processar os dados como este na produção, onde recebemos um único exemplo de cada vez, pd.get_dummies não será útil.\n",
    "\n",
    "OneHotEncoder por outro lado, depois de criar o codificador, podemos reutilizá-lo para produzir a mesma saída todas as vezes, com colunas apenas para \"red\" e \"green\". E podemos controlar explicitamente o que acontece quando ele encontra o novo nível \"blue\": se pensarmos que isso é impossível, podemos dizer para ele lançar um erro com handle_unknown=\"error\"; caso contrário, podemos dizer para continuar e simplesmente definir as colunas vermelha e verde como 0, com handle_unknown=\"ignore\"."
   ]
  },
  {
   "cell_type": "markdown",
   "metadata": {},
   "source": [
    "# Agrupando as variáveis #\n",
    "\n",
    "### O binning (ou bucketing) de dados agrupa os dados em bins (ou buckets), no sentido de que substitui os valores contidos em um pequeno intervalo por um único valor representativo para esse intervalo. Às vezes, binning melhora a precisão em modelos preditivos. ###"
   ]
  },
  {
   "cell_type": "code",
   "execution_count": 68,
   "metadata": {},
   "outputs": [],
   "source": [
    "dfbanco = pd.read_csv('DataSets/Banco.csv',sep=';')"
   ]
  },
  {
   "cell_type": "code",
   "execution_count": 69,
   "metadata": {},
   "outputs": [
    {
     "data": {
      "text/plain": [
       "Unnamed: 0          int64\n",
       "id                  int64\n",
       "datanasc           object\n",
       "sexo               object\n",
       "estudo              int64\n",
       "catemp             object\n",
       "salario           float64\n",
       "salarin           float64\n",
       "temp_ser            int64\n",
       "cartao_credito      int64\n",
       "Emprestimos        object\n",
       "data_atual         object\n",
       "idade               int64\n",
       "dtype: object"
      ]
     },
     "execution_count": 69,
     "metadata": {},
     "output_type": "execute_result"
    }
   ],
   "source": [
    "dfbanco.dtypes"
   ]
  },
  {
   "cell_type": "code",
   "execution_count": 70,
   "metadata": {},
   "outputs": [
    {
     "data": {
      "text/html": [
       "<div>\n",
       "<style scoped>\n",
       "    .dataframe tbody tr th:only-of-type {\n",
       "        vertical-align: middle;\n",
       "    }\n",
       "\n",
       "    .dataframe tbody tr th {\n",
       "        vertical-align: top;\n",
       "    }\n",
       "\n",
       "    .dataframe thead th {\n",
       "        text-align: right;\n",
       "    }\n",
       "</style>\n",
       "<table border=\"1\" class=\"dataframe\">\n",
       "  <thead>\n",
       "    <tr style=\"text-align: right;\">\n",
       "      <th></th>\n",
       "      <th>Unnamed: 0</th>\n",
       "      <th>id</th>\n",
       "      <th>datanasc</th>\n",
       "      <th>sexo</th>\n",
       "      <th>estudo</th>\n",
       "      <th>catemp</th>\n",
       "      <th>salario</th>\n",
       "      <th>salarin</th>\n",
       "      <th>temp_ser</th>\n",
       "      <th>cartao_credito</th>\n",
       "      <th>Emprestimos</th>\n",
       "      <th>data_atual</th>\n",
       "      <th>idade</th>\n",
       "    </tr>\n",
       "  </thead>\n",
       "  <tbody>\n",
       "    <tr>\n",
       "      <th>0</th>\n",
       "      <td>1</td>\n",
       "      <td>474</td>\n",
       "      <td>05/11/1968</td>\n",
       "      <td>Feminino</td>\n",
       "      <td>12</td>\n",
       "      <td>C</td>\n",
       "      <td>29,400.00</td>\n",
       "      <td>NaN</td>\n",
       "      <td>63</td>\n",
       "      <td>5880</td>\n",
       "      <td>2940</td>\n",
       "      <td>24/11/2020</td>\n",
       "      <td>52</td>\n",
       "    </tr>\n",
       "    <tr>\n",
       "      <th>1</th>\n",
       "      <td>2</td>\n",
       "      <td>473</td>\n",
       "      <td>25/11/1937</td>\n",
       "      <td>Feminino</td>\n",
       "      <td>12</td>\n",
       "      <td>C</td>\n",
       "      <td>21,450.00</td>\n",
       "      <td>12,750.00</td>\n",
       "      <td>63</td>\n",
       "      <td>4290</td>\n",
       "      <td>2145</td>\n",
       "      <td>24/11/2020</td>\n",
       "      <td>83</td>\n",
       "    </tr>\n",
       "    <tr>\n",
       "      <th>2</th>\n",
       "      <td>3</td>\n",
       "      <td>472</td>\n",
       "      <td>21/02/1966</td>\n",
       "      <td>Masculino</td>\n",
       "      <td>15</td>\n",
       "      <td>C</td>\n",
       "      <td>39,150.00</td>\n",
       "      <td>15,750.00</td>\n",
       "      <td>63</td>\n",
       "      <td>7830</td>\n",
       "      <td>3915</td>\n",
       "      <td>24/11/2020</td>\n",
       "      <td>55</td>\n",
       "    </tr>\n",
       "    <tr>\n",
       "      <th>3</th>\n",
       "      <td>4</td>\n",
       "      <td>471</td>\n",
       "      <td>03/08/1966</td>\n",
       "      <td>Masculino</td>\n",
       "      <td>15</td>\n",
       "      <td>C</td>\n",
       "      <td>26,400.00</td>\n",
       "      <td>15,750.00</td>\n",
       "      <td>64</td>\n",
       "      <td>5280</td>\n",
       "      <td>2640</td>\n",
       "      <td>24/11/2020</td>\n",
       "      <td>54</td>\n",
       "    </tr>\n",
       "    <tr>\n",
       "      <th>4</th>\n",
       "      <td>5</td>\n",
       "      <td>470</td>\n",
       "      <td>22/01/1964</td>\n",
       "      <td>Masculino</td>\n",
       "      <td>12</td>\n",
       "      <td>C</td>\n",
       "      <td>26,250.00</td>\n",
       "      <td>15,750.00</td>\n",
       "      <td>64</td>\n",
       "      <td>5250</td>\n",
       "      <td>2625</td>\n",
       "      <td>24/11/2020</td>\n",
       "      <td>57</td>\n",
       "    </tr>\n",
       "  </tbody>\n",
       "</table>\n",
       "</div>"
      ],
      "text/plain": [
       "   Unnamed: 0   id    datanasc       sexo  estudo catemp              salario  \\\n",
       "0           1  474  05/11/1968   Feminino      12      C            29,400.00   \n",
       "1           2  473  25/11/1937   Feminino      12      C            21,450.00   \n",
       "2           3  472  21/02/1966  Masculino      15      C            39,150.00   \n",
       "3           4  471  03/08/1966  Masculino      15      C            26,400.00   \n",
       "4           5  470  22/01/1964  Masculino      12      C            26,250.00   \n",
       "\n",
       "               salarin  temp_ser  cartao_credito Emprestimos  data_atual  \\\n",
       "0                  NaN        63            5880        2940  24/11/2020   \n",
       "1            12,750.00        63            4290        2145  24/11/2020   \n",
       "2            15,750.00        63            7830        3915  24/11/2020   \n",
       "3            15,750.00        64            5280        2640  24/11/2020   \n",
       "4            15,750.00        64            5250        2625  24/11/2020   \n",
       "\n",
       "   idade  \n",
       "0     52  \n",
       "1     83  \n",
       "2     55  \n",
       "3     54  \n",
       "4     57  "
      ]
     },
     "execution_count": 70,
     "metadata": {},
     "output_type": "execute_result"
    }
   ],
   "source": [
    "dfbanco.head()"
   ]
  },
  {
   "cell_type": "code",
   "execution_count": 71,
   "metadata": {},
   "outputs": [
    {
     "data": {
      "text/plain": [
       "Unnamed: 0        0\n",
       "id                0\n",
       "datanasc          0\n",
       "sexo              0\n",
       "estudo            0\n",
       "catemp            0\n",
       "salario           0\n",
       "salarin           1\n",
       "temp_ser          0\n",
       "cartao_credito    0\n",
       "Emprestimos       0\n",
       "data_atual        0\n",
       "idade             0\n",
       "dtype: int64"
      ]
     },
     "execution_count": 71,
     "metadata": {},
     "output_type": "execute_result"
    }
   ],
   "source": [
    "dfbanco.apply(lambda x: sum(x.isnull()),axis=0)"
   ]
  },
  {
   "cell_type": "code",
   "execution_count": 72,
   "metadata": {},
   "outputs": [
    {
     "data": {
      "text/html": [
       "<div>\n",
       "<style scoped>\n",
       "    .dataframe tbody tr th:only-of-type {\n",
       "        vertical-align: middle;\n",
       "    }\n",
       "\n",
       "    .dataframe tbody tr th {\n",
       "        vertical-align: top;\n",
       "    }\n",
       "\n",
       "    .dataframe thead th {\n",
       "        text-align: right;\n",
       "    }\n",
       "</style>\n",
       "<table border=\"1\" class=\"dataframe\">\n",
       "  <thead>\n",
       "    <tr style=\"text-align: right;\">\n",
       "      <th></th>\n",
       "      <th>Unnamed: 0</th>\n",
       "      <th>id</th>\n",
       "      <th>estudo</th>\n",
       "      <th>salario</th>\n",
       "      <th>salarin</th>\n",
       "      <th>temp_ser</th>\n",
       "      <th>cartao_credito</th>\n",
       "      <th>idade</th>\n",
       "    </tr>\n",
       "  </thead>\n",
       "  <tbody>\n",
       "    <tr>\n",
       "      <th>count</th>\n",
       "      <td>512.00</td>\n",
       "      <td>512.00</td>\n",
       "      <td>512.00</td>\n",
       "      <td>512.00</td>\n",
       "      <td>511.00</td>\n",
       "      <td>512.00</td>\n",
       "      <td>512.00</td>\n",
       "      <td>512.00</td>\n",
       "    </tr>\n",
       "    <tr>\n",
       "      <th>mean</th>\n",
       "      <td>256.50</td>\n",
       "      <td>235.64</td>\n",
       "      <td>13.55</td>\n",
       "      <td>34,997.09</td>\n",
       "      <td>17,179.56</td>\n",
       "      <td>81.24</td>\n",
       "      <td>6,999.42</td>\n",
       "      <td>64.05</td>\n",
       "    </tr>\n",
       "    <tr>\n",
       "      <th>std</th>\n",
       "      <td>147.95</td>\n",
       "      <td>144.72</td>\n",
       "      <td>2.89</td>\n",
       "      <td>18,156.07</td>\n",
       "      <td>8,378.08</td>\n",
       "      <td>10.63</td>\n",
       "      <td>3,631.21</td>\n",
       "      <td>11.69</td>\n",
       "    </tr>\n",
       "    <tr>\n",
       "      <th>min</th>\n",
       "      <td>1.00</td>\n",
       "      <td>1.00</td>\n",
       "      <td>8.00</td>\n",
       "      <td>15,750.00</td>\n",
       "      <td>9,000.00</td>\n",
       "      <td>63.00</td>\n",
       "      <td>3,150.00</td>\n",
       "      <td>50.00</td>\n",
       "    </tr>\n",
       "    <tr>\n",
       "      <th>25%</th>\n",
       "      <td>128.75</td>\n",
       "      <td>106.75</td>\n",
       "      <td>12.00</td>\n",
       "      <td>24,000.00</td>\n",
       "      <td>12,750.00</td>\n",
       "      <td>72.00</td>\n",
       "      <td>4,800.00</td>\n",
       "      <td>55.00</td>\n",
       "    </tr>\n",
       "    <tr>\n",
       "      <th>50%</th>\n",
       "      <td>256.50</td>\n",
       "      <td>234.50</td>\n",
       "      <td>12.00</td>\n",
       "      <td>29,100.00</td>\n",
       "      <td>15,000.00</td>\n",
       "      <td>81.00</td>\n",
       "      <td>5,820.00</td>\n",
       "      <td>59.00</td>\n",
       "    </tr>\n",
       "    <tr>\n",
       "      <th>75%</th>\n",
       "      <td>384.25</td>\n",
       "      <td>362.25</td>\n",
       "      <td>15.00</td>\n",
       "      <td>37,950.00</td>\n",
       "      <td>17,745.00</td>\n",
       "      <td>91.00</td>\n",
       "      <td>7,590.00</td>\n",
       "      <td>72.00</td>\n",
       "    </tr>\n",
       "    <tr>\n",
       "      <th>max</th>\n",
       "      <td>512.00</td>\n",
       "      <td>474.00</td>\n",
       "      <td>21.00</td>\n",
       "      <td>135,000.00</td>\n",
       "      <td>79,980.00</td>\n",
       "      <td>98.00</td>\n",
       "      <td>27,000.00</td>\n",
       "      <td>92.00</td>\n",
       "    </tr>\n",
       "  </tbody>\n",
       "</table>\n",
       "</div>"
      ],
      "text/plain": [
       "                Unnamed: 0                   id               estudo  \\\n",
       "count               512.00               512.00               512.00   \n",
       "mean                256.50               235.64                13.55   \n",
       "std                 147.95               144.72                 2.89   \n",
       "min                   1.00                 1.00                 8.00   \n",
       "25%                 128.75               106.75                12.00   \n",
       "50%                 256.50               234.50                12.00   \n",
       "75%                 384.25               362.25                15.00   \n",
       "max                 512.00               474.00                21.00   \n",
       "\n",
       "                   salario              salarin             temp_ser  \\\n",
       "count               512.00               511.00               512.00   \n",
       "mean             34,997.09            17,179.56                81.24   \n",
       "std              18,156.07             8,378.08                10.63   \n",
       "min              15,750.00             9,000.00                63.00   \n",
       "25%              24,000.00            12,750.00                72.00   \n",
       "50%              29,100.00            15,000.00                81.00   \n",
       "75%              37,950.00            17,745.00                91.00   \n",
       "max             135,000.00            79,980.00                98.00   \n",
       "\n",
       "            cartao_credito                idade  \n",
       "count               512.00               512.00  \n",
       "mean              6,999.42                64.05  \n",
       "std               3,631.21                11.69  \n",
       "min               3,150.00                50.00  \n",
       "25%               4,800.00                55.00  \n",
       "50%               5,820.00                59.00  \n",
       "75%               7,590.00                72.00  \n",
       "max              27,000.00                92.00  "
      ]
     },
     "execution_count": 72,
     "metadata": {},
     "output_type": "execute_result"
    }
   ],
   "source": [
    "dfbanco.describe()"
   ]
  },
  {
   "cell_type": "code",
   "execution_count": 73,
   "metadata": {},
   "outputs": [],
   "source": [
    "dfbanco['salarin'].fillna(dfbanco['salarin'].min(), inplace=True) # para ajustar o que possui valor nulo, joguei o mínimo\n",
    "\n",
    "# Poderia usar outras formas:\n",
    "# df['LoanAmount'].fillna(df['LoanAmount'].mean(), inplace=True) ### Para valores\n",
    "# df['Self_Employed'].fillna('No',inplace=True) ### Para padronizar dados\n",
    "# df['Gender'].fillna(df['Gender'].mode()[0], inplace=True) ### Para padronizar dados categóricos"
   ]
  },
  {
   "cell_type": "code",
   "execution_count": 74,
   "metadata": {},
   "outputs": [
    {
     "data": {
      "text/plain": [
       "Unnamed: 0        0\n",
       "id                0\n",
       "datanasc          0\n",
       "sexo              0\n",
       "estudo            0\n",
       "catemp            0\n",
       "salario           0\n",
       "salarin           0\n",
       "temp_ser          0\n",
       "cartao_credito    0\n",
       "Emprestimos       0\n",
       "data_atual        0\n",
       "idade             0\n",
       "dtype: int64"
      ]
     },
     "execution_count": 74,
     "metadata": {},
     "output_type": "execute_result"
    }
   ],
   "source": [
    "dfbanco.apply(lambda x: sum(x.isnull()),axis=0)"
   ]
  },
  {
   "cell_type": "code",
   "execution_count": 75,
   "metadata": {},
   "outputs": [
    {
     "data": {
      "text/html": [
       "<div>\n",
       "<style scoped>\n",
       "    .dataframe tbody tr th:only-of-type {\n",
       "        vertical-align: middle;\n",
       "    }\n",
       "\n",
       "    .dataframe tbody tr th {\n",
       "        vertical-align: top;\n",
       "    }\n",
       "\n",
       "    .dataframe thead th {\n",
       "        text-align: right;\n",
       "    }\n",
       "</style>\n",
       "<table border=\"1\" class=\"dataframe\">\n",
       "  <thead>\n",
       "    <tr style=\"text-align: right;\">\n",
       "      <th></th>\n",
       "      <th>Unnamed: 0</th>\n",
       "      <th>id</th>\n",
       "      <th>estudo</th>\n",
       "      <th>salario</th>\n",
       "      <th>salarin</th>\n",
       "      <th>temp_ser</th>\n",
       "      <th>cartao_credito</th>\n",
       "      <th>idade</th>\n",
       "    </tr>\n",
       "  </thead>\n",
       "  <tbody>\n",
       "    <tr>\n",
       "      <th>count</th>\n",
       "      <td>512.00</td>\n",
       "      <td>512.00</td>\n",
       "      <td>512.00</td>\n",
       "      <td>512.00</td>\n",
       "      <td>512.00</td>\n",
       "      <td>512.00</td>\n",
       "      <td>512.00</td>\n",
       "      <td>512.00</td>\n",
       "    </tr>\n",
       "    <tr>\n",
       "      <th>mean</th>\n",
       "      <td>256.50</td>\n",
       "      <td>235.64</td>\n",
       "      <td>13.55</td>\n",
       "      <td>34,997.09</td>\n",
       "      <td>17,163.58</td>\n",
       "      <td>81.24</td>\n",
       "      <td>6,999.42</td>\n",
       "      <td>64.05</td>\n",
       "    </tr>\n",
       "    <tr>\n",
       "      <th>std</th>\n",
       "      <td>147.95</td>\n",
       "      <td>144.72</td>\n",
       "      <td>2.89</td>\n",
       "      <td>18,156.07</td>\n",
       "      <td>8,377.68</td>\n",
       "      <td>10.63</td>\n",
       "      <td>3,631.21</td>\n",
       "      <td>11.69</td>\n",
       "    </tr>\n",
       "    <tr>\n",
       "      <th>min</th>\n",
       "      <td>1.00</td>\n",
       "      <td>1.00</td>\n",
       "      <td>8.00</td>\n",
       "      <td>15,750.00</td>\n",
       "      <td>9,000.00</td>\n",
       "      <td>63.00</td>\n",
       "      <td>3,150.00</td>\n",
       "      <td>50.00</td>\n",
       "    </tr>\n",
       "    <tr>\n",
       "      <th>25%</th>\n",
       "      <td>128.75</td>\n",
       "      <td>106.75</td>\n",
       "      <td>12.00</td>\n",
       "      <td>24,000.00</td>\n",
       "      <td>12,712.50</td>\n",
       "      <td>72.00</td>\n",
       "      <td>4,800.00</td>\n",
       "      <td>55.00</td>\n",
       "    </tr>\n",
       "    <tr>\n",
       "      <th>50%</th>\n",
       "      <td>256.50</td>\n",
       "      <td>234.50</td>\n",
       "      <td>12.00</td>\n",
       "      <td>29,100.00</td>\n",
       "      <td>15,000.00</td>\n",
       "      <td>81.00</td>\n",
       "      <td>5,820.00</td>\n",
       "      <td>59.00</td>\n",
       "    </tr>\n",
       "    <tr>\n",
       "      <th>75%</th>\n",
       "      <td>384.25</td>\n",
       "      <td>362.25</td>\n",
       "      <td>15.00</td>\n",
       "      <td>37,950.00</td>\n",
       "      <td>17,617.50</td>\n",
       "      <td>91.00</td>\n",
       "      <td>7,590.00</td>\n",
       "      <td>72.00</td>\n",
       "    </tr>\n",
       "    <tr>\n",
       "      <th>max</th>\n",
       "      <td>512.00</td>\n",
       "      <td>474.00</td>\n",
       "      <td>21.00</td>\n",
       "      <td>135,000.00</td>\n",
       "      <td>79,980.00</td>\n",
       "      <td>98.00</td>\n",
       "      <td>27,000.00</td>\n",
       "      <td>92.00</td>\n",
       "    </tr>\n",
       "  </tbody>\n",
       "</table>\n",
       "</div>"
      ],
      "text/plain": [
       "                Unnamed: 0                   id               estudo  \\\n",
       "count               512.00               512.00               512.00   \n",
       "mean                256.50               235.64                13.55   \n",
       "std                 147.95               144.72                 2.89   \n",
       "min                   1.00                 1.00                 8.00   \n",
       "25%                 128.75               106.75                12.00   \n",
       "50%                 256.50               234.50                12.00   \n",
       "75%                 384.25               362.25                15.00   \n",
       "max                 512.00               474.00                21.00   \n",
       "\n",
       "                   salario              salarin             temp_ser  \\\n",
       "count               512.00               512.00               512.00   \n",
       "mean             34,997.09            17,163.58                81.24   \n",
       "std              18,156.07             8,377.68                10.63   \n",
       "min              15,750.00             9,000.00                63.00   \n",
       "25%              24,000.00            12,712.50                72.00   \n",
       "50%              29,100.00            15,000.00                81.00   \n",
       "75%              37,950.00            17,617.50                91.00   \n",
       "max             135,000.00            79,980.00                98.00   \n",
       "\n",
       "            cartao_credito                idade  \n",
       "count               512.00               512.00  \n",
       "mean              6,999.42                64.05  \n",
       "std               3,631.21                11.69  \n",
       "min               3,150.00                50.00  \n",
       "25%               4,800.00                55.00  \n",
       "50%               5,820.00                59.00  \n",
       "75%               7,590.00                72.00  \n",
       "max              27,000.00                92.00  "
      ]
     },
     "execution_count": 75,
     "metadata": {},
     "output_type": "execute_result"
    }
   ],
   "source": [
    "dfbanco.describe()"
   ]
  },
  {
   "cell_type": "markdown",
   "metadata": {},
   "source": [
    "### Binning por distância ###\n",
    "\n",
    "Nesse caso, definimos as bordas de cada compartimento. Em Python, o pandasbinning por distância é realizado por meio da cut()função."
   ]
  },
  {
   "cell_type": "code",
   "execution_count": 76,
   "metadata": {},
   "outputs": [
    {
     "name": "stdout",
     "output_type": "stream",
     "text": [
      "15750.0\n",
      "135000.0\n"
     ]
    }
   ],
   "source": [
    "min_value = dfbanco['salario'].min() \n",
    "max_value =dfbanco['salario'].max() \n",
    "print (min_value) \n",
    "print (max_value)"
   ]
  },
  {
   "cell_type": "markdown",
   "metadata": {},
   "source": [
    "Agora criamos 3 grupos usando a função **linspace** do Numpy"
   ]
  },
  {
   "cell_type": "code",
   "execution_count": 77,
   "metadata": {},
   "outputs": [
    {
     "data": {
      "text/plain": [
       "array([ 15750.,  55500.,  95250., 135000.])"
      ]
     },
     "execution_count": 77,
     "metadata": {},
     "output_type": "execute_result"
    }
   ],
   "source": [
    "bins = np.linspace (min_value, max_value, 4) \n",
    "bins"
   ]
  },
  {
   "cell_type": "markdown",
   "metadata": {},
   "source": [
    "Definimos os rótulos e usuamos a função cut para quebrar os valores nos grupos"
   ]
  },
  {
   "cell_type": "code",
   "execution_count": 78,
   "metadata": {},
   "outputs": [],
   "source": [
    "labels = ['pequeno', 'medio', 'grande']\n",
    "dfbanco['bins'] = pd.cut(dfbanco['salario'], bins=bins, labels=labels, include_lowest=True)"
   ]
  },
  {
   "cell_type": "markdown",
   "metadata": {},
   "source": [
    "Agora podemos ver como estão espalhados"
   ]
  },
  {
   "cell_type": "code",
   "execution_count": 79,
   "metadata": {},
   "outputs": [
    {
     "data": {
      "image/png": "[encoded data removed]",
      "text/plain": [
       "<Figure size 432x288 with 1 Axes>"
      ]
     },
     "metadata": {
      "needs_background": "light"
     },
     "output_type": "display_data"
    }
   ],
   "source": [
    "plt.hist(dfbanco['bins'], bins=3);"
   ]
  },
  {
   "cell_type": "markdown",
   "metadata": {},
   "source": [
    "Você pode definir os grupos manualmente"
   ]
  },
  {
   "cell_type": "code",
   "execution_count": 80,
   "metadata": {},
   "outputs": [
    {
     "data": {
      "image/png": "[encoded data removed]",
      "text/plain": [
       "<Figure size 432x288 with 1 Axes>"
      ]
     },
     "metadata": {
      "needs_background": "light"
     },
     "output_type": "display_data"
    }
   ],
   "source": [
    "bins = [ 0, 30000, 50000, 10000000 ]\n",
    "dfbanco['bin_cut_manual'] = pd.cut(dfbanco['salario'] , bins=bins, labels=labels, include_lowest=True)\n",
    "plt.hist(dfbanco['bin_cut_manual'], bins=3)\n",
    "plt.show()"
   ]
  },
  {
   "cell_type": "markdown",
   "metadata": {},
   "source": [
    "### Binning por frequência ###\n",
    "A categorização por frequência calcula o tamanho de cada caixa de forma que cada caixa contenha o (quase) mesmo número de observações, mas o intervalo da categoria irá variar. Podemos usar a função qcut() do Pandas. Podemos definir a parâmetro de precisão para definir o número de casas decimais."
   ]
  },
  {
   "cell_type": "code",
   "execution_count": 81,
   "metadata": {},
   "outputs": [
    {
     "data": {
      "image/png": "[encoded data removed]",
      "text/plain": [
       "<Figure size 432x288 with 1 Axes>"
      ]
     },
     "metadata": {
      "needs_background": "light"
     },
     "output_type": "display_data"
    }
   ],
   "source": [
    "dfbanco['bin_qcut'] = pd.qcut(dfbanco['salario'], q=3, precision=1, labels=labels)\n",
    "plt.hist(dfbanco['bin_qcut'], bins=3)\n",
    "plt.show()"
   ]
  },
  {
   "cell_type": "markdown",
   "metadata": {},
   "source": [
    "### Binning por Amostragem ###\n",
    "A amostragem é outra técnica de binning de dados. Permite reduzir o número de amostras, agrupando valores semelhantes ou valores contíguos. Existem três abordagens para realizar a amostragem:\n",
    "por bin significa: cada valor em um bin é substituído pelo valor médio do bin.\n",
    "por bin median: cada valor bin é substituído por seu valor bin median.\n",
    "por limite de bin: cada valor de bin é substituído pelo valor de limite mais próximo, ou seja, valor máximo ou mínimo do bin.\n",
    "\n",
    "Para realizar a amostragem, a binned_statistic() função da scipy.statsembalagem pode ser usada. Esta função recebe duas matrizes como entrada, x_data e y_data, assim como as estatísticas a serem usadas (por exemplo, mediana ou média) e o número de bins a serem criados. A função retorna os valores das caixas, bem como as bordas de cada caixa."
   ]
  },
  {
   "cell_type": "code",
   "execution_count": 82,
   "metadata": {},
   "outputs": [],
   "source": [
    "from scipy.stats import binned_statistic \n",
    "x_data = np.arange (0, len (dfbanco)) \n",
    "y_data = dfbanco['salario'] \n",
    "x_bins, bin_edges, misc = binned_statistic (y_data, x_data, statistic = \"median\", bins = 2)"
   ]
  },
  {
   "cell_type": "markdown",
   "metadata": {},
   "source": [
    "Agora devemos aproximar cada valor da coluna **dfbanco['salario']** ao valor mediano do bin correspondente. Assim, convertemos as bordas do compartimento em um IntervalIndex, que recebe como índice as bordas esquerda e direita de cada intervalo. Em nosso caso, as bordas esquerdas começam no início das bordas da caixa e não contêm o último valor das bordas da caixa. Em vez disso, as bordas direitas começam a partir do segundo valor das bordas do compartimento e duram até o último valor."
   ]
  },
  {
   "cell_type": "code",
   "execution_count": 83,
   "metadata": {},
   "outputs": [],
   "source": [
    "bin_intervals = pd.IntervalIndex.from_arrays (bin_edges [: - 1], bin_edges [1:])"
   ]
  },
  {
   "cell_type": "markdown",
   "metadata": {},
   "source": [
    "Podemos quantizar a coluna Salário definindo uma função set_to_median() que percorre os intervalos e, quando encontra o intervalo correto, retorna o valor médio."
   ]
  },
  {
   "cell_type": "code",
   "execution_count": 84,
   "metadata": {},
   "outputs": [],
   "source": [
    "def set_to_median (x, bin_intervals): \n",
    "    for interval in bin_intervals: \n",
    "        if x in interval: \n",
    "            return interval.mid"
   ]
  },
  {
   "cell_type": "markdown",
   "metadata": {},
   "source": [
    "Usamos a função apply() para aplicar o set_to_median() à coluna Salário."
   ]
  },
  {
   "cell_type": "code",
   "execution_count": 85,
   "metadata": {},
   "outputs": [],
   "source": [
    "dfbanco['sampled_salario'] = dfbanco['salario'].apply(lambda x: set_to_median (x, bin_intervals))"
   ]
  },
  {
   "cell_type": "code",
   "execution_count": 86,
   "metadata": {},
   "outputs": [
    {
     "data": {
      "image/png": "[encoded data removed]",
      "text/plain": [
       "<Figure size 432x288 with 1 Axes>"
      ]
     },
     "metadata": {
      "needs_background": "light"
     },
     "output_type": "display_data"
    }
   ],
   "source": [
    "plt.plot (dfbanco ['salario'], label = 'original') \n",
    "plt.plot (dfbanco ['sampled_salario'], color = 'red', label = 'sampled') \n",
    "plt.legend () \n",
    "plt.show ()"
   ]
  },
  {
   "cell_type": "markdown",
   "metadata": {},
   "source": [
    "Finalmente, podemos plotar os valores medianos. Podemos calcular os valores de y(y_bins) correspondentes aos valores categorizados (x_bins) como os valores no centro do intervalo de compartimentos."
   ]
  },
  {
   "cell_type": "code",
   "execution_count": 87,
   "metadata": {},
   "outputs": [
    {
     "data": {
      "text/plain": [
       "array([ 45562.5, 105187.5])"
      ]
     },
     "execution_count": 87,
     "metadata": {},
     "output_type": "execute_result"
    }
   ],
   "source": [
    "y_bins = (bin_edges [: - 1] + bin_edges [1:]) / 2 \n",
    "y_bins"
   ]
  },
  {
   "cell_type": "markdown",
   "metadata": {},
   "source": [
    "Então planejamos:"
   ]
  },
  {
   "cell_type": "code",
   "execution_count": 88,
   "metadata": {},
   "outputs": [
    {
     "data": {
      "image/png": "[encoded data removed]",
      "text/plain": [
       "<Figure size 432x288 with 1 Axes>"
      ]
     },
     "metadata": {
      "needs_background": "light"
     },
     "output_type": "display_data"
    }
   ],
   "source": [
    "plt.plot (x_data, y_data) \n",
    "plt.xlabel (\"X\"); \n",
    "plt.ylabel (\"Y\")\n",
    "plt.scatter (x_bins, y_bins, color = 'red', linewidth = 5) \n",
    "plt.show ()"
   ]
  },
  {
   "cell_type": "markdown",
   "metadata": {},
   "source": [
    "### Calcule as quebras naturais nos dados ###\n",
    "\n",
    "Podemos usar o pacote jenkspy, que contém uma única função, chamada jenks_breaks(), que calcula as quebras naturais de um array, explorando o algoritmo de Fisher-Jenks . Podemos instalar o pacote executando pip install jenkspy."
   ]
  },
  {
   "cell_type": "code",
   "execution_count": 89,
   "metadata": {},
   "outputs": [],
   "source": [
    "import jenkspy \n",
    "breaks = jenkspy.jenks_breaks (dfbanco['salario'], nb_class = 3)"
   ]
  },
  {
   "cell_type": "markdown",
   "metadata": {},
   "source": [
    "Agora podemos usar a cut()função para transformar dados em rótulos."
   ]
  },
  {
   "cell_type": "code",
   "execution_count": 90,
   "metadata": {},
   "outputs": [],
   "source": [
    "dfbanco['bin_cut_break'] = pd.cut(dfbanco['salario'], bins=breaks, labels = labels, include_lowest = True)"
   ]
  },
  {
   "cell_type": "markdown",
   "metadata": {},
   "source": [
    "Agora podemos plotar o resultado:"
   ]
  },
  {
   "cell_type": "code",
   "execution_count": 91,
   "metadata": {},
   "outputs": [
    {
     "data": {
      "image/png": "[encoded data removed]",
      "text/plain": [
       "<Figure size 432x288 with 1 Axes>"
      ]
     },
     "metadata": {
      "needs_background": "light"
     },
     "output_type": "display_data"
    }
   ],
   "source": [
    "plt.hist(dfbanco['bin_cut_break'], bins=3)\n",
    "plt.show()"
   ]
  }
 ],
 "metadata": {
  "colab": {
   "collapsed_sections": [],
   "name": "AnaliseDescritiva.ipynb",
   "provenance": []
  },
  "kernelspec": {
   "display_name": "Python 3",
   "language": "python",
   "name": "python3"
  },
  "language_info": {
   "codemirror_mode": {
    "name": "ipython",
    "version": 3
   },
   "file_extension": ".py",
   "mimetype": "text/x-python",
   "name": "python",
   "nbconvert_exporter": "python",
   "pygments_lexer": "ipython3",
   "version": "3.8.10"
  }
 },
 "nbformat": 4,
 "nbformat_minor": 1
}
